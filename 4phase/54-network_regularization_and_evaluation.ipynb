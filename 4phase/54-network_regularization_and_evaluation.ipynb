{
 "cells": [
  {
   "cell_type": "markdown",
   "metadata": {
    "heading_collapsed": true,
    "slideshow": {
     "slide_type": "slide"
    }
   },
   "source": [
    "# Regularization and Evaluation of Neural Networks"
   ]
  },
  {
   "cell_type": "markdown",
   "metadata": {
    "hidden": true
   },
   "source": [
    "<a href=\"https://colab.research.google.com/github/flatiron-school/NTL01-DTSC-LIVE-040323/blob/main/4phase/63-network_regularization_and_evaluation.ipynb\" \n",
    "target=\"_parent\"><img src=\"https://colab.research.google.com/assets/colab-badge.svg\" alt=\"Open In Colab\"/></a>"
   ]
  },
  {
   "cell_type": "code",
   "execution_count": 41,
   "metadata": {
    "ExecuteTime": {
     "end_time": "2023-10-16T03:20:10.137492Z",
     "start_time": "2023-10-16T03:20:10.024487Z"
    },
    "hidden": true,
    "scrolled": true
   },
   "outputs": [
    {
     "ename": "ImportError",
     "evalue": "SciKeras requires TensorFlow >= 2.7.0.",
     "output_type": "error",
     "traceback": [
      "\u001b[1;31m---------------------------------------------------------------------------\u001b[0m",
      "\u001b[1;31mImportError\u001b[0m                               Traceback (most recent call last)",
      "\u001b[1;32m<ipython-input-41-4c6fd01e5961>\u001b[0m in \u001b[0;36m<module>\u001b[1;34m\u001b[0m\n\u001b[0;32m     18\u001b[0m \u001b[1;32mfrom\u001b[0m \u001b[0mtensorflow\u001b[0m\u001b[1;33m.\u001b[0m\u001b[0mkeras\u001b[0m\u001b[1;33m.\u001b[0m\u001b[0mmetrics\u001b[0m \u001b[1;32mimport\u001b[0m \u001b[0mPrecision\u001b[0m\u001b[1;33m\u001b[0m\u001b[1;33m\u001b[0m\u001b[0m\n\u001b[0;32m     19\u001b[0m \u001b[1;33m\u001b[0m\u001b[0m\n\u001b[1;32m---> 20\u001b[1;33m \u001b[1;32mfrom\u001b[0m \u001b[0mscikeras\u001b[0m\u001b[1;33m.\u001b[0m\u001b[0mwrappers\u001b[0m \u001b[1;32mimport\u001b[0m \u001b[0mKerasClassifier\u001b[0m\u001b[1;33m\u001b[0m\u001b[1;33m\u001b[0m\u001b[0m\n\u001b[0m\u001b[0;32m     21\u001b[0m \u001b[1;33m\u001b[0m\u001b[0m\n\u001b[0;32m     22\u001b[0m \u001b[1;32mimport\u001b[0m \u001b[0mos\u001b[0m\u001b[1;33m\u001b[0m\u001b[1;33m\u001b[0m\u001b[0m\n",
      "\u001b[1;32mc:\\Users\\irwin\\anaconda3\\envs\\learn-env\\lib\\site-packages\\scikeras\\__init__.py\u001b[0m in \u001b[0;36m<module>\u001b[1;34m\u001b[0m\n\u001b[0;32m     22\u001b[0m \u001b[1;32melse\u001b[0m\u001b[1;33m:\u001b[0m\u001b[1;33m\u001b[0m\u001b[1;33m\u001b[0m\u001b[0m\n\u001b[0;32m     23\u001b[0m     \u001b[1;32mif\u001b[0m \u001b[0mversion\u001b[0m\u001b[1;33m.\u001b[0m\u001b[0mparse\u001b[0m\u001b[1;33m(\u001b[0m\u001b[0mtf_version\u001b[0m\u001b[1;33m)\u001b[0m \u001b[1;33m<\u001b[0m \u001b[0mversion\u001b[0m\u001b[1;33m.\u001b[0m\u001b[0mparse\u001b[0m\u001b[1;33m(\u001b[0m\u001b[0mMIN_TF_VERSION\u001b[0m\u001b[1;33m)\u001b[0m\u001b[1;33m:\u001b[0m  \u001b[1;31m# pragma: no cover\u001b[0m\u001b[1;33m\u001b[0m\u001b[1;33m\u001b[0m\u001b[0m\n\u001b[1;32m---> 24\u001b[1;33m         \u001b[1;32mraise\u001b[0m \u001b[0mImportError\u001b[0m\u001b[1;33m(\u001b[0m\u001b[0mTF_VERSION_ERR\u001b[0m\u001b[1;33m)\u001b[0m \u001b[1;32mfrom\u001b[0m \u001b[1;32mNone\u001b[0m\u001b[1;33m\u001b[0m\u001b[1;33m\u001b[0m\u001b[0m\n\u001b[0m\u001b[0;32m     25\u001b[0m \u001b[1;33m\u001b[0m\u001b[0m\n\u001b[0;32m     26\u001b[0m \u001b[1;32mimport\u001b[0m \u001b[0mtensorflow\u001b[0m\u001b[1;33m.\u001b[0m\u001b[0mkeras\u001b[0m \u001b[1;32mas\u001b[0m \u001b[0m_keras\u001b[0m  \u001b[1;31m# noqa: E402\u001b[0m\u001b[1;33m\u001b[0m\u001b[1;33m\u001b[0m\u001b[0m\n",
      "\u001b[1;31mImportError\u001b[0m: SciKeras requires TensorFlow >= 2.7.0."
     ]
    }
   ],
   "source": [
    "from sklearn.datasets import load_sample_images\n",
    "from sklearn.datasets import load_digits\n",
    "from sklearn.model_selection import train_test_split, cross_val_score\n",
    "from sklearn.preprocessing import OneHotEncoder\n",
    "from sklearn.metrics import accuracy_score, confusion_matrix\n",
    "import matplotlib.pyplot as plt\n",
    "import matplotlib.image as mpimg\n",
    "import numpy as np\n",
    "import seaborn as sns\n",
    "\n",
    "\n",
    "from tensorflow.keras.models import Sequential\n",
    "from tensorflow.keras.layers import Dense, Dropout\n",
    "from tensorflow.keras.regularizers import l2\n",
    "from tensorflow.keras.optimizers import SGD\n",
    "from tensorflow.keras.wrappers import scikit_learn\n",
    "from tensorflow.keras.callbacks import EarlyStopping\n",
    "from tensorflow.keras.metrics import Precision\n",
    "\n",
    "from scikeras.wrappers import KerasClassifier\n",
    "\n",
    "import os\n",
    "import sys\n",
    "module_path = os.path.abspath(os.path.join(os.pardir, os.pardir))\n",
    "if module_path not in sys.path:\n",
    "    sys.path.append(module_path)\n",
    "    \n",
    "%load_ext autoreload\n",
    "%autoreload 2"
   ]
  },
  {
   "cell_type": "code",
   "execution_count": 60,
   "metadata": {},
   "outputs": [],
   "source": [
    "os.environ[\"CUDA_VISIBLE_DEVICES\"] = \"0\"\n"
   ]
  },
  {
   "cell_type": "code",
   "execution_count": 11,
   "metadata": {
    "ExecuteTime": {
     "end_time": "2023-10-16T02:54:41.782248Z",
     "start_time": "2023-10-16T02:54:41.673248Z"
    },
    "hidden": true
   },
   "outputs": [],
   "source": [
    "#!pip install scikeras"
   ]
  },
  {
   "cell_type": "code",
   "execution_count": 61,
   "metadata": {
    "ExecuteTime": {
     "end_time": "2023-10-16T03:20:14.203343Z",
     "start_time": "2023-10-16T03:20:14.056343Z"
    },
    "hidden": true
   },
   "outputs": [
    {
     "name": "stdout",
     "output_type": "stream",
     "text": [
      "Num GPUs Available:  0\n"
     ]
    }
   ],
   "source": [
    "import tensorflow as tf\n",
    "print(\"Num GPUs Available: \", len(tf.config.list_physical_devices('GPU')))"
   ]
  },
  {
   "cell_type": "markdown",
   "metadata": {
    "heading_collapsed": true,
    "hidden": true
   },
   "source": [
    "## Learning Objectives\n",
    "\n",
    "- use `keras` to code up a neural network model;\n",
    "- explain dropout and early stopping as distinctive forms of regularization in neural networks;\n",
    "- use wrappers inside `keras` to make models that can jibe with `sklearn`."
   ]
  },
  {
   "cell_type": "markdown",
   "metadata": {
    "heading_collapsed": true,
    "hidden": true
   },
   "source": [
    "### From last time"
   ]
  },
  {
   "cell_type": "code",
   "execution_count": 17,
   "metadata": {
    "ExecuteTime": {
     "end_time": "2023-10-16T02:54:43.259941Z",
     "start_time": "2023-10-16T02:54:43.088110Z"
    },
    "hidden": true
   },
   "outputs": [],
   "source": [
    "digits = load_digits()\n",
    "X = digits.data.astype('float32')\n",
    "y = digits.target.astype('float32')\n",
    "\n",
    "y_binary = y % 2"
   ]
  },
  {
   "cell_type": "code",
   "execution_count": 18,
   "metadata": {
    "ExecuteTime": {
     "end_time": "2023-10-16T02:55:19.645649Z",
     "start_time": "2023-10-16T02:54:43.260913Z"
    },
    "hidden": true,
    "scrolled": false
   },
   "outputs": [
    {
     "name": "stdout",
     "output_type": "stream",
     "text": [
      "Epoch 1/50\n",
      "180/180 [==============================] - 0s 378us/step - loss: 1.1124 - accuracy: 0.6989\n",
      "Epoch 2/50\n",
      "180/180 [==============================] - 0s 361us/step - loss: 0.2724 - accuracy: 0.8948\n",
      "Epoch 3/50\n",
      "180/180 [==============================] - 0s 356us/step - loss: 0.1894 - accuracy: 0.9277\n",
      "Epoch 4/50\n",
      "180/180 [==============================] - 0s 372us/step - loss: 0.1530 - accuracy: 0.9438\n",
      "Epoch 5/50\n",
      "180/180 [==============================] - 0s 361us/step - loss: 0.1290 - accuracy: 0.9538\n",
      "Epoch 6/50\n",
      "180/180 [==============================] - 0s 372us/step - loss: 0.1085 - accuracy: 0.9588\n",
      "Epoch 7/50\n",
      "180/180 [==============================] - 0s 361us/step - loss: 0.0936 - accuracy: 0.9649\n",
      "Epoch 8/50\n",
      "180/180 [==============================] - 0s 361us/step - loss: 0.0811 - accuracy: 0.9688\n",
      "Epoch 9/50\n",
      "180/180 [==============================] - 0s 417us/step - loss: 0.0742 - accuracy: 0.9733\n",
      "Epoch 10/50\n",
      "180/180 [==============================] - 0s 361us/step - loss: 0.0638 - accuracy: 0.9777\n",
      "Epoch 11/50\n",
      "180/180 [==============================] - 0s 367us/step - loss: 0.0585 - accuracy: 0.9789\n",
      "Epoch 12/50\n",
      "180/180 [==============================] - 0s 367us/step - loss: 0.0490 - accuracy: 0.9805\n",
      "Epoch 13/50\n",
      "180/180 [==============================] - 0s 361us/step - loss: 0.0442 - accuracy: 0.9839\n",
      "Epoch 14/50\n",
      "180/180 [==============================] - 0s 361us/step - loss: 0.0411 - accuracy: 0.9839\n",
      "Epoch 15/50\n",
      "180/180 [==============================] - 0s 361us/step - loss: 0.0361 - accuracy: 0.9878\n",
      "Epoch 16/50\n",
      "180/180 [==============================] - 0s 367us/step - loss: 0.0344 - accuracy: 0.9866\n",
      "Epoch 17/50\n",
      "180/180 [==============================] - 0s 361us/step - loss: 0.0294 - accuracy: 0.9883\n",
      "Epoch 18/50\n",
      "180/180 [==============================] - 0s 350us/step - loss: 0.0286 - accuracy: 0.9894\n",
      "Epoch 19/50\n",
      "180/180 [==============================] - 0s 356us/step - loss: 0.0274 - accuracy: 0.9905\n",
      "Epoch 20/50\n",
      "180/180 [==============================] - 0s 356us/step - loss: 0.0238 - accuracy: 0.9939\n",
      "Epoch 21/50\n",
      "180/180 [==============================] - 0s 345us/step - loss: 0.0242 - accuracy: 0.9900\n",
      "Epoch 22/50\n",
      "180/180 [==============================] - 0s 361us/step - loss: 0.0224 - accuracy: 0.9917\n",
      "Epoch 23/50\n",
      "180/180 [==============================] - 0s 361us/step - loss: 0.0202 - accuracy: 0.9939\n",
      "Epoch 24/50\n",
      "180/180 [==============================] - 0s 356us/step - loss: 0.0155 - accuracy: 0.9939\n",
      "Epoch 25/50\n",
      "180/180 [==============================] - 0s 356us/step - loss: 0.0167 - accuracy: 0.9944\n",
      "Epoch 26/50\n",
      "180/180 [==============================] - 0s 350us/step - loss: 0.0161 - accuracy: 0.9928\n",
      "Epoch 27/50\n",
      "180/180 [==============================] - 0s 356us/step - loss: 0.0162 - accuracy: 0.9928\n",
      "Epoch 28/50\n",
      "180/180 [==============================] - 0s 422us/step - loss: 0.0147 - accuracy: 0.9950\n",
      "Epoch 29/50\n",
      "180/180 [==============================] - 0s 345us/step - loss: 0.0134 - accuracy: 0.9955\n",
      "Epoch 30/50\n",
      "180/180 [==============================] - 0s 356us/step - loss: 0.0135 - accuracy: 0.9950\n",
      "Epoch 31/50\n",
      "180/180 [==============================] - 0s 356us/step - loss: 0.0114 - accuracy: 0.9950\n",
      "Epoch 32/50\n",
      "180/180 [==============================] - 0s 356us/step - loss: 0.0095 - accuracy: 0.9961\n",
      "Epoch 33/50\n",
      "180/180 [==============================] - 0s 356us/step - loss: 0.0087 - accuracy: 0.9978\n",
      "Epoch 34/50\n",
      "180/180 [==============================] - 0s 350us/step - loss: 0.0084 - accuracy: 0.9967\n",
      "Epoch 35/50\n",
      "180/180 [==============================] - 0s 356us/step - loss: 0.0100 - accuracy: 0.9950\n",
      "Epoch 36/50\n",
      "180/180 [==============================] - 0s 350us/step - loss: 0.0097 - accuracy: 0.9967\n",
      "Epoch 37/50\n",
      "180/180 [==============================] - 0s 350us/step - loss: 0.0079 - accuracy: 0.9972\n",
      "Epoch 38/50\n",
      "180/180 [==============================] - 0s 361us/step - loss: 0.0050 - accuracy: 0.9989\n",
      "Epoch 39/50\n",
      "180/180 [==============================] - 0s 356us/step - loss: 0.0065 - accuracy: 0.9972\n",
      "Epoch 40/50\n",
      "180/180 [==============================] - 0s 356us/step - loss: 0.0057 - accuracy: 0.9972\n",
      "Epoch 41/50\n",
      "180/180 [==============================] - 0s 367us/step - loss: 0.0052 - accuracy: 0.9978\n",
      "Epoch 42/50\n",
      "180/180 [==============================] - 0s 367us/step - loss: 0.0062 - accuracy: 0.9978\n",
      "Epoch 43/50\n",
      "180/180 [==============================] - 0s 361us/step - loss: 0.0055 - accuracy: 0.9978\n",
      "Epoch 44/50\n",
      "180/180 [==============================] - 0s 356us/step - loss: 0.0053 - accuracy: 0.9983\n",
      "Epoch 45/50\n",
      "180/180 [==============================] - 0s 356us/step - loss: 0.0051 - accuracy: 0.9983\n",
      "Epoch 46/50\n",
      "180/180 [==============================] - 0s 383us/step - loss: 0.0034 - accuracy: 0.9994\n",
      "Epoch 47/50\n",
      "180/180 [==============================] - 0s 372us/step - loss: 0.0049 - accuracy: 0.9989\n",
      "Epoch 48/50\n",
      "180/180 [==============================] - 0s 361us/step - loss: 0.0037 - accuracy: 0.9989\n",
      "Epoch 49/50\n",
      "180/180 [==============================] - 0s 361us/step - loss: 0.0022 - accuracy: 0.9989\n",
      "Epoch 50/50\n",
      "180/180 [==============================] - 0s 356us/step - loss: 0.0030 - accuracy: 0.9978\n"
     ]
    },
    {
     "data": {
      "text/plain": [
       "<tensorflow.python.keras.callbacks.History at 0x18e6df86940>"
      ]
     },
     "execution_count": 18,
     "metadata": {},
     "output_type": "execute_result"
    }
   ],
   "source": [
    "model = Sequential()\n",
    "model.add(Dense(12, activation='relu', input_dim=64))\n",
    "model.add(Dense(8, activation='relu'))\n",
    "model.add(Dense(1, activation='sigmoid'))\n",
    "\n",
    "model.compile(optimizer='rmsprop',\n",
    "              loss='binary_crossentropy',\n",
    "              metrics=['accuracy'])\n",
    "\n",
    "model.fit(X, y_binary, epochs=50, batch_size=10)"
   ]
  },
  {
   "cell_type": "markdown",
   "metadata": {
    "heading_collapsed": true,
    "hidden": true
   },
   "source": [
    "### Things to know:"
   ]
  },
  {
   "cell_type": "markdown",
   "metadata": {
    "hidden": true
   },
   "source": [
    "- The data and labels in `fit()` need to be numpy arrays, not `pandas` dfs.\n",
    "- Scaling your data will have a large impact on your model.\n",
    "   > For our traditional input features, we would use a scaler object. For images, as long as the minimum value is 0, we can simply divide through by the maximum pixel intensity."
   ]
  },
  {
   "cell_type": "markdown",
   "metadata": {
    "heading_collapsed": true,
    "hidden": true
   },
   "source": [
    "#### Getting data ready for modeling"
   ]
  },
  {
   "cell_type": "markdown",
   "metadata": {
    "hidden": true
   },
   "source": [
    "**Preprocessing**:\n",
    "\n",
    "- use train_test_split to create X_train, y_train, X_test, and y_test\n",
    "- Split training data into pure_train and validation sets.\n",
    "- Scale the pixel intensity to a value between 0 and 1."
   ]
  },
  {
   "cell_type": "markdown",
   "metadata": {
    "hidden": true
   },
   "source": [
    "Scaling our input variables will help speed up our neural network.\n",
    "\n",
    "Since our minimum intensity is 0, we can normalize the inputs by dividing each value by the max value (16)."
   ]
  },
  {
   "cell_type": "code",
   "execution_count": 19,
   "metadata": {
    "ExecuteTime": {
     "end_time": "2023-10-16T02:55:19.772650Z",
     "start_time": "2023-10-16T02:55:19.646650Z"
    },
    "hidden": true
   },
   "outputs": [],
   "source": [
    "X_train, X_test, y_train, y_test =\\\n",
    "    train_test_split(X, y_binary, random_state=42, test_size=0.2)\n",
    "\n",
    "X_pure_train, X_val, y_pure_train, y_val =\\\n",
    "    train_test_split(X_train, y_train, random_state=42, test_size=0.2)\n",
    "\n",
    "X_pure_train, X_val, X_test = X_pure_train/16, X_val/16, X_test/16"
   ]
  },
  {
   "cell_type": "markdown",
   "metadata": {
    "hidden": true
   },
   "source": [
    "For activation, let's start with the familiar sigmoid function, and see how it performs."
   ]
  },
  {
   "cell_type": "code",
   "execution_count": 20,
   "metadata": {
    "ExecuteTime": {
     "end_time": "2023-10-16T02:55:20.719649Z",
     "start_time": "2023-10-16T02:55:19.773650Z"
    },
    "hidden": true
   },
   "outputs": [
    {
     "name": "stdout",
     "output_type": "stream",
     "text": [
      "Epoch 1/10\n",
      "12/12 [==============================] - 0s 417us/step - loss: 0.7135 - accuracy: 0.5039\n",
      "Epoch 2/10\n",
      "12/12 [==============================] - 0s 417us/step - loss: 0.7098 - accuracy: 0.5039\n",
      "Epoch 3/10\n",
      "12/12 [==============================] - 0s 333us/step - loss: 0.7068 - accuracy: 0.5039\n",
      "Epoch 4/10\n",
      "12/12 [==============================] - 0s 500us/step - loss: 0.7045 - accuracy: 0.5039\n",
      "Epoch 5/10\n",
      "12/12 [==============================] - 0s 417us/step - loss: 0.7025 - accuracy: 0.5039\n",
      "Epoch 6/10\n",
      "12/12 [==============================] - 0s 417us/step - loss: 0.7007 - accuracy: 0.5039\n",
      "Epoch 7/10\n",
      "12/12 [==============================] - 0s 417us/step - loss: 0.6993 - accuracy: 0.5039\n",
      "Epoch 8/10\n",
      "12/12 [==============================] - 0s 417us/step - loss: 0.6981 - accuracy: 0.5039\n",
      "Epoch 9/10\n",
      "12/12 [==============================] - 0s 417us/step - loss: 0.6972 - accuracy: 0.5039\n",
      "Epoch 10/10\n",
      "12/12 [==============================] - 0s 417us/step - loss: 0.6963 - accuracy: 0.5039\n"
     ]
    }
   ],
   "source": [
    "model = Sequential()\n",
    "# We will start with our trusty sigmoid function.\n",
    "# What does input dimension correspond to?\n",
    "model.add(Dense(12, activation='sigmoid', input_dim=64))\n",
    "model.add(Dense(8, activation='sigmoid'))\n",
    "model.add(Dense(1, activation='sigmoid'))\n",
    "\n",
    "model.compile(optimizer='SGD' ,\n",
    "              # We use binary_crossentropy for a binary loss function\n",
    "              loss='binary_crossentropy',\n",
    "              metrics=['accuracy'])\n",
    "\n",
    "# Assign the variable history to store the results,\n",
    "# and set verbose=1 so we can see the output. To see\n",
    "# only the metrics at the end of each epoch, set verbose=2.\n",
    "results = model.fit(X_pure_train, y_pure_train, epochs=10, batch_size=100, verbose=1)"
   ]
  },
  {
   "cell_type": "markdown",
   "metadata": {
    "hidden": true
   },
   "source": [
    "We can access the history of our model via `results.history`.\n",
    "Use __dict__ to take a tour."
   ]
  },
  {
   "cell_type": "code",
   "execution_count": 21,
   "metadata": {
    "ExecuteTime": {
     "end_time": "2023-10-16T02:55:20.844649Z",
     "start_time": "2023-10-16T02:55:20.720649Z"
    },
    "hidden": true
   },
   "outputs": [
    {
     "data": {
      "text/plain": [
       "{'validation_data': None,\n",
       " 'model': <tensorflow.python.keras.engine.sequential.Sequential at 0x18e4bede4c0>,\n",
       " '_chief_worker_only': None,\n",
       " '_supports_tf_logs': False,\n",
       " 'history': {'loss': [0.7134612798690796,\n",
       "   0.7097885012626648,\n",
       "   0.7068402171134949,\n",
       "   0.7044618129730225,\n",
       "   0.7025096416473389,\n",
       "   0.7007002830505371,\n",
       "   0.6993142366409302,\n",
       "   0.6981467008590698,\n",
       "   0.6971569061279297,\n",
       "   0.6963469982147217],\n",
       "  'accuracy': [0.5039164423942566,\n",
       "   0.5039164423942566,\n",
       "   0.5039164423942566,\n",
       "   0.5039164423942566,\n",
       "   0.5039164423942566,\n",
       "   0.5039164423942566,\n",
       "   0.5039164423942566,\n",
       "   0.5039164423942566,\n",
       "   0.5039164423942566,\n",
       "   0.5039164423942566]},\n",
       " 'params': {'verbose': 1, 'epochs': 10, 'steps': 12},\n",
       " 'epoch': [0, 1, 2, 3, 4, 5, 6, 7, 8, 9]}"
      ]
     },
     "execution_count": 21,
     "metadata": {},
     "output_type": "execute_result"
    }
   ],
   "source": [
    "results.__dict__"
   ]
  },
  {
   "cell_type": "code",
   "execution_count": 22,
   "metadata": {
    "ExecuteTime": {
     "end_time": "2023-10-16T02:55:21.221650Z",
     "start_time": "2023-10-16T02:55:20.847652Z"
    },
    "hidden": true
   },
   "outputs": [
    {
     "data": {
      "image/png": "[encoded data removed]",
      "text/plain": [
       "<Figure size 720x360 with 2 Axes>"
      ]
     },
     "metadata": {
      "needs_background": "light"
     },
     "output_type": "display_data"
    }
   ],
   "source": [
    "sigmoid_loss = results.history['loss']\n",
    "sigmoid_accuracy = results.history['accuracy']\n",
    "\n",
    "fig, (ax1, ax2) = plt.subplots(1, 2, figsize=(10, 5))\n",
    "sns.lineplot(x=results.epoch, y=sigmoid_loss, ax=ax1, label='loss')\n",
    "sns.lineplot(x=results.epoch, y=sigmoid_accuracy, ax=ax2, label='accuracy');"
   ]
  },
  {
   "cell_type": "markdown",
   "metadata": {
    "hidden": true
   },
   "source": [
    "We have two plots above both relating to the quality of our model.  The left-hand plot is our loss. It uses the probabilities associated with our predictions to judge how well our prediction fits reality. We want it to decrease as far as possible.\n",
    "\n",
    "The accuracy judges how well the predictions are after applying the threshold at the output layer.  We want accuracy to increase."
   ]
  },
  {
   "cell_type": "markdown",
   "metadata": {
    "hidden": true
   },
   "source": [
    "If we look at our loss, it is still decreasing. That is a signal that our model is **still learning**. If our model is still learning, we can allow it to get better by turning a few dials.\n",
    "\n",
    "Let's:\n",
    "- increase the number of epochs;\n",
    "- change sigmoid activation in the hidden layers to ReLU; and\n",
    "- decrease the batch size."
   ]
  },
  {
   "cell_type": "code",
   "execution_count": 23,
   "metadata": {
    "ExecuteTime": {
     "end_time": "2023-10-16T02:55:21.332682Z",
     "start_time": "2023-10-16T02:55:21.222650Z"
    },
    "hidden": true
   },
   "outputs": [
    {
     "data": {
      "text/plain": [
       "1149"
      ]
     },
     "execution_count": 23,
     "metadata": {},
     "output_type": "execute_result"
    }
   ],
   "source": [
    "X_pure_train.shape[0]"
   ]
  },
  {
   "cell_type": "code",
   "execution_count": 24,
   "metadata": {
    "ExecuteTime": {
     "end_time": "2023-10-16T02:55:32.157654Z",
     "start_time": "2023-10-16T02:55:21.333650Z"
    },
    "hidden": true
   },
   "outputs": [
    {
     "name": "stdout",
     "output_type": "stream",
     "text": [
      "Epoch 1/100\n",
      "36/36 [==============================] - 0s 389us/step - loss: 0.6947 - accuracy: 0.4778\n",
      "Epoch 2/100\n",
      "36/36 [==============================] - 0s 361us/step - loss: 0.6784 - accuracy: 0.5648\n",
      "Epoch 3/100\n",
      "36/36 [==============================] - 0s 361us/step - loss: 0.6626 - accuracy: 0.6266\n",
      "Epoch 4/100\n",
      "36/36 [==============================] - 0s 389us/step - loss: 0.6475 - accuracy: 0.6867\n",
      "Epoch 5/100\n",
      "36/36 [==============================] - 0s 361us/step - loss: 0.6327 - accuracy: 0.7180\n",
      "Epoch 6/100\n",
      "36/36 [==============================] - 0s 389us/step - loss: 0.6178 - accuracy: 0.7424\n",
      "Epoch 7/100\n",
      "36/36 [==============================] - 0s 361us/step - loss: 0.6025 - accuracy: 0.7633\n",
      "Epoch 8/100\n",
      "36/36 [==============================] - 0s 389us/step - loss: 0.5869 - accuracy: 0.7755\n",
      "Epoch 9/100\n",
      "36/36 [==============================] - 0s 389us/step - loss: 0.5702 - accuracy: 0.7850\n",
      "Epoch 10/100\n",
      "36/36 [==============================] - 0s 389us/step - loss: 0.5530 - accuracy: 0.7963\n",
      "Epoch 11/100\n",
      "36/36 [==============================] - 0s 389us/step - loss: 0.5349 - accuracy: 0.8042\n",
      "Epoch 12/100\n",
      "36/36 [==============================] - 0s 389us/step - loss: 0.5163 - accuracy: 0.8094\n",
      "Epoch 13/100\n",
      "36/36 [==============================] - 0s 556us/step - loss: 0.4977 - accuracy: 0.8146\n",
      "Epoch 14/100\n",
      "36/36 [==============================] - 0s 583us/step - loss: 0.4792 - accuracy: 0.8198\n",
      "Epoch 15/100\n",
      "36/36 [==============================] - 0s 472us/step - loss: 0.4611 - accuracy: 0.8216\n",
      "Epoch 16/100\n",
      "36/36 [==============================] - 0s 417us/step - loss: 0.4429 - accuracy: 0.8303\n",
      "Epoch 17/100\n",
      "36/36 [==============================] - 0s 445us/step - loss: 0.4259 - accuracy: 0.8329\n",
      "Epoch 18/100\n",
      "36/36 [==============================] - 0s 445us/step - loss: 0.4099 - accuracy: 0.8372\n",
      "Epoch 19/100\n",
      "36/36 [==============================] - 0s 417us/step - loss: 0.3945 - accuracy: 0.8407\n",
      "Epoch 20/100\n",
      "36/36 [==============================] - 0s 389us/step - loss: 0.3803 - accuracy: 0.8399\n",
      "Epoch 21/100\n",
      "36/36 [==============================] - 0s 417us/step - loss: 0.3670 - accuracy: 0.8460\n",
      "Epoch 22/100\n",
      "36/36 [==============================] - 0s 361us/step - loss: 0.3544 - accuracy: 0.8555\n",
      "Epoch 23/100\n",
      "36/36 [==============================] - 0s 361us/step - loss: 0.3439 - accuracy: 0.8538\n",
      "Epoch 24/100\n",
      "36/36 [==============================] - 0s 333us/step - loss: 0.3337 - accuracy: 0.8538\n",
      "Epoch 25/100\n",
      "36/36 [==============================] - 0s 361us/step - loss: 0.3237 - accuracy: 0.8625\n",
      "Epoch 26/100\n",
      "36/36 [==============================] - 0s 361us/step - loss: 0.3157 - accuracy: 0.8642\n",
      "Epoch 27/100\n",
      "36/36 [==============================] - 0s 389us/step - loss: 0.3085 - accuracy: 0.8695\n",
      "Epoch 28/100\n",
      "36/36 [==============================] - 0s 361us/step - loss: 0.3008 - accuracy: 0.8738\n",
      "Epoch 29/100\n",
      "36/36 [==============================] - 0s 361us/step - loss: 0.2944 - accuracy: 0.8782\n",
      "Epoch 30/100\n",
      "36/36 [==============================] - 0s 361us/step - loss: 0.2874 - accuracy: 0.8773\n",
      "Epoch 31/100\n",
      "36/36 [==============================] - 0s 361us/step - loss: 0.2813 - accuracy: 0.8842\n",
      "Epoch 32/100\n",
      "36/36 [==============================] - 0s 361us/step - loss: 0.2750 - accuracy: 0.8842\n",
      "Epoch 33/100\n",
      "36/36 [==============================] - 0s 361us/step - loss: 0.2709 - accuracy: 0.8877\n",
      "Epoch 34/100\n",
      "36/36 [==============================] - 0s 361us/step - loss: 0.2654 - accuracy: 0.8877\n",
      "Epoch 35/100\n",
      "36/36 [==============================] - 0s 361us/step - loss: 0.2598 - accuracy: 0.8877\n",
      "Epoch 36/100\n",
      "36/36 [==============================] - 0s 389us/step - loss: 0.2564 - accuracy: 0.8860\n",
      "Epoch 37/100\n",
      "36/36 [==============================] - 0s 389us/step - loss: 0.2528 - accuracy: 0.8938\n",
      "Epoch 38/100\n",
      "36/36 [==============================] - 0s 361us/step - loss: 0.2486 - accuracy: 0.8964\n",
      "Epoch 39/100\n",
      "36/36 [==============================] - 0s 389us/step - loss: 0.2448 - accuracy: 0.8973\n",
      "Epoch 40/100\n",
      "36/36 [==============================] - 0s 361us/step - loss: 0.2419 - accuracy: 0.8999\n",
      "Epoch 41/100\n",
      "36/36 [==============================] - 0s 417us/step - loss: 0.2389 - accuracy: 0.8947\n",
      "Epoch 42/100\n",
      "36/36 [==============================] - 0s 528us/step - loss: 0.2362 - accuracy: 0.8956\n",
      "Epoch 43/100\n",
      "36/36 [==============================] - 0s 417us/step - loss: 0.2325 - accuracy: 0.8982\n",
      "Epoch 44/100\n",
      "36/36 [==============================] - 0s 361us/step - loss: 0.2294 - accuracy: 0.8956\n",
      "Epoch 45/100\n",
      "36/36 [==============================] - 0s 361us/step - loss: 0.2274 - accuracy: 0.9043\n",
      "Epoch 46/100\n",
      "36/36 [==============================] - 0s 361us/step - loss: 0.2247 - accuracy: 0.9051\n",
      "Epoch 47/100\n",
      "36/36 [==============================] - 0s 389us/step - loss: 0.2223 - accuracy: 0.9051\n",
      "Epoch 48/100\n",
      "36/36 [==============================] - 0s 389us/step - loss: 0.2196 - accuracy: 0.9034\n",
      "Epoch 49/100\n",
      "36/36 [==============================] - 0s 389us/step - loss: 0.2179 - accuracy: 0.9025\n",
      "Epoch 50/100\n",
      "36/36 [==============================] - 0s 361us/step - loss: 0.2153 - accuracy: 0.9043\n",
      "Epoch 51/100\n",
      "36/36 [==============================] - 0s 361us/step - loss: 0.2149 - accuracy: 0.9051\n",
      "Epoch 52/100\n",
      "36/36 [==============================] - 0s 361us/step - loss: 0.2124 - accuracy: 0.9060\n",
      "Epoch 53/100\n",
      "36/36 [==============================] - 0s 361us/step - loss: 0.2108 - accuracy: 0.9077\n",
      "Epoch 54/100\n",
      "36/36 [==============================] - 0s 361us/step - loss: 0.2093 - accuracy: 0.9069\n",
      "Epoch 55/100\n",
      "36/36 [==============================] - 0s 361us/step - loss: 0.2086 - accuracy: 0.9112\n",
      "Epoch 56/100\n",
      "36/36 [==============================] - 0s 417us/step - loss: 0.2041 - accuracy: 0.9147\n",
      "Epoch 57/100\n",
      "36/36 [==============================] - 0s 361us/step - loss: 0.2024 - accuracy: 0.9147\n",
      "Epoch 58/100\n",
      "36/36 [==============================] - 0s 417us/step - loss: 0.2021 - accuracy: 0.9121\n",
      "Epoch 59/100\n",
      "36/36 [==============================] - 0s 445us/step - loss: 0.2001 - accuracy: 0.9112\n",
      "Epoch 60/100\n",
      "36/36 [==============================] - 0s 417us/step - loss: 0.1993 - accuracy: 0.9138\n",
      "Epoch 61/100\n",
      "36/36 [==============================] - 0s 361us/step - loss: 0.1974 - accuracy: 0.9182\n",
      "Epoch 62/100\n",
      "36/36 [==============================] - 0s 389us/step - loss: 0.1960 - accuracy: 0.9191\n",
      "Epoch 63/100\n",
      "36/36 [==============================] - 0s 361us/step - loss: 0.1946 - accuracy: 0.9164\n",
      "Epoch 64/100\n",
      "36/36 [==============================] - 0s 389us/step - loss: 0.1934 - accuracy: 0.9147\n",
      "Epoch 65/100\n",
      "36/36 [==============================] - 0s 361us/step - loss: 0.1922 - accuracy: 0.9173\n",
      "Epoch 66/100\n",
      "36/36 [==============================] - 0s 361us/step - loss: 0.1900 - accuracy: 0.9208\n",
      "Epoch 67/100\n",
      "36/36 [==============================] - 0s 500us/step - loss: 0.1887 - accuracy: 0.9199\n",
      "Epoch 68/100\n",
      "36/36 [==============================] - 0s 417us/step - loss: 0.1866 - accuracy: 0.9243\n",
      "Epoch 69/100\n",
      "36/36 [==============================] - 0s 389us/step - loss: 0.1862 - accuracy: 0.9243\n",
      "Epoch 70/100\n",
      "36/36 [==============================] - 0s 389us/step - loss: 0.1856 - accuracy: 0.9260\n",
      "Epoch 71/100\n",
      "36/36 [==============================] - 0s 361us/step - loss: 0.1844 - accuracy: 0.9234\n",
      "Epoch 72/100\n",
      "36/36 [==============================] - 0s 361us/step - loss: 0.1821 - accuracy: 0.9208\n",
      "Epoch 73/100\n",
      "36/36 [==============================] - 0s 361us/step - loss: 0.1814 - accuracy: 0.9234\n",
      "Epoch 74/100\n",
      "36/36 [==============================] - 0s 389us/step - loss: 0.1801 - accuracy: 0.9243\n",
      "Epoch 75/100\n",
      "36/36 [==============================] - 0s 361us/step - loss: 0.1787 - accuracy: 0.9243\n",
      "Epoch 76/100\n",
      "36/36 [==============================] - 0s 389us/step - loss: 0.1775 - accuracy: 0.9234\n",
      "Epoch 77/100\n",
      "36/36 [==============================] - 0s 361us/step - loss: 0.1772 - accuracy: 0.9260\n",
      "Epoch 78/100\n",
      "36/36 [==============================] - 0s 417us/step - loss: 0.1742 - accuracy: 0.9252\n",
      "Epoch 79/100\n",
      "36/36 [==============================] - 0s 528us/step - loss: 0.1733 - accuracy: 0.9304\n",
      "Epoch 80/100\n",
      "36/36 [==============================] - 0s 361us/step - loss: 0.1719 - accuracy: 0.9260\n",
      "Epoch 81/100\n",
      "36/36 [==============================] - 0s 361us/step - loss: 0.1731 - accuracy: 0.9286\n",
      "Epoch 82/100\n",
      "36/36 [==============================] - 0s 361us/step - loss: 0.1711 - accuracy: 0.9295\n",
      "Epoch 83/100\n",
      "36/36 [==============================] - 0s 389us/step - loss: 0.1692 - accuracy: 0.9286\n",
      "Epoch 84/100\n",
      "36/36 [==============================] - 0s 361us/step - loss: 0.1694 - accuracy: 0.9286\n",
      "Epoch 85/100\n",
      "36/36 [==============================] - 0s 361us/step - loss: 0.1678 - accuracy: 0.9312\n",
      "Epoch 86/100\n",
      "36/36 [==============================] - 0s 361us/step - loss: 0.1668 - accuracy: 0.9339\n",
      "Epoch 87/100\n",
      "36/36 [==============================] - 0s 361us/step - loss: 0.1653 - accuracy: 0.9321\n",
      "Epoch 88/100\n",
      "36/36 [==============================] - 0s 361us/step - loss: 0.1648 - accuracy: 0.9339\n",
      "Epoch 89/100\n",
      "36/36 [==============================] - 0s 361us/step - loss: 0.1631 - accuracy: 0.9339\n",
      "Epoch 90/100\n",
      "36/36 [==============================] - 0s 361us/step - loss: 0.1613 - accuracy: 0.9330\n",
      "Epoch 91/100\n",
      "36/36 [==============================] - 0s 361us/step - loss: 0.1617 - accuracy: 0.9295\n",
      "Epoch 92/100\n",
      "36/36 [==============================] - 0s 472us/step - loss: 0.1604 - accuracy: 0.9347\n",
      "Epoch 93/100\n",
      "36/36 [==============================] - 0s 389us/step - loss: 0.1592 - accuracy: 0.9373\n",
      "Epoch 94/100\n",
      "36/36 [==============================] - 0s 361us/step - loss: 0.1577 - accuracy: 0.9356\n",
      "Epoch 95/100\n",
      "36/36 [==============================] - 0s 389us/step - loss: 0.1578 - accuracy: 0.9356\n",
      "Epoch 96/100\n",
      "36/36 [==============================] - 0s 361us/step - loss: 0.1565 - accuracy: 0.9339\n",
      "Epoch 97/100\n",
      "36/36 [==============================] - 0s 361us/step - loss: 0.1539 - accuracy: 0.9373\n",
      "Epoch 98/100\n",
      "36/36 [==============================] - 0s 445us/step - loss: 0.1542 - accuracy: 0.9391\n",
      "Epoch 99/100\n",
      "36/36 [==============================] - 0s 417us/step - loss: 0.1526 - accuracy: 0.9382\n",
      "Epoch 100/100\n",
      "36/36 [==============================] - 0s 445us/step - loss: 0.1525 - accuracy: 0.9399\n"
     ]
    }
   ],
   "source": [
    "model = Sequential()\n",
    "model.add(Dense(12, activation='relu', input_dim=64))\n",
    "model.add(Dense(8, activation='relu'))\n",
    "model.add(Dense(1, activation='sigmoid'))\n",
    "\n",
    "model.compile(optimizer='SGD',\n",
    "              loss='binary_crossentropy',\n",
    "              metrics=['accuracy'])\n",
    "\n",
    "# Assign the variable history to store the results,\n",
    "# and set verbose=1 so we can see the output.\n",
    "results = model.fit(X_pure_train, y_pure_train, epochs=100, batch_size=None, verbose=1)"
   ]
  },
  {
   "cell_type": "code",
   "execution_count": 25,
   "metadata": {
    "ExecuteTime": {
     "end_time": "2023-10-16T02:55:32.488681Z",
     "start_time": "2023-10-16T02:55:32.158650Z"
    },
    "hidden": true
   },
   "outputs": [
    {
     "data": {
      "image/png": "[encoded data removed]",
      "text/plain": [
       "<Figure size 720x360 with 2 Axes>"
      ]
     },
     "metadata": {
      "needs_background": "light"
     },
     "output_type": "display_data"
    }
   ],
   "source": [
    "sigmoid_loss = results.history['loss']\n",
    "sigmoid_accuracy = results.history['accuracy']\n",
    "\n",
    "fig, (ax1, ax2) = plt.subplots(1, 2, figsize=(10, 5))\n",
    "sns.lineplot(x=results.epoch, y=sigmoid_loss, ax=ax1, label='loss')\n",
    "sns.lineplot(x=results.epoch, y=sigmoid_accuracy, ax=ax2, label='accuracy');"
   ]
  },
  {
   "cell_type": "markdown",
   "metadata": {
    "hidden": true
   },
   "source": [
    "If we increase the learning rate to a very high number, we see that our model overshoots the minimum, and starts bouncing all around."
   ]
  },
  {
   "cell_type": "code",
   "execution_count": 26,
   "metadata": {
    "ExecuteTime": {
     "end_time": "2023-10-16T02:55:43.538650Z",
     "start_time": "2023-10-16T02:55:32.489650Z"
    },
    "hidden": true
   },
   "outputs": [
    {
     "name": "stdout",
     "output_type": "stream",
     "text": [
      "Epoch 1/30\n",
      "  1/115 [..............................] - ETA: 0s - loss: 0.7314 - accuracy: 0.3000WARNING:tensorflow:Callbacks method `on_train_batch_end` is slow compared to the batch time (batch time: 0.0000s vs `on_train_batch_end` time: 0.0010s). Check your callbacks.\n",
      "115/115 [==============================] - 0s 357us/step - loss: 9.6662 - accuracy: 0.4769\n",
      "Epoch 2/30\n",
      "115/115 [==============================] - 0s 348us/step - loss: 0.9688 - accuracy: 0.5039\n",
      "Epoch 3/30\n",
      "115/115 [==============================] - 0s 348us/step - loss: 0.9716 - accuracy: 0.5030\n",
      "Epoch 4/30\n",
      "115/115 [==============================] - 0s 374us/step - loss: 1.0109 - accuracy: 0.4970\n",
      "Epoch 5/30\n",
      "115/115 [==============================] - 0s 391us/step - loss: 0.8919 - accuracy: 0.5205\n",
      "Epoch 6/30\n",
      "115/115 [==============================] - 0s 348us/step - loss: 0.9862 - accuracy: 0.4926\n",
      "Epoch 7/30\n",
      "115/115 [==============================] - 0s 365us/step - loss: 0.9655 - accuracy: 0.5057\n",
      "Epoch 8/30\n",
      "115/115 [==============================] - 0s 374us/step - loss: 0.9244 - accuracy: 0.5109\n",
      "Epoch 9/30\n",
      "115/115 [==============================] - 0s 391us/step - loss: 0.9821 - accuracy: 0.4848\n",
      "Epoch 10/30\n",
      "115/115 [==============================] - 0s 357us/step - loss: 0.9203 - accuracy: 0.5257\n",
      "Epoch 11/30\n",
      "115/115 [==============================] - 0s 357us/step - loss: 0.9820 - accuracy: 0.5057\n",
      "Epoch 12/30\n",
      "115/115 [==============================] - 0s 346us/step - loss: 1.1976 - accuracy: 0.4500\n",
      "Epoch 13/30\n",
      "115/115 [==============================] - 0s 357us/step - loss: 1.0539 - accuracy: 0.4926\n",
      "Epoch 14/30\n",
      "115/115 [==============================] - 0s 348us/step - loss: 1.0550 - accuracy: 0.4883\n",
      "Epoch 15/30\n",
      "115/115 [==============================] - 0s 367us/step - loss: 1.0536 - accuracy: 0.4891\n",
      "Epoch 16/30\n",
      "115/115 [==============================] - 0s 348us/step - loss: 0.9799 - accuracy: 0.5074\n",
      "Epoch 17/30\n",
      "115/115 [==============================] - 0s 353us/step - loss: 1.0473 - accuracy: 0.4865\n",
      "Epoch 18/30\n",
      "115/115 [==============================] - 0s 363us/step - loss: 1.0649 - accuracy: 0.4778\n",
      "Epoch 19/30\n",
      "115/115 [==============================] - 0s 339us/step - loss: 1.1135 - accuracy: 0.4682\n",
      "Epoch 20/30\n",
      "115/115 [==============================] - 0s 348us/step - loss: 0.9921 - accuracy: 0.5057\n",
      "Epoch 21/30\n",
      "115/115 [==============================] - 0s 339us/step - loss: 0.9287 - accuracy: 0.5213\n",
      "Epoch 22/30\n",
      "115/115 [==============================] - 0s 357us/step - loss: 0.9090 - accuracy: 0.5222\n",
      "Epoch 23/30\n",
      "115/115 [==============================] - 0s 357us/step - loss: 0.9090 - accuracy: 0.5239\n",
      "Epoch 24/30\n",
      "115/115 [==============================] - 0s 348us/step - loss: 1.0928 - accuracy: 0.4848\n",
      "Epoch 25/30\n",
      "115/115 [==============================] - 0s 348us/step - loss: 1.0723 - accuracy: 0.4961\n",
      "Epoch 26/30\n",
      "115/115 [==============================] - 0s 339us/step - loss: 1.0430 - accuracy: 0.4987\n",
      "Epoch 27/30\n",
      "115/115 [==============================] - 0s 348us/step - loss: 0.9330 - accuracy: 0.5326\n",
      "Epoch 28/30\n",
      "115/115 [==============================] - 0s 339us/step - loss: 0.9775 - accuracy: 0.4926\n",
      "Epoch 29/30\n",
      "115/115 [==============================] - 0s 339us/step - loss: 0.9671 - accuracy: 0.5013\n",
      "Epoch 30/30\n",
      "115/115 [==============================] - 0s 348us/step - loss: 1.0720 - accuracy: 0.4839\n"
     ]
    },
    {
     "data": {
      "image/png": "[encoded data removed]",
      "text/plain": [
       "<Figure size 720x360 with 2 Axes>"
      ]
     },
     "metadata": {
      "needs_background": "light"
     },
     "output_type": "display_data"
    }
   ],
   "source": [
    "model = Sequential()\n",
    "\n",
    "# sgd = SGD(learning_rate=9)\n",
    "model.add(Dense(12, activation='relu', input_dim=64))\n",
    "model.add(Dense(8, activation='relu'))\n",
    "model.add(Dense(1, activation='sigmoid'))\n",
    "\n",
    "model.compile(optimizer=SGD(learning_rate=9),\n",
    "              loss='binary_crossentropy',\n",
    "              metrics=['accuracy'])\n",
    "\n",
    "results = model.fit(X_pure_train, y_pure_train,\n",
    "                    epochs=30, batch_size=10, verbose=1)\n",
    "\n",
    "relu_loss = results.history['loss']\n",
    "relu_accuracy = results.history['accuracy']\n",
    "\n",
    "fig, (ax1, ax2) = plt.subplots(1, 2, figsize=(10, 5))\n",
    "sns.lineplot(x=results.epoch, y=relu_loss, ax=ax1, label='loss')\n",
    "sns.lineplot(x=results.epoch, y=relu_accuracy, ax=ax2, label='accuracy');"
   ]
  },
  {
   "cell_type": "markdown",
   "metadata": {
    "heading_collapsed": true,
    "hidden": true
   },
   "source": [
    "### Exercise"
   ]
  },
  {
   "cell_type": "markdown",
   "metadata": {
    "hidden": true
   },
   "source": [
    "We have been looking only at our training set. Let's add in our validation set to the picture. Check the docstring for the `.fit()` method and add in our validation data."
   ]
  },
  {
   "cell_type": "code",
   "execution_count": 38,
   "metadata": {
    "ExecuteTime": {
     "end_time": "2023-10-16T02:55:43.678684Z",
     "start_time": "2023-10-16T02:55:43.539650Z"
    },
    "hidden": true
   },
   "outputs": [],
   "source": [
    "model = Sequential()\n",
    "model.add(Dense(12, activation='relu', input_dim=64))\n",
    "model.add(Dense(8, activation='relu'))\n",
    "model.add(Dense(4, activation='relu'))\n",
    "model.add(Dense(1, activation='sigmoid'))\n",
    "\n",
    "model.compile(optimizer='adam',\n",
    "              loss='binary_crossentropy',\n",
    "              metrics=['accuracy'])"
   ]
  },
  {
   "cell_type": "code",
   "execution_count": 39,
   "metadata": {
    "ExecuteTime": {
     "end_time": "2023-10-16T02:55:56.912649Z",
     "start_time": "2023-10-16T02:55:43.679649Z"
    },
    "hidden": true,
    "scrolled": false
   },
   "outputs": [
    {
     "name": "stdout",
     "output_type": "stream",
     "text": [
      "Epoch 1/30\n",
      "115/115 [==============================] - 0s 1ms/step - loss: 0.5901 - accuracy: 0.7058 - val_loss: 0.4718 - val_accuracy: 0.8056\n",
      "Epoch 2/30\n",
      "115/115 [==============================] - 0s 548us/step - loss: 0.3616 - accuracy: 0.8512 - val_loss: 0.3013 - val_accuracy: 0.8646\n",
      "Epoch 3/30\n",
      "115/115 [==============================] - 0s 539us/step - loss: 0.2651 - accuracy: 0.8982 - val_loss: 0.2447 - val_accuracy: 0.9271\n",
      "Epoch 4/30\n",
      "115/115 [==============================] - 0s 539us/step - loss: 0.2231 - accuracy: 0.9095 - val_loss: 0.2278 - val_accuracy: 0.9132\n",
      "Epoch 5/30\n",
      "115/115 [==============================] - 0s 539us/step - loss: 0.1855 - accuracy: 0.9252 - val_loss: 0.2030 - val_accuracy: 0.9201\n",
      "Epoch 6/30\n",
      "115/115 [==============================] - 0s 600us/step - loss: 0.1554 - accuracy: 0.9382 - val_loss: 0.1638 - val_accuracy: 0.9375\n",
      "Epoch 7/30\n",
      "115/115 [==============================] - 0s 583us/step - loss: 0.1377 - accuracy: 0.9434 - val_loss: 0.1453 - val_accuracy: 0.9549\n",
      "Epoch 8/30\n",
      "115/115 [==============================] - 0s 591us/step - loss: 0.1185 - accuracy: 0.9495 - val_loss: 0.1336 - val_accuracy: 0.9549\n",
      "Epoch 9/30\n",
      "115/115 [==============================] - 0s 548us/step - loss: 0.1086 - accuracy: 0.9530 - val_loss: 0.1424 - val_accuracy: 0.9583\n",
      "Epoch 10/30\n",
      "115/115 [==============================] - 0s 557us/step - loss: 0.0974 - accuracy: 0.9626 - val_loss: 0.1190 - val_accuracy: 0.9479\n",
      "Epoch 11/30\n",
      "115/115 [==============================] - 0s 565us/step - loss: 0.0883 - accuracy: 0.9626 - val_loss: 0.1120 - val_accuracy: 0.9514\n",
      "Epoch 12/30\n",
      "115/115 [==============================] - 0s 557us/step - loss: 0.0839 - accuracy: 0.9643 - val_loss: 0.1115 - val_accuracy: 0.9583\n",
      "Epoch 13/30\n",
      "115/115 [==============================] - 0s 584us/step - loss: 0.0765 - accuracy: 0.9713 - val_loss: 0.0899 - val_accuracy: 0.9618\n",
      "Epoch 14/30\n",
      "115/115 [==============================] - 0s 635us/step - loss: 0.0779 - accuracy: 0.9695 - val_loss: 0.0917 - val_accuracy: 0.9653\n",
      "Epoch 15/30\n",
      "115/115 [==============================] - 0s 583us/step - loss: 0.0682 - accuracy: 0.9756 - val_loss: 0.0907 - val_accuracy: 0.9618\n",
      "Epoch 16/30\n",
      "115/115 [==============================] - 0s 583us/step - loss: 0.0668 - accuracy: 0.9748 - val_loss: 0.0856 - val_accuracy: 0.9618\n",
      "Epoch 17/30\n",
      "115/115 [==============================] - 0s 557us/step - loss: 0.0581 - accuracy: 0.9835 - val_loss: 0.0784 - val_accuracy: 0.9722\n",
      "Epoch 18/30\n",
      "115/115 [==============================] - 0s 522us/step - loss: 0.0537 - accuracy: 0.9800 - val_loss: 0.0939 - val_accuracy: 0.9653\n",
      "Epoch 19/30\n",
      "115/115 [==============================] - 0s 539us/step - loss: 0.0512 - accuracy: 0.9826 - val_loss: 0.0783 - val_accuracy: 0.9688\n",
      "Epoch 20/30\n",
      "115/115 [==============================] - 0s 539us/step - loss: 0.0519 - accuracy: 0.9809 - val_loss: 0.0853 - val_accuracy: 0.9688\n",
      "Epoch 21/30\n",
      "115/115 [==============================] - 0s 591us/step - loss: 0.0472 - accuracy: 0.9817 - val_loss: 0.0697 - val_accuracy: 0.9722\n",
      "Epoch 22/30\n",
      "115/115 [==============================] - 0s 635us/step - loss: 0.0517 - accuracy: 0.9774 - val_loss: 0.0779 - val_accuracy: 0.9653\n",
      "Epoch 23/30\n",
      "115/115 [==============================] - 0s 574us/step - loss: 0.0398 - accuracy: 0.9869 - val_loss: 0.0674 - val_accuracy: 0.9792\n",
      "Epoch 24/30\n",
      "115/115 [==============================] - 0s 574us/step - loss: 0.0428 - accuracy: 0.9835 - val_loss: 0.0660 - val_accuracy: 0.9757\n",
      "Epoch 25/30\n",
      "115/115 [==============================] - 0s 583us/step - loss: 0.0360 - accuracy: 0.9887 - val_loss: 0.0651 - val_accuracy: 0.9792\n",
      "Epoch 26/30\n",
      "115/115 [==============================] - 0s 600us/step - loss: 0.0378 - accuracy: 0.9861 - val_loss: 0.0633 - val_accuracy: 0.9757\n",
      "Epoch 27/30\n",
      "115/115 [==============================] - 0s 583us/step - loss: 0.0292 - accuracy: 0.9913 - val_loss: 0.0656 - val_accuracy: 0.9792\n",
      "Epoch 28/30\n",
      "115/115 [==============================] - 0s 574us/step - loss: 0.0315 - accuracy: 0.9904 - val_loss: 0.0819 - val_accuracy: 0.9688\n",
      "Epoch 29/30\n",
      "115/115 [==============================] - 0s 600us/step - loss: 0.0306 - accuracy: 0.9887 - val_loss: 0.0649 - val_accuracy: 0.9757\n",
      "Epoch 30/30\n",
      "115/115 [==============================] - 0s 574us/step - loss: 0.0278 - accuracy: 0.9939 - val_loss: 0.0576 - val_accuracy: 0.9757\n"
     ]
    }
   ],
   "source": [
    "results = model.fit(X_pure_train, y_pure_train,\n",
    "                   validation_data=(X_val, y_val),\n",
    "                   epochs=30, batch_size=10)"
   ]
  },
  {
   "cell_type": "code",
   "execution_count": 40,
   "metadata": {
    "ExecuteTime": {
     "end_time": "2023-10-16T02:55:57.273680Z",
     "start_time": "2023-10-16T02:55:56.913651Z"
    },
    "hidden": true
   },
   "outputs": [
    {
     "data": {
      "image/png": "[encoded data removed]",
      "text/plain": [
       "<Figure size 720x360 with 2 Axes>"
      ]
     },
     "metadata": {
      "needs_background": "light"
     },
     "output_type": "display_data"
    }
   ],
   "source": [
    "train_loss = results.history['loss']\n",
    "train_acc = results.history['accuracy']\n",
    "val_loss = results.history['val_loss']\n",
    "val_acc = results.history['val_accuracy']\n",
    "\n",
    "fig, (ax1, ax2) = plt.subplots(1, 2, figsize=(10, 5))\n",
    "sns.lineplot(x=results.epoch, y=train_loss, ax=ax1, label='train_loss')\n",
    "sns.lineplot(x=results.epoch, y=train_acc, ax=ax2, label='train_accuracy')\n",
    "\n",
    "sns.lineplot(x=results.epoch, y=val_loss, ax=ax1, label='val_loss')\n",
    "sns.lineplot(x=results.epoch, y=val_acc, ax=ax2, label='val_accuracy');"
   ]
  },
  {
   "cell_type": "markdown",
   "metadata": {
    "hidden": true
   },
   "source": [
    "<details>\n",
    "    <summary>One answer here</summary>\n",
    "<code>model = Sequential()\n",
    "model.add(Dense(12, activation='relu', input_dim=64))\n",
    "model.add(Dense(8, activation='relu'))\n",
    "model.add(Dense(4, activation='relu'))\n",
    "model.add(Dense(1, activation='sigmoid'))\n",
    "model.compile(optimizer='adam',\n",
    "              loss='binary_crossentropy',\n",
    "              metrics=['accuracy'])\n",
    "results = model.fit(X_pure_train, y_pure_train,\n",
    "                   validation_data=(X_val, y_val),\n",
    "                   epochs=30, batch_size=10)\n",
    "train_loss = results.history['loss']\n",
    "train_acc = results.history['accuracy']\n",
    "val_loss = results.history['val_loss']\n",
    "val_acc = results.history['val_accuracy']\n",
    "fig, (ax1, ax2) = plt.subplots(1, 2, figsize=(10, 5))\n",
    "sns.lineplot(x=results.epoch, y=train_loss, ax=ax1, label='train_loss')\n",
    "sns.lineplot(x=results.epoch, y=train_acc, ax=ax2, label='train_accuracy')\n",
    "sns.lineplot(x=results.epoch, y=val_loss, ax=ax1, label='val_loss')\n",
    "sns.lineplot(x=results.epoch, y=val_acc, ax=ax2, label='val_accuracy');</code>\n",
    "</details>"
   ]
  },
  {
   "cell_type": "code",
   "execution_count": 30,
   "metadata": {
    "ExecuteTime": {
     "end_time": "2023-10-16T02:55:57.384679Z",
     "start_time": "2023-10-16T02:55:57.274652Z"
    },
    "hidden": true
   },
   "outputs": [
    {
     "data": {
      "text/plain": [
       "0.9756944179534912"
      ]
     },
     "execution_count": 30,
     "metadata": {},
     "output_type": "execute_result"
    }
   ],
   "source": [
    "results.history['val_accuracy'][-1]"
   ]
  },
  {
   "cell_type": "code",
   "execution_count": 31,
   "metadata": {
    "ExecuteTime": {
     "end_time": "2023-10-16T02:55:57.495651Z",
     "start_time": "2023-10-16T02:55:57.385652Z"
    },
    "hidden": true
   },
   "outputs": [
    {
     "data": {
      "text/plain": [
       "0.997389018535614"
      ]
     },
     "execution_count": 31,
     "metadata": {},
     "output_type": "execute_result"
    }
   ],
   "source": [
    "results.history['accuracy'][-1]"
   ]
  },
  {
   "cell_type": "markdown",
   "metadata": {
    "heading_collapsed": true,
    "hidden": true
   },
   "source": [
    "## Connecting with `sklearn`"
   ]
  },
  {
   "cell_type": "markdown",
   "metadata": {
    "hidden": true
   },
   "source": [
    "The `keras.wrappers` submodule means that we can turn `keras` models into estimators that `sklearn` tools will recognize."
   ]
  },
  {
   "cell_type": "code",
   "execution_count": 32,
   "metadata": {
    "ExecuteTime": {
     "end_time": "2023-10-16T02:55:58.239472Z",
     "start_time": "2023-10-16T02:55:57.496651Z"
    },
    "hidden": true
   },
   "outputs": [
    {
     "ename": "TypeError",
     "evalue": "If no scoring is specified, the estimator passed should have a 'score' method. The estimator <tensorflow.python.keras.engine.sequential.Sequential object at 0x0000018E7A1F5D90> does not.",
     "output_type": "error",
     "traceback": [
      "\u001b[1;31m---------------------------------------------------------------------------\u001b[0m",
      "\u001b[1;31mTypeError\u001b[0m                                 Traceback (most recent call last)",
      "\u001b[1;32m<ipython-input-32-440685741601>\u001b[0m in \u001b[0;36m<module>\u001b[1;34m\u001b[0m\n\u001b[0;32m      1\u001b[0m \u001b[1;31m# This will throw an error.\u001b[0m\u001b[1;33m\u001b[0m\u001b[1;33m\u001b[0m\u001b[1;33m\u001b[0m\u001b[0m\n\u001b[0;32m      2\u001b[0m \u001b[1;33m\u001b[0m\u001b[0m\n\u001b[1;32m----> 3\u001b[1;33m \u001b[0mcross_val_score\u001b[0m\u001b[1;33m(\u001b[0m\u001b[0mmodel\u001b[0m\u001b[1;33m,\u001b[0m \u001b[0mX_pure_train\u001b[0m\u001b[1;33m,\u001b[0m \u001b[0my_pure_train\u001b[0m\u001b[1;33m)\u001b[0m\u001b[1;33m\u001b[0m\u001b[1;33m\u001b[0m\u001b[0m\n\u001b[0m",
      "\u001b[1;32mc:\\Users\\irwin\\anaconda3\\envs\\learn-env\\lib\\site-packages\\sklearn\\utils\\validation.py\u001b[0m in \u001b[0;36minner_f\u001b[1;34m(*args, **kwargs)\u001b[0m\n\u001b[0;32m     70\u001b[0m                 \u001b[1;32mfor\u001b[0m \u001b[0mname\u001b[0m\u001b[1;33m,\u001b[0m \u001b[0marg\u001b[0m \u001b[1;32min\u001b[0m \u001b[0mzip\u001b[0m\u001b[1;33m(\u001b[0m\u001b[0mkwonly_args\u001b[0m\u001b[1;33m[\u001b[0m\u001b[1;33m:\u001b[0m\u001b[0mextra_args\u001b[0m\u001b[1;33m]\u001b[0m\u001b[1;33m,\u001b[0m \u001b[0margs\u001b[0m\u001b[1;33m[\u001b[0m\u001b[1;33m-\u001b[0m\u001b[0mextra_args\u001b[0m\u001b[1;33m:\u001b[0m\u001b[1;33m]\u001b[0m\u001b[1;33m)\u001b[0m\u001b[1;33m\u001b[0m\u001b[1;33m\u001b[0m\u001b[0m\n\u001b[0;32m     71\u001b[0m             ]\n\u001b[1;32m---> 72\u001b[1;33m             \u001b[0margs_msg\u001b[0m \u001b[1;33m=\u001b[0m \u001b[1;34m\", \"\u001b[0m\u001b[1;33m.\u001b[0m\u001b[0mjoin\u001b[0m\u001b[1;33m(\u001b[0m\u001b[0margs_msg\u001b[0m\u001b[1;33m)\u001b[0m\u001b[1;33m\u001b[0m\u001b[1;33m\u001b[0m\u001b[0m\n\u001b[0m\u001b[0;32m     73\u001b[0m             warnings.warn(\n\u001b[0;32m     74\u001b[0m                 (\n",
      "\u001b[1;32mc:\\Users\\irwin\\anaconda3\\envs\\learn-env\\lib\\site-packages\\sklearn\\model_selection\\_validation.py\u001b[0m in \u001b[0;36mcross_val_score\u001b[1;34m(estimator, X, y, groups, scoring, cv, n_jobs, verbose, fit_params, pre_dispatch, error_score)\u001b[0m\n\u001b[0;32m    397\u001b[0m     \u001b[1;32mif\u001b[0m \u001b[0mfit_errors\u001b[0m\u001b[1;33m:\u001b[0m\u001b[1;33m\u001b[0m\u001b[1;33m\u001b[0m\u001b[0m\n\u001b[0;32m    398\u001b[0m         \u001b[0mnum_failed_fits\u001b[0m \u001b[1;33m=\u001b[0m \u001b[0mlen\u001b[0m\u001b[1;33m(\u001b[0m\u001b[0mfit_errors\u001b[0m\u001b[1;33m)\u001b[0m\u001b[1;33m\u001b[0m\u001b[1;33m\u001b[0m\u001b[0m\n\u001b[1;32m--> 399\u001b[1;33m         \u001b[0mnum_fits\u001b[0m \u001b[1;33m=\u001b[0m \u001b[0mlen\u001b[0m\u001b[1;33m(\u001b[0m\u001b[0mresults\u001b[0m\u001b[1;33m)\u001b[0m\u001b[1;33m\u001b[0m\u001b[1;33m\u001b[0m\u001b[0m\n\u001b[0m\u001b[0;32m    400\u001b[0m         \u001b[0mfit_errors_counter\u001b[0m \u001b[1;33m=\u001b[0m \u001b[0mCounter\u001b[0m\u001b[1;33m(\u001b[0m\u001b[0mfit_errors\u001b[0m\u001b[1;33m)\u001b[0m\u001b[1;33m\u001b[0m\u001b[1;33m\u001b[0m\u001b[0m\n\u001b[0;32m    401\u001b[0m         \u001b[0mdelimiter\u001b[0m \u001b[1;33m=\u001b[0m \u001b[1;34m\"-\"\u001b[0m \u001b[1;33m*\u001b[0m \u001b[1;36m80\u001b[0m \u001b[1;33m+\u001b[0m \u001b[1;34m\"\\n\"\u001b[0m\u001b[1;33m\u001b[0m\u001b[1;33m\u001b[0m\u001b[0m\n",
      "\u001b[1;32mc:\\Users\\irwin\\anaconda3\\envs\\learn-env\\lib\\site-packages\\sklearn\\utils\\validation.py\u001b[0m in \u001b[0;36minner_f\u001b[1;34m(*args, **kwargs)\u001b[0m\n\u001b[0;32m     70\u001b[0m                 \u001b[1;32mfor\u001b[0m \u001b[0mname\u001b[0m\u001b[1;33m,\u001b[0m \u001b[0marg\u001b[0m \u001b[1;32min\u001b[0m \u001b[0mzip\u001b[0m\u001b[1;33m(\u001b[0m\u001b[0mkwonly_args\u001b[0m\u001b[1;33m[\u001b[0m\u001b[1;33m:\u001b[0m\u001b[0mextra_args\u001b[0m\u001b[1;33m]\u001b[0m\u001b[1;33m,\u001b[0m \u001b[0margs\u001b[0m\u001b[1;33m[\u001b[0m\u001b[1;33m-\u001b[0m\u001b[0mextra_args\u001b[0m\u001b[1;33m:\u001b[0m\u001b[1;33m]\u001b[0m\u001b[1;33m)\u001b[0m\u001b[1;33m\u001b[0m\u001b[1;33m\u001b[0m\u001b[0m\n\u001b[0;32m     71\u001b[0m             ]\n\u001b[1;32m---> 72\u001b[1;33m             \u001b[0margs_msg\u001b[0m \u001b[1;33m=\u001b[0m \u001b[1;34m\", \"\u001b[0m\u001b[1;33m.\u001b[0m\u001b[0mjoin\u001b[0m\u001b[1;33m(\u001b[0m\u001b[0margs_msg\u001b[0m\u001b[1;33m)\u001b[0m\u001b[1;33m\u001b[0m\u001b[1;33m\u001b[0m\u001b[0m\n\u001b[0m\u001b[0;32m     73\u001b[0m             warnings.warn(\n\u001b[0;32m     74\u001b[0m                 (\n",
      "\u001b[1;32mc:\\Users\\irwin\\anaconda3\\envs\\learn-env\\lib\\site-packages\\sklearn\\metrics\\_scorer.py\u001b[0m in \u001b[0;36mcheck_scoring\u001b[1;34m(estimator, scoring, allow_none)\u001b[0m\n\u001b[0;32m    423\u001b[0m             \u001b[0mTest\u001b[0m \u001b[0mdata\u001b[0m \u001b[0mthat\u001b[0m \u001b[0mwill\u001b[0m \u001b[0mbe\u001b[0m \u001b[0mfed\u001b[0m \u001b[0mto\u001b[0m \u001b[0mclf\u001b[0m\u001b[1;33m.\u001b[0m\u001b[0mdecision_function\u001b[0m \u001b[1;32mor\u001b[0m\u001b[1;33m\u001b[0m\u001b[1;33m\u001b[0m\u001b[0m\n\u001b[0;32m    424\u001b[0m             \u001b[0mclf\u001b[0m\u001b[1;33m.\u001b[0m\u001b[0mpredict_proba\u001b[0m\u001b[1;33m.\u001b[0m\u001b[1;33m\u001b[0m\u001b[1;33m\u001b[0m\u001b[0m\n\u001b[1;32m--> 425\u001b[1;33m \u001b[1;33m\u001b[0m\u001b[0m\n\u001b[0m\u001b[0;32m    426\u001b[0m         \u001b[0my\u001b[0m \u001b[1;33m:\u001b[0m \u001b[0marray\u001b[0m\u001b[1;33m-\u001b[0m\u001b[0mlike\u001b[0m\u001b[1;33m\u001b[0m\u001b[1;33m\u001b[0m\u001b[0m\n\u001b[0;32m    427\u001b[0m             \u001b[0mGold\u001b[0m \u001b[0mstandard\u001b[0m \u001b[0mtarget\u001b[0m \u001b[0mvalues\u001b[0m \u001b[1;32mfor\u001b[0m \u001b[0mX\u001b[0m\u001b[1;33m.\u001b[0m \u001b[0mThese\u001b[0m \u001b[0mmust\u001b[0m \u001b[0mbe\u001b[0m \u001b[1;32mclass\u001b[0m \u001b[0mlabels\u001b[0m\u001b[1;33m,\u001b[0m\u001b[1;33m\u001b[0m\u001b[1;33m\u001b[0m\u001b[0m\n",
      "\u001b[1;31mTypeError\u001b[0m: If no scoring is specified, the estimator passed should have a 'score' method. The estimator <tensorflow.python.keras.engine.sequential.Sequential object at 0x0000018E7A1F5D90> does not."
     ]
    }
   ],
   "source": [
    "# This will throw an error.\n",
    "\n",
    "cross_val_score(model, X_pure_train, y_pure_train)"
   ]
  },
  {
   "cell_type": "code",
   "execution_count": 36,
   "metadata": {
    "ExecuteTime": {
     "end_time": "2023-10-16T02:56:54.788815Z",
     "start_time": "2023-10-16T02:56:54.687865Z"
    },
    "hidden": true
   },
   "outputs": [],
   "source": [
    "def build_model():\n",
    "    model = Sequential()\n",
    "    model.add(Dense(12, activation='relu', input_dim=64))\n",
    "    model.add(Dense(8, activation='relu'))\n",
    "    model.add(Dense(4, activation='relu'))\n",
    "    model.add(Dense(1, activation = 'sigmoid'))\n",
    "\n",
    "    model.compile(optimizer='adam',\n",
    "                  loss='binary_crossentropy',\n",
    "                  metrics=['accuracy'])\n",
    "    return model"
   ]
  },
  {
   "cell_type": "code",
   "execution_count": 37,
   "metadata": {
    "ExecuteTime": {
     "end_time": "2023-10-16T02:56:55.462886Z",
     "start_time": "2023-10-16T02:56:55.367733Z"
    },
    "hidden": true
   },
   "outputs": [
    {
     "ename": "NameError",
     "evalue": "name 'KerasClassifier' is not defined",
     "output_type": "error",
     "traceback": [
      "\u001b[1;31m---------------------------------------------------------------------------\u001b[0m",
      "\u001b[1;31mNameError\u001b[0m                                 Traceback (most recent call last)",
      "\u001b[1;32m<ipython-input-37-f01b76c8919f>\u001b[0m in \u001b[0;36m<module>\u001b[1;34m\u001b[0m\n\u001b[1;32m----> 1\u001b[1;33m keras_model = KerasClassifier(build_model,\n\u001b[0m\u001b[0;32m      2\u001b[0m                                           \u001b[0mepochs\u001b[0m\u001b[1;33m=\u001b[0m\u001b[1;36m50\u001b[0m\u001b[1;33m,\u001b[0m\u001b[1;33m\u001b[0m\u001b[1;33m\u001b[0m\u001b[0m\n\u001b[0;32m      3\u001b[0m                                           \u001b[0mbatch_size\u001b[0m\u001b[1;33m=\u001b[0m\u001b[1;36m32\u001b[0m\u001b[1;33m,\u001b[0m\u001b[1;33m\u001b[0m\u001b[1;33m\u001b[0m\u001b[0m\n\u001b[0;32m      4\u001b[0m                                           verbose=2)\n",
      "\u001b[1;31mNameError\u001b[0m: name 'KerasClassifier' is not defined"
     ]
    }
   ],
   "source": [
    "keras_model = KerasClassifier(build_model,\n",
    "                                          epochs=50,\n",
    "                                          batch_size=32,\n",
    "                                          verbose=2)"
   ]
  },
  {
   "cell_type": "code",
   "execution_count": null,
   "metadata": {
    "ExecuteTime": {
     "end_time": "2023-10-16T02:56:56.141720Z",
     "start_time": "2023-10-16T02:56:56.043694Z"
    },
    "hidden": true
   },
   "outputs": [],
   "source": [
    "type(keras_model)"
   ]
  },
  {
   "cell_type": "code",
   "execution_count": null,
   "metadata": {
    "ExecuteTime": {
     "end_time": "2023-10-16T02:57:22.734290Z",
     "start_time": "2023-10-16T02:56:58.535700Z"
    },
    "hidden": true
   },
   "outputs": [],
   "source": [
    "cross_val_score(keras_model, X_pure_train, y_pure_train)"
   ]
  },
  {
   "cell_type": "markdown",
   "metadata": {
    "heading_collapsed": true,
    "hidden": true
   },
   "source": [
    "## Regularization"
   ]
  },
  {
   "cell_type": "markdown",
   "metadata": {
    "hidden": true
   },
   "source": [
    "Does regularization make sense in the context of neural networks? <br/>\n",
    "\n",
    "Yes! We still have all of the salient ingredients: a loss function, overfitting vs. underfitting, and coefficients (weights) that could get too large.\n",
    "\n",
    "But there are now a few different flavors besides L1 and L2 regularization. (Note that L1 regularization is not common in the context of  neural networks.)\n",
    "\n",
    "We'll add a few more layers to give regularization a better chance of making a difference!"
   ]
  },
  {
   "cell_type": "code",
   "execution_count": null,
   "metadata": {
    "ExecuteTime": {
     "end_time": "2023-10-16T02:57:56.469968Z",
     "start_time": "2023-10-16T02:57:52.018481Z"
    },
    "hidden": true
   },
   "outputs": [],
   "source": [
    "model = Sequential()\n",
    "model.add(Dense(30, activation='relu', input_dim=64))\n",
    "\n",
    "# We can add L2 (or L1) regularization right into\n",
    "# the layer with the kernel_regularizer parameter.\n",
    "\n",
    "model.add(Dense(20, activation='relu',\n",
    "                kernel_regularizer=l2(l2=0.05)))\n",
    "\n",
    "# Note that there is also a bias_regularizer,\n",
    "# but this tends to have less effect.\n",
    "\n",
    "model.add(Dense(12, activation='relu'))\n",
    "model.add(Dense(12, activation='relu'))\n",
    "model.add(Dense(12, activation='relu'))\n",
    "model.add(Dense(8, activation='relu'))\n",
    "model.add(Dense(4, activation='relu'))\n",
    "model.add(Dense(1, activation ='sigmoid'))\n",
    "\n",
    "model.compile(optimizer='adam',\n",
    "              loss='binary_crossentropy',\n",
    "              metrics=['accuracy'])\n",
    "\n",
    "results = model.fit(X_pure_train, y_pure_train, epochs=20, batch_size=32,\n",
    "                    verbose=0, validation_data=(X_val, y_val))\n",
    "\n",
    "train_loss = results.history['loss']\n",
    "train_acc = results.history['accuracy']\n",
    "val_loss = results.history['val_loss']\n",
    "val_acc = results.history['val_accuracy']\n",
    "\n",
    "\n",
    "fig, (ax1, ax2) = plt.subplots(1, 2, figsize=(10, 5))\n",
    "sns.lineplot(x=results.epoch, y=train_loss, ax=ax1, label='train_loss')\n",
    "sns.lineplot(x=results.epoch, y=train_acc, ax=ax2, label='train_accuracy')\n",
    "\n",
    "sns.lineplot(x=results.epoch, y=val_loss, ax=ax1, label='val_loss')\n",
    "sns.lineplot(x=results.epoch, y=val_acc, ax=ax2, label='val_accuracy');"
   ]
  },
  {
   "cell_type": "markdown",
   "metadata": {
    "hidden": true
   },
   "source": [
    "Adding L2 to multiple layers:"
   ]
  },
  {
   "cell_type": "code",
   "execution_count": 44,
   "metadata": {
    "ExecuteTime": {
     "end_time": "2023-10-16T02:58:06.107987Z",
     "start_time": "2023-10-16T02:58:01.306992Z"
    },
    "hidden": true
   },
   "outputs": [
    {
     "data": {
      "image/png": "[encoded data removed]",
      "text/plain": [
       "<Figure size 720x360 with 2 Axes>"
      ]
     },
     "metadata": {
      "needs_background": "light"
     },
     "output_type": "display_data"
    }
   ],
   "source": [
    "model = Sequential()\n",
    "model.add(Dense(30, activation='relu',\n",
    "                input_dim=64))\n",
    "model.add(Dense(20, activation='relu',\n",
    "                kernel_regularizer=l2(l2=0.01)))\n",
    "\n",
    "model.add(Dense(12, activation='relu',\n",
    "                kernel_regularizer=l2(l2=0.01)))\n",
    "model.add(Dense(12, activation='relu',\n",
    "                kernel_regularizer=l2(l2=0.01)))\n",
    "model.add(Dense(12, activation='relu',\n",
    "                kernel_regularizer=l2(l2=0.01)))\n",
    "model.add(Dense(8, activation='relu',\n",
    "                kernel_regularizer=l2(l2=0.01)))\n",
    "model.add(Dense(4, activation='relu',\n",
    "                kernel_regularizer=l2(l2=0.01)))\n",
    "model.add(Dense(1, activation='sigmoid'))\n",
    "\n",
    "model.compile(optimizer='adam',\n",
    "              loss='binary_crossentropy',\n",
    "              metrics=['accuracy'])\n",
    "\n",
    "results = model.fit(X_pure_train, y_pure_train, epochs=20, batch_size=32,\n",
    "                    verbose=0, validation_data=(X_val, y_val))\n",
    "\n",
    "train_loss = results.history['loss']\n",
    "train_acc = results.history['accuracy']\n",
    "val_loss = results.history['val_loss']\n",
    "val_acc = results.history['val_accuracy']\n",
    "\n",
    "\n",
    "fig, (ax1, ax2) = plt.subplots(1, 2, figsize=(10, 5))\n",
    "sns.lineplot(x=results.epoch, y=train_loss, ax=ax1, label='train_loss')\n",
    "sns.lineplot(x=results.epoch, y=train_acc, ax=ax2, label='train_accuracy')\n",
    "\n",
    "sns.lineplot(x=results.epoch, y=val_loss, ax=ax1, label='val_loss')\n",
    "sns.lineplot(x=results.epoch, y=val_acc, ax=ax2, label='val_accuracy');"
   ]
  },
  {
   "cell_type": "markdown",
   "metadata": {
    "heading_collapsed": true,
    "hidden": true
   },
   "source": [
    "### Dropout"
   ]
  },
  {
   "cell_type": "markdown",
   "metadata": {
    "hidden": true
   },
   "source": [
    "We can also specify a dropout layer in keras, which randomly shuts off different nodes during training. This can help to prevent overfitting.\n",
    "\n",
    "![drop_out](images/drop_out.png)"
   ]
  },
  {
   "cell_type": "markdown",
   "metadata": {
    "heading_collapsed": true,
    "hidden": true
   },
   "source": [
    "### Exercise"
   ]
  },
  {
   "cell_type": "markdown",
   "metadata": {
    "hidden": true
   },
   "source": [
    "To add dropout to a `keras` network, simply add it as though it were a layer. It will apply to the immediately preceding layer.\n",
    "\n",
    "Add Dropout to one or more layers below."
   ]
  },
  {
   "cell_type": "code",
   "execution_count": 45,
   "metadata": {
    "ExecuteTime": {
     "end_time": "2023-10-16T02:58:27.548114Z",
     "start_time": "2023-10-16T02:58:18.103072Z"
    },
    "hidden": true,
    "scrolled": false
   },
   "outputs": [
    {
     "data": {
      "image/png": "[encoded data removed]",
      "text/plain": [
       "<Figure size 720x360 with 2 Axes>"
      ]
     },
     "metadata": {
      "needs_background": "light"
     },
     "output_type": "display_data"
    }
   ],
   "source": [
    "# model.add(Dropout(0.5))\n",
    "\n",
    "model = Sequential()\n",
    "model.add(Dense(30, activation='relu', input_dim=64))\n",
    "model.add(Dense(20, activation='relu'))\n",
    "\n",
    "model.add(Dropout(0.5))\n",
    "\n",
    "model.add(Dense(12, activation='relu'))\n",
    "\n",
    "model.add(Dropout(0.2))\n",
    "\n",
    "model.add(Dense(12, activation='relu'))\n",
    "model.add(Dense(12, activation='relu'))\n",
    "model.add(Dense(8, activation='relu'))\n",
    "model.add(Dense(4, activation='relu'))\n",
    "model.add(Dense(1, activation ='sigmoid'))\n",
    "\n",
    "model.compile(optimizer='adam',\n",
    "              loss='binary_crossentropy',\n",
    "              metrics=['accuracy'])\n",
    "\n",
    "results = model.fit(X_pure_train, y_pure_train, epochs=50,\n",
    "                    batch_size= 32, verbose=0,\n",
    "                    validation_data=(X_val, y_val))\n",
    "\n",
    "\n",
    "\n",
    "\n",
    "\n",
    "\n",
    "\n",
    "\n",
    "train_loss = results.history['loss']\n",
    "train_acc = results.history['accuracy']\n",
    "val_loss = results.history['val_loss']\n",
    "val_acc = results.history['val_accuracy']\n",
    "\n",
    "\n",
    "fig, (ax1, ax2) = plt.subplots(1, 2, figsize=(10, 5))\n",
    "sns.lineplot(x=results.epoch, y=train_loss, ax=ax1, label='train_loss')\n",
    "sns.lineplot(x=results.epoch, y=train_acc, ax=ax2, label='train_accuracy')\n",
    "\n",
    "sns.lineplot(x=results.epoch, y=val_loss, ax=ax1, label='val_loss')\n",
    "sns.lineplot(x=results.epoch, y=val_acc, ax=ax2, label='val_accuracy');"
   ]
  },
  {
   "cell_type": "markdown",
   "metadata": {
    "hidden": true
   },
   "source": [
    "<details>\n",
    "    <summary>One answer here</summary>\n",
    "<code>model = Sequential()\n",
    "model.add(Dense(30, activation='relu', input_dim=64))\n",
    "model.add(Dense(20, activation='relu'))\n",
    "model.add(Dropout(0.5))\n",
    "model.add(Dense(12, activation='relu'))\n",
    "model.add(Dropout(0.2))\n",
    "model.add(Dense(12, activation='relu'))\n",
    "model.add(Dense(12, activation='relu'))\n",
    "model.add(Dense(8, activation='relu'))\n",
    "model.add(Dense(4, activation='relu'))\n",
    "model.add(Dense(1, activation ='sigmoid'))\n",
    "\n",
    "model.compile(optimizer='adam',\n",
    "              loss='binary_crossentropy',\n",
    "              metrics=['accuracy'])\n",
    "\n",
    "results = model.fit(X_pure_train, y_pure_train, epochs=50,\n",
    "                    batch_size= 32, verbose=0,\n",
    "                    validation_data=(X_val, y_val))\n",
    "\n",
    "train_loss = results.history['loss']\n",
    "train_acc = results.history['accuracy']\n",
    "val_loss = results.history['val_loss']\n",
    "val_acc = results.history['val_accuracy']\n",
    "\n",
    "\n",
    "fig, (ax1, ax2) = plt.subplots(1, 2, figsize=(10, 5))\n",
    "sns.lineplot(x=results.epoch, y=train_loss, ax=ax1, label='train_loss')\n",
    "sns.lineplot(x=results.epoch, y=train_acc, ax=ax2, label='train_accuracy')\n",
    "\n",
    "sns.lineplot(x=results.epoch, y=val_loss, ax=ax1, label='val_loss')\n",
    "sns.lineplot(x=results.epoch, y=val_acc, ax=ax2, label='val_accuracy');</code>\n",
    "</details>"
   ]
  },
  {
   "cell_type": "code",
   "execution_count": null,
   "metadata": {
    "ExecuteTime": {
     "end_time": "2023-10-16T02:58:34.087381Z",
     "start_time": "2023-10-16T02:58:33.973649Z"
    },
    "hidden": true
   },
   "outputs": [],
   "source": [
    "results.history['val_accuracy'][-1]"
   ]
  },
  {
   "cell_type": "code",
   "execution_count": null,
   "metadata": {
    "ExecuteTime": {
     "end_time": "2023-10-16T02:58:34.678055Z",
     "start_time": "2023-10-16T02:58:34.570055Z"
    },
    "hidden": true
   },
   "outputs": [],
   "source": [
    "results.history['accuracy'][-1]"
   ]
  },
  {
   "cell_type": "markdown",
   "metadata": {
    "heading_collapsed": true,
    "hidden": true
   },
   "source": [
    "### Early Stopping"
   ]
  },
  {
   "cell_type": "markdown",
   "metadata": {
    "hidden": true
   },
   "source": [
    "We can also tell our neural network to stop once it stops realizing any gain.\n",
    "\n",
    "Here we tell it to stop once the a very small positive change in the validation loss occurs:"
   ]
  },
  {
   "cell_type": "code",
   "execution_count": 46,
   "metadata": {
    "ExecuteTime": {
     "end_time": "2023-10-16T03:01:56.569003Z",
     "start_time": "2023-10-16T03:01:55.027035Z"
    },
    "hidden": true
   },
   "outputs": [
    {
     "name": "stdout",
     "output_type": "stream",
     "text": [
      "Epoch 1/20\n",
      "36/36 [==============================] - 0s 4ms/step - loss: 0.6924 - accuracy: 0.5213 - val_loss: 0.6829 - val_accuracy: 0.4931\n",
      "Epoch 2/20\n",
      "36/36 [==============================] - 0s 806us/step - loss: 0.6614 - accuracy: 0.6258 - val_loss: 0.5873 - val_accuracy: 0.7778\n",
      "Epoch 3/20\n",
      "36/36 [==============================] - 0s 806us/step - loss: 0.5401 - accuracy: 0.7650 - val_loss: 0.4082 - val_accuracy: 0.8924\n",
      "Epoch 4/20\n",
      "36/36 [==============================] - 0s 806us/step - loss: 0.3972 - accuracy: 0.8512 - val_loss: 0.2897 - val_accuracy: 0.8889\n",
      "Epoch 5/20\n",
      "36/36 [==============================] - 0s 834us/step - loss: 0.3080 - accuracy: 0.8921 - val_loss: 0.2400 - val_accuracy: 0.9132\n",
      "Epoch 6/20\n",
      "36/36 [==============================] - 0s 806us/step - loss: 0.2882 - accuracy: 0.8930 - val_loss: 0.2261 - val_accuracy: 0.9097\n",
      "Epoch 7/20\n",
      "36/36 [==============================] - 0s 1ms/step - loss: 0.2418 - accuracy: 0.9043 - val_loss: 0.2125 - val_accuracy: 0.9201\n",
      "Epoch 8/20\n",
      "36/36 [==============================] - 0s 861us/step - loss: 0.2094 - accuracy: 0.9260 - val_loss: 0.2165 - val_accuracy: 0.9201\n",
      "Epoch 00008: early stopping\n"
     ]
    },
    {
     "data": {
      "image/png": "[encoded data removed]",
      "text/plain": [
       "<Figure size 720x360 with 2 Axes>"
      ]
     },
     "metadata": {
      "needs_background": "light"
     },
     "output_type": "display_data"
    }
   ],
   "source": [
    "model = Sequential()\n",
    "model.add(Dense(30, activation='relu', input_dim=64))\n",
    "model.add(Dense(20, activation='relu'))\n",
    "model.add(Dropout(0.5))\n",
    "model.add(Dense(12, activation='relu'))\n",
    "model.add(Dense(12, activation='relu'))\n",
    "model.add(Dense(12, activation='relu'))\n",
    "model.add(Dense(8, activation='relu'))\n",
    "model.add(Dense(4, activation='relu'))\n",
    "model.add(Dense(1, activation ='sigmoid'))\n",
    "\n",
    "model.compile(optimizer='adam',\n",
    "              loss='binary_crossentropy',\n",
    "              metrics=['accuracy'])\n",
    "\n",
    "# Define the EarlyStopping object\n",
    "early_stop = EarlyStopping(monitor='val_loss', min_delta=1e-4,\n",
    "                           verbose=1,\n",
    "                           mode='min')\n",
    "\n",
    "# Place this in a list as the value of the `callbacks` parameter\n",
    "# in the `.fit()` method.\n",
    "results = model.fit(X_pure_train, y_pure_train,\n",
    "                    epochs=20, batch_size=32,\n",
    "                    verbose=1, validation_data=(X_val, y_val),\n",
    "                    callbacks=[early_stop])\n",
    "\n",
    "train_loss = results.history['loss']\n",
    "train_acc = results.history['accuracy']\n",
    "val_loss = results.history['val_loss']\n",
    "val_acc = results.history['val_accuracy']\n",
    "\n",
    "\n",
    "fig, (ax1, ax2) = plt.subplots(1, 2, figsize=(10, 5))\n",
    "sns.lineplot(x=results.epoch, y=train_loss, ax=ax1, label='train_loss')\n",
    "sns.lineplot(x=results.epoch, y=train_acc, ax=ax2, label='train_accuracy')\n",
    "\n",
    "sns.lineplot(x=results.epoch, y=val_loss, ax=ax1, label='val_loss')\n",
    "sns.lineplot(x=results.epoch, y=val_acc, ax=ax2, label='val_accuracy');"
   ]
  },
  {
   "cell_type": "markdown",
   "metadata": {
    "heading_collapsed": true,
    "hidden": true
   },
   "source": [
    "### Exercise"
   ]
  },
  {
   "cell_type": "markdown",
   "metadata": {
    "hidden": true
   },
   "source": [
    "That probably stopped too early. We can specify the number of epochs in which it doesn't see decrease in the loss with the `patience` parameter. Modify the code below to include an Early Stop with a patience of 5 epochs."
   ]
  },
  {
   "cell_type": "code",
   "execution_count": 47,
   "metadata": {
    "ExecuteTime": {
     "end_time": "2023-10-16T03:02:13.470343Z",
     "start_time": "2023-10-16T03:02:09.126373Z"
    },
    "hidden": true
   },
   "outputs": [
    {
     "name": "stdout",
     "output_type": "stream",
     "text": [
      "Epoch 00032: early stopping\n"
     ]
    },
    {
     "data": {
      "image/png": "[encoded data removed]",
      "text/plain": [
       "<Figure size 720x360 with 2 Axes>"
      ]
     },
     "metadata": {
      "needs_background": "light"
     },
     "output_type": "display_data"
    }
   ],
   "source": [
    "model = Sequential()\n",
    "model.add(Dense(30, activation='relu', input_dim=64))\n",
    "model.add(Dense(20, activation='relu'))\n",
    "model.add(Dropout(0.5))\n",
    "model.add(Dense(12, activation='relu'))\n",
    "model.add(Dense(12, activation='relu'))\n",
    "model.add(Dense(12, activation='relu'))\n",
    "model.add(Dense(8, activation='relu'))\n",
    "model.add(Dense(4, activation='relu'))\n",
    "model.add(Dense(1, activation ='sigmoid'))\n",
    "\n",
    "model.compile(optimizer='adam',\n",
    "              loss='binary_crossentropy',\n",
    "              metrics=['accuracy'])\n",
    "\n",
    "# Define the EarlyStopping object\n",
    "early_stop = EarlyStopping(monitor='val_loss', min_delta=1e-8,\n",
    "                           verbose=1, \n",
    "                           patience=5,\n",
    "                           mode='min')\n",
    "\n",
    "# Place this in a list as the value of the `callbacks` parameter\n",
    "# in the `.fit()` method.\n",
    "results = model.fit(X_pure_train, y_pure_train,\n",
    "                    epochs=50, batch_size= 32,\n",
    "                    verbose=0, validation_data=(X_val, y_val),\n",
    "                    callbacks=[early_stop])\n",
    "\n",
    "train_loss = results.history['loss']\n",
    "train_acc = results.history['accuracy']\n",
    "val_loss = results.history['val_loss']\n",
    "val_acc = results.history['val_accuracy']\n",
    "\n",
    "\n",
    "fig, (ax1, ax2) = plt.subplots(1, 2, figsize=(10, 5))\n",
    "sns.lineplot(x=results.epoch, y=train_loss, ax=ax1, label='train_loss')\n",
    "sns.lineplot(x=results.epoch, y=train_acc, ax=ax2, label='train_accuracy')\n",
    "\n",
    "sns.lineplot(x=results.epoch, y=val_loss, ax=ax1, label='val_loss')\n",
    "sns.lineplot(x=results.epoch, y=val_acc, ax=ax2, label='val_accuracy');"
   ]
  },
  {
   "cell_type": "markdown",
   "metadata": {
    "hidden": true
   },
   "source": [
    "<details>\n",
    "    <summary>One answer here</summary>\n",
    "<code>model = Sequential()\n",
    "model.add(Dense(30, activation='relu', input_dim=64))\n",
    "model.add(Dense(20, activation='relu'))\n",
    "model.add(Dropout(0.5))\n",
    "model.add(Dense(12, activation='relu'))\n",
    "model.add(Dense(12, activation='relu'))\n",
    "model.add(Dense(12, activation='relu'))\n",
    "model.add(Dense(8, activation='relu'))\n",
    "model.add(Dense(4, activation='relu'))\n",
    "model.add(Dense(1, activation ='sigmoid'))\n",
    "\n",
    "model.compile(optimizer='adam',\n",
    "              loss='binary_crossentropy',\n",
    "              metrics=['accuracy'])\n",
    "\n",
    "# Define the EarlyStopping object\n",
    "\n",
    "\n",
    "\n",
    "# Place this in a list as the value of the `callbacks` parameter\n",
    "# in the `.fit()` method.\n",
    "results = model.fit(X_pure_train, y_pure_train,\n",
    "                    epochs=50, batch_size= 32,\n",
    "                    verbose=0, validation_data=(X_val, y_val),\n",
    "                    callbacks=[early_stop])\n",
    "\n",
    "train_loss = results.history['loss']\n",
    "train_acc = results.history['accuracy']\n",
    "val_loss = results.history['val_loss']\n",
    "val_acc = results.history['val_accuracy']\n",
    "\n",
    "\n",
    "fig, (ax1, ax2) = plt.subplots(1, 2, figsize=(10, 5))\n",
    "sns.lineplot(x=results.epoch, y=train_loss, ax=ax1, label='train_loss')\n",
    "sns.lineplot(x=results.epoch, y=train_acc, ax=ax2, label='train_accuracy')\n",
    "\n",
    "sns.lineplot(x=results.epoch, y=val_loss, ax=ax1, label='val_loss')\n",
    "sns.lineplot(x=results.epoch, y=val_acc, ax=ax2, label='val_accuracy');</code>\n",
    "</details>"
   ]
  },
  {
   "cell_type": "code",
   "execution_count": 48,
   "metadata": {
    "ExecuteTime": {
     "end_time": "2023-10-16T03:02:20.250416Z",
     "start_time": "2023-10-16T03:02:20.130295Z"
    },
    "hidden": true
   },
   "outputs": [
    {
     "data": {
      "text/plain": [
       "0.9652777910232544"
      ]
     },
     "execution_count": 48,
     "metadata": {},
     "output_type": "execute_result"
    }
   ],
   "source": [
    "results.history['val_accuracy'][-1]"
   ]
  },
  {
   "cell_type": "code",
   "execution_count": 49,
   "metadata": {
    "ExecuteTime": {
     "end_time": "2023-10-16T03:02:20.843297Z",
     "start_time": "2023-10-16T03:02:20.735297Z"
    },
    "hidden": true
   },
   "outputs": [
    {
     "data": {
      "text/plain": [
       "0.9912967681884766"
      ]
     },
     "execution_count": 49,
     "metadata": {},
     "output_type": "execute_result"
    }
   ],
   "source": [
    "results.history['accuracy'][-1]"
   ]
  },
  {
   "cell_type": "markdown",
   "metadata": {
    "heading_collapsed": true,
    "hidden": true
   },
   "source": [
    "## Multiclass Classification and Softmax"
   ]
  },
  {
   "cell_type": "markdown",
   "metadata": {
    "hidden": true
   },
   "source": [
    "Now let's return to the problem of predicting digits 0 through 9."
   ]
  },
  {
   "cell_type": "code",
   "execution_count": 50,
   "metadata": {
    "ExecuteTime": {
     "end_time": "2023-10-16T03:02:25.088716Z",
     "start_time": "2023-10-16T03:02:24.934687Z"
    },
    "hidden": true
   },
   "outputs": [],
   "source": [
    "digits = load_digits()\n",
    "X = digits.data\n",
    "y = digits.target"
   ]
  },
  {
   "cell_type": "code",
   "execution_count": 51,
   "metadata": {
    "ExecuteTime": {
     "end_time": "2023-10-16T03:02:26.359134Z",
     "start_time": "2023-10-16T03:02:26.254529Z"
    },
    "hidden": true
   },
   "outputs": [],
   "source": [
    "X_train, X_test, y_train, y_test = train_test_split(X, y,\n",
    "                                                    random_state=42,\n",
    "                                                    test_size=0.2)\n",
    "X_pure_train, X_val, y_pure_train, y_val =\\\n",
    "    train_test_split(X_train, y_train,\n",
    "                     random_state=42, test_size=0.2)\n",
    "X_pure_train, X_val, X_test = X_pure_train/16, X_val/16, X_test/16"
   ]
  },
  {
   "cell_type": "markdown",
   "metadata": {
    "hidden": true
   },
   "source": [
    "For a multiclass output, our neural net expects our target to be in a certain form."
   ]
  },
  {
   "cell_type": "code",
   "execution_count": 52,
   "metadata": {
    "ExecuteTime": {
     "end_time": "2023-10-16T03:02:28.828868Z",
     "start_time": "2023-10-16T03:02:28.717867Z"
    },
    "hidden": true
   },
   "outputs": [
    {
     "data": {
      "text/plain": [
       "6"
      ]
     },
     "execution_count": 52,
     "metadata": {},
     "output_type": "execute_result"
    }
   ],
   "source": [
    "y_test[0]"
   ]
  },
  {
   "cell_type": "code",
   "execution_count": 53,
   "metadata": {
    "ExecuteTime": {
     "end_time": "2023-10-16T03:02:36.427533Z",
     "start_time": "2023-10-16T03:02:36.313559Z"
    },
    "hidden": true
   },
   "outputs": [],
   "source": [
    "ohe = OneHotEncoder(sparse=False)\n",
    "y_pure_train = ohe.fit_transform(y_pure_train.reshape(-1,1))\n",
    "y_val = ohe.transform(y_val.reshape(-1,1))\n",
    "y_test = ohe.transform(y_test.reshape(-1,1))"
   ]
  },
  {
   "cell_type": "code",
   "execution_count": 54,
   "metadata": {
    "ExecuteTime": {
     "end_time": "2023-10-16T03:02:37.040568Z",
     "start_time": "2023-10-16T03:02:36.930534Z"
    },
    "hidden": true
   },
   "outputs": [
    {
     "data": {
      "text/plain": [
       "array([0., 0., 0., 0., 0., 0., 1., 0., 0., 0.])"
      ]
     },
     "execution_count": 54,
     "metadata": {},
     "output_type": "execute_result"
    }
   ],
   "source": [
    "y_test[0]"
   ]
  },
  {
   "cell_type": "code",
   "execution_count": 55,
   "metadata": {
    "ExecuteTime": {
     "end_time": "2023-10-16T03:03:12.127906Z",
     "start_time": "2023-10-16T03:02:48.124764Z"
    },
    "hidden": true
   },
   "outputs": [
    {
     "name": "stdout",
     "output_type": "stream",
     "text": [
      "Epoch 1/50\n",
      "115/115 [==============================] - 0s 2ms/step - loss: 2.2313 - accuracy: 0.1619 - precision: 0.0000e+00 - val_loss: 2.1512 - val_accuracy: 0.2500 - val_precision: 0.0000e+00\n",
      "Epoch 2/50\n",
      "115/115 [==============================] - 0s 565us/step - loss: 1.9941 - accuracy: 0.3124 - precision: 0.0000e+00 - val_loss: 1.8349 - val_accuracy: 0.3264 - val_precision: 0.0000e+00\n",
      "Epoch 3/50\n",
      "115/115 [==============================] - 0s 565us/step - loss: 1.6112 - accuracy: 0.4613 - precision: 1.0000 - val_loss: 1.4682 - val_accuracy: 0.5347 - val_precision: 1.0000\n",
      "Epoch 4/50\n",
      "115/115 [==============================] - 0s 531us/step - loss: 1.2450 - accuracy: 0.6466 - precision: 0.9960 - val_loss: 1.1585 - val_accuracy: 0.7014 - val_precision: 0.9872\n",
      "Epoch 5/50\n",
      "115/115 [==============================] - 0s 531us/step - loss: 0.9862 - accuracy: 0.7641 - precision: 0.9745 - val_loss: 0.9532 - val_accuracy: 0.7535 - val_precision: 0.9906\n",
      "Epoch 6/50\n",
      "115/115 [==============================] - 0s 531us/step - loss: 0.8088 - accuracy: 0.8068 - precision: 0.9615 - val_loss: 0.7932 - val_accuracy: 0.7951 - val_precision: 0.9750\n",
      "Epoch 7/50\n",
      "115/115 [==============================] - 0s 522us/step - loss: 0.6868 - accuracy: 0.8381 - precision: 0.9560 - val_loss: 0.6861 - val_accuracy: 0.8160 - val_precision: 0.9692\n",
      "Epoch 8/50\n",
      "115/115 [==============================] - 0s 522us/step - loss: 0.6000 - accuracy: 0.8416 - precision: 0.9453 - val_loss: 0.6099 - val_accuracy: 0.8299 - val_precision: 0.9624\n",
      "Epoch 9/50\n",
      "115/115 [==============================] - 0s 531us/step - loss: 0.5373 - accuracy: 0.8486 - precision: 0.9381 - val_loss: 0.5501 - val_accuracy: 0.8576 - val_precision: 0.9513\n",
      "Epoch 10/50\n",
      "115/115 [==============================] - 0s 548us/step - loss: 0.4854 - accuracy: 0.8695 - precision: 0.9461 - val_loss: 0.5053 - val_accuracy: 0.8750 - val_precision: 0.9496\n",
      "Epoch 11/50\n",
      "115/115 [==============================] - 0s 548us/step - loss: 0.4490 - accuracy: 0.8782 - precision: 0.9470 - val_loss: 0.4647 - val_accuracy: 0.8819 - val_precision: 0.9458\n",
      "Epoch 12/50\n",
      "115/115 [==============================] - 0s 531us/step - loss: 0.4176 - accuracy: 0.8799 - precision: 0.9372 - val_loss: 0.4354 - val_accuracy: 0.8889 - val_precision: 0.9431\n",
      "Epoch 13/50\n",
      "115/115 [==============================] - 0s 539us/step - loss: 0.3917 - accuracy: 0.8877 - precision: 0.9398 - val_loss: 0.4273 - val_accuracy: 0.8785 - val_precision: 0.9300\n",
      "Epoch 14/50\n",
      "115/115 [==============================] - 0s 531us/step - loss: 0.3695 - accuracy: 0.8912 - precision: 0.9481 - val_loss: 0.3965 - val_accuracy: 0.8958 - val_precision: 0.9377\n",
      "Epoch 15/50\n",
      "115/115 [==============================] - 0s 644us/step - loss: 0.3549 - accuracy: 0.9017 - precision: 0.9439 - val_loss: 0.3651 - val_accuracy: 0.9097 - val_precision: 0.9572\n",
      "Epoch 16/50\n",
      "115/115 [==============================] - 0s 531us/step - loss: 0.3377 - accuracy: 0.9025 - precision: 0.9473 - val_loss: 0.3729 - val_accuracy: 0.8750 - val_precision: 0.9349\n",
      "Epoch 17/50\n",
      "115/115 [==============================] - 0s 531us/step - loss: 0.3187 - accuracy: 0.9051 - precision: 0.9433 - val_loss: 0.3388 - val_accuracy: 0.9062 - val_precision: 0.9427\n",
      "Epoch 18/50\n",
      "115/115 [==============================] - 0s 522us/step - loss: 0.3061 - accuracy: 0.9077 - precision: 0.9527 - val_loss: 0.3299 - val_accuracy: 0.9028 - val_precision: 0.9504\n",
      "Epoch 19/50\n",
      "115/115 [==============================] - 0s 548us/step - loss: 0.2933 - accuracy: 0.9138 - precision: 0.9459 - val_loss: 0.3156 - val_accuracy: 0.9097 - val_precision: 0.9506\n",
      "Epoch 20/50\n",
      "115/115 [==============================] - 0s 574us/step - loss: 0.2798 - accuracy: 0.9173 - precision: 0.9548 - val_loss: 0.3000 - val_accuracy: 0.9167 - val_precision: 0.9655\n",
      "Epoch 21/50\n",
      "115/115 [==============================] - 0s 557us/step - loss: 0.2716 - accuracy: 0.9252 - precision: 0.9545 - val_loss: 0.3000 - val_accuracy: 0.9132 - val_precision: 0.9472\n",
      "Epoch 22/50\n",
      "115/115 [==============================] - 0s 557us/step - loss: 0.2652 - accuracy: 0.9286 - precision: 0.9538 - val_loss: 0.2834 - val_accuracy: 0.9236 - val_precision: 0.9549\n",
      "Epoch 23/50\n",
      "115/115 [==============================] - 0s 557us/step - loss: 0.2480 - accuracy: 0.9304 - precision: 0.9566 - val_loss: 0.2714 - val_accuracy: 0.9271 - val_precision: 0.9597\n",
      "Epoch 24/50\n",
      "115/115 [==============================] - 0s 539us/step - loss: 0.2435 - accuracy: 0.9295 - precision: 0.9542 - val_loss: 0.2687 - val_accuracy: 0.9306 - val_precision: 0.9591\n",
      "Epoch 25/50\n",
      "115/115 [==============================] - 0s 539us/step - loss: 0.2343 - accuracy: 0.9304 - precision: 0.9558 - val_loss: 0.2527 - val_accuracy: 0.9306 - val_precision: 0.9560\n",
      "Epoch 26/50\n",
      "115/115 [==============================] - 0s 539us/step - loss: 0.2244 - accuracy: 0.9365 - precision: 0.9579 - val_loss: 0.2586 - val_accuracy: 0.9306 - val_precision: 0.9699\n",
      "Epoch 27/50\n",
      "115/115 [==============================] - 0s 531us/step - loss: 0.2228 - accuracy: 0.9330 - precision: 0.9599 - val_loss: 0.2464 - val_accuracy: 0.9340 - val_precision: 0.9632\n",
      "Epoch 28/50\n",
      "115/115 [==============================] - 0s 522us/step - loss: 0.2115 - accuracy: 0.9382 - precision: 0.9635 - val_loss: 0.2361 - val_accuracy: 0.9306 - val_precision: 0.9672\n",
      "Epoch 29/50\n",
      "115/115 [==============================] - 0s 539us/step - loss: 0.2048 - accuracy: 0.9426 - precision: 0.9653 - val_loss: 0.2293 - val_accuracy: 0.9340 - val_precision: 0.9630\n",
      "Epoch 30/50\n",
      "115/115 [==============================] - 0s 539us/step - loss: 0.2006 - accuracy: 0.9495 - precision: 0.9700 - val_loss: 0.2275 - val_accuracy: 0.9340 - val_precision: 0.9601\n",
      "Epoch 31/50\n",
      "115/115 [==============================] - 0s 522us/step - loss: 0.1931 - accuracy: 0.9434 - precision: 0.9628 - val_loss: 0.2103 - val_accuracy: 0.9479 - val_precision: 0.9672\n",
      "Epoch 32/50\n",
      "115/115 [==============================] - 0s 513us/step - loss: 0.1866 - accuracy: 0.9495 - precision: 0.9665 - val_loss: 0.2100 - val_accuracy: 0.9479 - val_precision: 0.9675\n",
      "Epoch 33/50\n",
      "115/115 [==============================] - 0s 513us/step - loss: 0.1829 - accuracy: 0.9417 - precision: 0.9602 - val_loss: 0.2074 - val_accuracy: 0.9375 - val_precision: 0.9639\n",
      "Epoch 34/50\n",
      "115/115 [==============================] - 0s 536us/step - loss: 0.1774 - accuracy: 0.9495 - precision: 0.9630 - val_loss: 0.1922 - val_accuracy: 0.9444 - val_precision: 0.9712\n",
      "Epoch 35/50\n",
      "115/115 [==============================] - 0s 539us/step - loss: 0.1719 - accuracy: 0.9547 - precision: 0.9668 - val_loss: 0.2049 - val_accuracy: 0.9375 - val_precision: 0.9603\n",
      "Epoch 36/50\n",
      "115/115 [==============================] - 0s 583us/step - loss: 0.1677 - accuracy: 0.9530 - precision: 0.9660 - val_loss: 0.1926 - val_accuracy: 0.9410 - val_precision: 0.9638\n",
      "Epoch 37/50\n",
      "115/115 [==============================] - 0s 548us/step - loss: 0.1627 - accuracy: 0.9513 - precision: 0.9695 - val_loss: 0.1933 - val_accuracy: 0.9410 - val_precision: 0.9570\n",
      "Epoch 38/50\n",
      "115/115 [==============================] - 0s 626us/step - loss: 0.1581 - accuracy: 0.9574 - precision: 0.9679 - val_loss: 0.1895 - val_accuracy: 0.9479 - val_precision: 0.9674\n",
      "Epoch 39/50\n",
      "115/115 [==============================] - 0s 539us/step - loss: 0.1542 - accuracy: 0.9565 - precision: 0.9705 - val_loss: 0.1896 - val_accuracy: 0.9444 - val_precision: 0.9638\n",
      "Epoch 40/50\n",
      "115/115 [==============================] - 0s 548us/step - loss: 0.1533 - accuracy: 0.9591 - precision: 0.9731 - val_loss: 0.1850 - val_accuracy: 0.9410 - val_precision: 0.9708\n",
      "Epoch 41/50\n",
      "115/115 [==============================] - 0s 522us/step - loss: 0.1469 - accuracy: 0.9582 - precision: 0.9664 - val_loss: 0.1758 - val_accuracy: 0.9340 - val_precision: 0.9745\n",
      "Epoch 42/50\n",
      "115/115 [==============================] - 0s 522us/step - loss: 0.1456 - accuracy: 0.9591 - precision: 0.9724 - val_loss: 0.1818 - val_accuracy: 0.9444 - val_precision: 0.9638\n",
      "Epoch 43/50\n",
      "115/115 [==============================] - 0s 522us/step - loss: 0.1414 - accuracy: 0.9634 - precision: 0.9715 - val_loss: 0.1712 - val_accuracy: 0.9375 - val_precision: 0.9639\n",
      "Epoch 44/50\n",
      "115/115 [==============================] - 0s 522us/step - loss: 0.1363 - accuracy: 0.9608 - precision: 0.9733 - val_loss: 0.1667 - val_accuracy: 0.9514 - val_precision: 0.9712\n",
      "Epoch 45/50\n",
      "115/115 [==============================] - 0s 531us/step - loss: 0.1331 - accuracy: 0.9634 - precision: 0.9743 - val_loss: 0.1666 - val_accuracy: 0.9410 - val_precision: 0.9781\n",
      "Epoch 46/50\n",
      "115/115 [==============================] - 0s 522us/step - loss: 0.1301 - accuracy: 0.9634 - precision: 0.9751 - val_loss: 0.1570 - val_accuracy: 0.9410 - val_precision: 0.9642\n",
      "Epoch 47/50\n",
      "115/115 [==============================] - 0s 513us/step - loss: 0.1257 - accuracy: 0.9669 - precision: 0.9751 - val_loss: 0.1686 - val_accuracy: 0.9479 - val_precision: 0.9639\n",
      "Epoch 48/50\n",
      "115/115 [==============================] - 0s 522us/step - loss: 0.1235 - accuracy: 0.9730 - precision: 0.9787 - val_loss: 0.1608 - val_accuracy: 0.9340 - val_precision: 0.9675\n",
      "Epoch 49/50\n",
      "115/115 [==============================] - 0s 513us/step - loss: 0.1213 - accuracy: 0.9669 - precision: 0.9743 - val_loss: 0.1646 - val_accuracy: 0.9410 - val_precision: 0.9674\n",
      "Epoch 50/50\n",
      "115/115 [==============================] - 0s 531us/step - loss: 0.1148 - accuracy: 0.9652 - precision: 0.9769 - val_loss: 0.1667 - val_accuracy: 0.9410 - val_precision: 0.9643\n"
     ]
    }
   ],
   "source": [
    "# Model from above, but now with ten output neurons:\n",
    "\n",
    "model = Sequential()\n",
    "model.add(Dense(12, activation='relu', input_dim=64))\n",
    "model.add(Dense(8, activation='relu'))\n",
    "model.add(Dense(10, activation='softmax'))\n",
    "\n",
    "model.compile(optimizer='adam',\n",
    "              loss='categorical_crossentropy',\n",
    "              metrics=['accuracy', Precision()])\n",
    "\n",
    "results = model.fit(X_pure_train, y_pure_train,\n",
    "                   epochs=50, batch_size=10,\n",
    "                   validation_data=(X_val, y_val))"
   ]
  },
  {
   "cell_type": "markdown",
   "metadata": {
    "hidden": true
   },
   "source": [
    "$$\\large \\text{Softmax}(x_{i}) = \\frac{\\exp(x_i)}{\\sum_j \\exp(x_j)}$$\n",
    "\n",
    "The sofmax function outputs a number between 0 and 1 for each of our classes.  All of the probabilities of the classes sum up to 1.\n",
    "\n",
    "The number of nodes in our output layer equals the number of categories in our dataset.\n",
    "\n",
    "We also need a new loss function: **categorical crossentropy**, which calculates a separate loss for each label and then sums the results."
   ]
  },
  {
   "cell_type": "code",
   "execution_count": 56,
   "metadata": {
    "ExecuteTime": {
     "end_time": "2023-10-16T03:03:29.634298Z",
     "start_time": "2023-10-16T03:03:29.532192Z"
    },
    "hidden": true
   },
   "outputs": [],
   "source": [
    "history = results.history\n",
    "training_loss = history['loss']\n",
    "val_loss = history['val_loss']\n",
    "training_accuracy = history['accuracy']\n",
    "val_accuracy = history['val_accuracy']"
   ]
  },
  {
   "cell_type": "code",
   "execution_count": 57,
   "metadata": {
    "ExecuteTime": {
     "end_time": "2023-10-16T03:03:32.385811Z",
     "start_time": "2023-10-16T03:03:32.048812Z"
    },
    "hidden": true
   },
   "outputs": [
    {
     "data": {
      "image/png": "[encoded data removed]",
      "text/plain": [
       "<Figure size 1080x360 with 2 Axes>"
      ]
     },
     "metadata": {
      "needs_background": "light"
     },
     "output_type": "display_data"
    }
   ],
   "source": [
    "fig, (ax1,ax2) = plt.subplots(1,2,figsize=(15,5))\n",
    "\n",
    "\n",
    "sns.lineplot(x=list(range(len(training_loss))),\n",
    "             y=training_loss, color='r', label='training', ax=ax1)\n",
    "sns.lineplot(x=list(range(len(val_loss))),\n",
    "             y=val_loss, color='b', label='validation', ax=ax1)\n",
    "sns.lineplot(x=list(range(len(training_loss))),\n",
    "             y=training_accuracy, color='r', label='training',ax=ax2)\n",
    "sns.lineplot(x=list(range(len(val_loss))),\n",
    "             y=val_accuracy, color='b', label='validation',ax=ax2)\n",
    "ax1.legend();"
   ]
  },
  {
   "cell_type": "code",
   "execution_count": 58,
   "metadata": {
    "ExecuteTime": {
     "end_time": "2023-10-16T03:03:38.182845Z",
     "start_time": "2023-10-16T03:03:38.008848Z"
    },
    "hidden": true
   },
   "outputs": [],
   "source": [
    "y_hat_test = np.argmax(model.predict(X_test), axis=-1)"
   ]
  },
  {
   "cell_type": "code",
   "execution_count": 59,
   "metadata": {
    "ExecuteTime": {
     "end_time": "2023-10-16T03:03:39.317702Z",
     "start_time": "2023-10-16T03:03:39.204581Z"
    },
    "hidden": true
   },
   "outputs": [
    {
     "data": {
      "text/plain": [
       "array([[32,  0,  0,  0,  1,  0,  0,  0,  0,  0],\n",
       "       [ 0, 25,  1,  0,  0,  0,  0,  0,  2,  0],\n",
       "       [ 0,  0, 32,  0,  0,  1,  0,  0,  0,  0],\n",
       "       [ 0,  0,  1, 31,  0,  1,  0,  0,  1,  0],\n",
       "       [ 0,  1,  0,  0, 45,  0,  0,  0,  0,  0],\n",
       "       [ 0,  0,  0,  0,  0, 46,  1,  0,  0,  0],\n",
       "       [ 1,  0,  0,  0,  0,  0, 34,  0,  0,  0],\n",
       "       [ 0,  0,  0,  0,  0,  1,  0, 33,  0,  0],\n",
       "       [ 0,  1,  1,  0,  0,  1,  0,  0, 26,  1],\n",
       "       [ 0,  1,  0,  2,  0,  0,  0,  0,  3, 34]], dtype=int64)"
      ]
     },
     "execution_count": 59,
     "metadata": {},
     "output_type": "execute_result"
    }
   ],
   "source": [
    "y_test_restore = ohe.inverse_transform(y_test)\n",
    "confusion_matrix(y_test_restore, y_hat_test)"
   ]
  },
  {
   "cell_type": "markdown",
   "metadata": {
    "hidden": true
   },
   "source": [
    "Wow, look at that performance!  \n",
    "\n",
    "That is great, but remember, we were dealing with simple black and white images.  With color, our basic neural net will have less success.\n",
    "\n",
    "We will explore more advanced tools in the coming days.\n"
   ]
  }
 ],
 "metadata": {
  "celltoolbar": "Raw Cell Format",
  "colab": {
   "collapsed_sections": [],
   "name": "intro-to-keras.ipynb",
   "provenance": []
  },
  "kernelspec": {
   "display_name": "learn-env",
   "language": "python",
   "name": "python3"
  },
  "language_info": {
   "codemirror_mode": {
    "name": "ipython",
    "version": 3
   },
   "file_extension": ".py",
   "mimetype": "text/x-python",
   "name": "python",
   "nbconvert_exporter": "python",
   "pygments_lexer": "ipython3",
   "version": "3.8.5"
  },
  "toc": {
   "base_numbering": 1,
   "nav_menu": {},
   "number_sections": true,
   "sideBar": true,
   "skip_h1_title": false,
   "title_cell": "Table of Contents",
   "title_sidebar": "Contents",
   "toc_cell": false,
   "toc_position": {},
   "toc_section_display": true,
   "toc_window_display": true
  },
  "varInspector": {
   "cols": {
    "lenName": 16,
    "lenType": 16,
    "lenVar": 40
   },
   "kernels_config": {
    "python": {
     "delete_cmd_postfix": "",
     "delete_cmd_prefix": "del ",
     "library": "var_list.py",
     "varRefreshCmd": "print(var_dic_list())"
    },
    "r": {
     "delete_cmd_postfix": ") ",
     "delete_cmd_prefix": "rm(",
     "library": "var_list.r",
     "varRefreshCmd": "cat(var_dic_list()) "
    }
   },
   "types_to_exclude": [
    "module",
    "function",
    "builtin_function_or_method",
    "instance",
    "_Feature"
   ],
   "window_display": false
  }
 },
 "nbformat": 4,
 "nbformat_minor": 4
}
