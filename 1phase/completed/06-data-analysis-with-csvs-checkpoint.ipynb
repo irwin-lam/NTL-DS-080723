{
 "cells": [
  {
   "cell_type": "markdown",
   "metadata": {
    "toc": true
   },
   "source": [
    "<h1>Table of Contents<span class=\"tocSkip\"></span></h1>\n",
    "<div class=\"toc\"><ul class=\"toc-item\"><li><span><a href=\"#Data-Analysis-with-CSVs\" data-toc-modified-id=\"Data-Analysis-with-CSVs-1\"><span class=\"toc-item-num\">1&nbsp;&nbsp;</span>Data Analysis with CSVs</a></span></li><li><span><a href=\"#Objectives\" data-toc-modified-id=\"Objectives-2\"><span class=\"toc-item-num\">2&nbsp;&nbsp;</span>Objectives</a></span></li><li><span><a href=\"#Loading-a-CSV\" data-toc-modified-id=\"Loading-a-CSV-3\"><span class=\"toc-item-num\">3&nbsp;&nbsp;</span>Loading a CSV</a></span><ul class=\"toc-item\"><li><span><a href=\"#Get-the-File-Path\" data-toc-modified-id=\"Get-the-File-Path-3.1\"><span class=\"toc-item-num\">3.1&nbsp;&nbsp;</span>Get the File Path</a></span></li><li><span><a href=\"#Inspecting-CSV-files\" data-toc-modified-id=\"Inspecting-CSV-files-3.2\"><span class=\"toc-item-num\">3.2&nbsp;&nbsp;</span>Inspecting CSV files</a></span><ul class=\"toc-item\"><li><span><a href=\"#Printing-Lines-in-Python\" data-toc-modified-id=\"Printing-Lines-in-Python-3.2.1\"><span class=\"toc-item-num\">3.2.1&nbsp;&nbsp;</span>Printing Lines in Python</a></span></li><li><span><a href=\"#Printing-Lines-in-bash\" data-toc-modified-id=\"Printing-Lines-in-bash-3.2.2\"><span class=\"toc-item-num\">3.2.2&nbsp;&nbsp;</span>Printing Lines in bash</a></span></li><li><span><a href=\"#Discussion\" data-toc-modified-id=\"Discussion-3.2.3\"><span class=\"toc-item-num\">3.2.3&nbsp;&nbsp;</span>Discussion</a></span></li></ul></li><li><span><a href=\"#Using-the-csv-module\" data-toc-modified-id=\"Using-the-csv-module-3.3\"><span class=\"toc-item-num\">3.3&nbsp;&nbsp;</span>Using the <code>csv</code> module</a></span></li></ul></li><li><span><a href=\"#Data-Preparation\" data-toc-modified-id=\"Data-Preparation-4\"><span class=\"toc-item-num\">4&nbsp;&nbsp;</span>Data Preparation</a></span><ul class=\"toc-item\"><li><span><a href=\"#Clean-the-Sale-Prices\" data-toc-modified-id=\"Clean-the-Sale-Prices-4.1\"><span class=\"toc-item-num\">4.1&nbsp;&nbsp;</span>Clean the Sale Prices</a></span></li><li><span><a href=\"#Clean-the-Dates\" data-toc-modified-id=\"Clean-the-Dates-4.2\"><span class=\"toc-item-num\">4.2&nbsp;&nbsp;</span>Clean the Dates</a></span><ul class=\"toc-item\"><li><span><a href=\"#Using-Python-built-in-methods\" data-toc-modified-id=\"Using-Python-built-in-methods-4.2.1\"><span class=\"toc-item-num\">4.2.1&nbsp;&nbsp;</span>Using Python built-in methods</a></span></li></ul></li></ul></li><li><span><a href=\"#Data-Analysis\" data-toc-modified-id=\"Data-Analysis-5\"><span class=\"toc-item-num\">5&nbsp;&nbsp;</span>Data Analysis</a></span><ul class=\"toc-item\"><li><span><a href=\"#Question-1:-What-is-the-range-of-years-for-which-we-have-sales-data?\" data-toc-modified-id=\"Question-1:-What-is-the-range-of-years-for-which-we-have-sales-data?-5.1\"><span class=\"toc-item-num\">5.1&nbsp;&nbsp;</span>Question 1: What is the range of years for which we have sales data?</a></span></li><li><span><a href=\"#Question-2:-How-many-properties-sold-in-2020?\" data-toc-modified-id=\"Question-2:-How-many-properties-sold-in-2020?-5.2\"><span class=\"toc-item-num\">5.2&nbsp;&nbsp;</span>Question 2: How many properties sold in 2020?</a></span></li><li><span><a href=\"#Question-3:-What-was-the-mean-sale-price-in-2020?\" data-toc-modified-id=\"Question-3:-What-was-the-mean-sale-price-in-2020?-5.3\"><span class=\"toc-item-num\">5.3&nbsp;&nbsp;</span>Question 3: What was the mean sale price in 2020?</a></span></li><li><span><a href=\"#Question-4:-How-many-properties-sold-in-each-year?\" data-toc-modified-id=\"Question-4:-How-many-properties-sold-in-each-year?-5.4\"><span class=\"toc-item-num\">5.4&nbsp;&nbsp;</span>Question 4: How many properties sold in each year?</a></span></li></ul></li><li><span><a href=\"#Chart-the-Data\" data-toc-modified-id=\"Chart-the-Data-6\"><span class=\"toc-item-num\">6&nbsp;&nbsp;</span>Chart the Data</a></span></li><li><span><a href=\"#Level-Up:-Counter\" data-toc-modified-id=\"Level-Up:-Counter-7\"><span class=\"toc-item-num\">7&nbsp;&nbsp;</span>Level Up: <code>Counter</code></a></span></li><li><span><a href=\"#Level-Up:-Using-datetime\" data-toc-modified-id=\"Level-Up:-Using-datetime-8\"><span class=\"toc-item-num\">8&nbsp;&nbsp;</span>Level Up: Using <code>datetime</code></a></span></li></ul></div>"
   ]
  },
  {
   "cell_type": "markdown",
   "metadata": {
    "heading_collapsed": true
   },
   "source": [
    "# Data Analysis with CSVs"
   ]
  },
  {
   "cell_type": "markdown",
   "metadata": {
    "hidden": true
   },
   "source": [
    "In this lesson, we'll complete a full data analysis with a raw data file. Comma Separated Values files, known as CSVs, are one of the most common file formats for storing tabular data. In this lesson, we'll show you how to load one into memory and work with it using Python."
   ]
  },
  {
   "cell_type": "markdown",
   "metadata": {
    "heading_collapsed": true
   },
   "source": [
    "# Objectives"
   ]
  },
  {
   "cell_type": "markdown",
   "metadata": {
    "hidden": true
   },
   "source": [
    "Perform a complete data analysis by...\n",
    "\n",
    "- Creating a Python data structure from a .csv file\n",
    "- Exploring and cleaning the data \n",
    "- Conducting descriptive analysis\n",
    "- Visualizing the results"
   ]
  },
  {
   "cell_type": "markdown",
   "metadata": {
    "heading_collapsed": true
   },
   "source": [
    "# Loading a CSV"
   ]
  },
  {
   "cell_type": "markdown",
   "metadata": {
    "hidden": true
   },
   "source": [
    "The before you can work with a CSV file, you need to load it into memory."
   ]
  },
  {
   "cell_type": "markdown",
   "metadata": {
    "heading_collapsed": true,
    "hidden": true
   },
   "source": [
    "## Get the File Path"
   ]
  },
  {
   "cell_type": "markdown",
   "metadata": {
    "hidden": true
   },
   "source": [
    "Make sure you have the path to your data file. For this example, it is in the root folder of this repository."
   ]
  },
  {
   "cell_type": "code",
   "execution_count": 1,
   "metadata": {
    "hidden": true
   },
   "outputs": [
    {
     "name": "stdout",
     "output_type": "stream",
     "text": [
      "05-python-review.ipynb\n",
      "06-data-analysis-with-csvs.ipynb\n",
      "07-data-analysis-with-json.ipynb\n",
      "data\n",
      "images\n",
      "src\n"
     ]
    }
   ],
   "source": [
    "!ls"
   ]
  },
  {
   "cell_type": "markdown",
   "metadata": {
    "hidden": true
   },
   "source": [
    "We use `.` to indicate the root folder of the repository when working within this notebook."
   ]
  },
  {
   "cell_type": "code",
   "execution_count": 15,
   "metadata": {
    "hidden": true
   },
   "outputs": [],
   "source": [
    "csv_file_path = \"data/OpenFoodFacts.csv\""
   ]
  },
  {
   "cell_type": "markdown",
   "metadata": {
    "heading_collapsed": true,
    "hidden": true
   },
   "source": [
    "## Inspecting CSV files"
   ]
  },
  {
   "cell_type": "markdown",
   "metadata": {
    "hidden": true
   },
   "source": [
    "In a CSV file, each line represents one row of tabular data, and consecutive values in that row are separated by a comma. Often, the first row contains the column names separated by commas, also known as field names. Let's confirm that this is the case and learn about our dataset by printing the first two lines of the file."
   ]
  },
  {
   "cell_type": "markdown",
   "metadata": {
    "heading_collapsed": true,
    "hidden": true
   },
   "source": [
    "### Printing Lines in Python"
   ]
  },
  {
   "cell_type": "markdown",
   "metadata": {
    "hidden": true
   },
   "source": [
    "We use the `with open()` syntax to easily open and read the file in the notebook. Using this syntax will automatically close the file once the statement is done running."
   ]
  },
  {
   "cell_type": "code",
   "execution_count": 20,
   "metadata": {
    "hidden": true
   },
   "outputs": [
    {
     "name": "stdout",
     "output_type": "stream",
     "text": [
      "product_name,brands,created_date,last_modified_date,serving_size,energy_100g,fat_100g,carbohydrates_100g,sugars_100g,proteins_100g\n",
      "\n"
     ]
    }
   ],
   "source": [
    "# This code prints the first line of the CSV file\n",
    "\n",
    "with open(csv_file_path) as csvfile:\n",
    "    print(csvfile.readline())"
   ]
  },
  {
   "cell_type": "markdown",
   "metadata": {
    "hidden": true
   },
   "source": [
    "Next, we can print the second line to look at an example of one observation from our dataset. This represents one real estate sale in Kings County."
   ]
  },
  {
   "cell_type": "code",
   "execution_count": 21,
   "metadata": {
    "hidden": true
   },
   "outputs": [
    {
     "name": "stdout",
     "output_type": "stream",
     "text": [
      "Banana Chips Sweetened (Whole),,2017-03-09,2017-03-09,28.0 g,2243.0,28.57,64.29,14.29,3.57\n",
      "\n"
     ]
    }
   ],
   "source": [
    "# This code prints the second line of the CSV file\n",
    "\n",
    "with open(csv_file_path) as csvfile:\n",
    "    csvfile.readline()\n",
    "    print(csvfile.readline())\n"
   ]
  },
  {
   "cell_type": "code",
   "execution_count": 31,
   "metadata": {},
   "outputs": [
    {
     "data": {
      "text/plain": [
       "['product_name,brands,created_date,last_modified_date,serving_size,energy_100g,fat_100g,carbohydrates_100g,sugars_100g,proteins_100g\\n',\n",
       " 'Banana Chips Sweetened (Whole),,2017-03-09,2017-03-09,28.0 g,2243.0,28.57,64.29,14.29,3.57\\n',\n",
       " 'Peanuts,Torn & Glasser,2017-03-09,2017-03-09,28.0 g,1941.0,17.86,60.71,17.86,17.86\\n',\n",
       " 'Organic Salted Nut Mix,Grizzlies,2017-03-09,2017-03-09,28.0 g,2540.0,57.14,17.86,3.57,17.86\\n',\n",
       " \"Organic Polenta,Bob's Red Mill,2017-03-09,2017-03-09,35.0 g,1552.0,1.43,77.14,,8.57\\n\",\n",
       " 'Breadshop Honey Gone Nuts Granola,Unfi,2017-03-09,2017-03-09,52.0 g,1933.0,18.27,63.46,11.54,13.46\\n',\n",
       " 'Organic Long Grain White Rice,Lundberg,2017-03-09,2017-03-09,45.0 g,1490.0,,80.0,,8.89\\n',\n",
       " \"Organic Muesli,Daddy's Muesli,2017-03-09,2017-03-09,64.0 g,1833.0,18.75,57.81,15.62,14.06\\n\",\n",
       " 'Organic Dark Chocolate Minis,Equal Exchange,2017-03-09,2017-03-09,40.0 g,2406.0,37.5,55.0,42.5,5.0\\n',\n",
       " 'Organic Sunflower Oil,Napa Valley Naturals,2017-03-09,2017-03-09,14.0 g,3586.0,100.0,,,\\n',\n",
       " 'Organic Adzuki Beans,Unfi,2017-03-09,2017-03-09,48.0 g,1393.0,1.04,62.5,,22.92\\n',\n",
       " 'Organic Penne Pasta,Gardentime,2017-03-09,2017-03-09,57.0 g,1540.0,1.75,73.68,,14.04\\n',\n",
       " 'Zen Party Mix,Sunridge,2017-03-09,2017-03-09,30.0 g,2230.0,36.67,36.67,3.33,16.67\\n',\n",
       " 'Organic Golden Flax Seeds,Unfi,2017-03-09,2017-03-09,21.0 g,2590.0,42.86,38.1,,19.05\\n',\n",
       " 'Organic Spicy Punks,Eden,2017-03-09,2017-03-09,33.0 g,2536.0,48.48,15.15,,30.3\\n',\n",
       " 'Cinnamon Nut Granola,Grizzlies,2017-03-09,2017-03-09,55.0 g,1824.0,18.18,60.0,21.82,14.55\\n',\n",
       " 'Organic Hazelnuts,Grizzlies,2017-03-09,2017-03-09,28.0 g,2632.0,60.71,17.86,3.57,14.29\\n',\n",
       " 'Organic Sweetened Banana Chips,Unfi,2017-03-09,2017-03-09,30.0 g,2092.0,26.67,66.67,16.67,3.33\\n',\n",
       " 'Lotus Organic Brown Jasmine Rice,Unfi,2017-03-09,2017-03-09,45.0 g,1582.0,2.22,77.78,2.22,8.89\\n',\n",
       " 'Organic Oat Groats,Pcc,2017-03-09,2017-03-09,42.0 g,1096.0,5.95,66.67,2.38,16.67\\n',\n",
       " 'Energy Power Mix,Sunridge,2017-03-09,2017-03-09,40.0 g,1464.0,17.5,42.5,32.5,7.5\\n',\n",
       " 'Antioxidant Mix - Berries & Chocolate,Sunridge,2017-03-09,2017-03-09,30.0 g,2092.0,33.33,46.67,30.0,13.33\\n',\n",
       " 'Organic Quinoa Coconut Granola With Mango,Sunridge,2017-03-09,2017-03-09,55.0 g,1674.0,10.91,69.09,27.27,10.91\\n',\n",
       " 'Fire Roasted Hatch Green Chile Almonds,Sunridge,2017-03-09,2017-03-09,30.0 g,2372.0,50.0,23.33,6.67,6.67\\n',\n",
       " 'Peanut Butter Power Chews,Sunridge,2017-03-10,2017-03-10,45.0 g,1954.0,20.0,60.0,33.33,8.89\\n',\n",
       " 'Real Salt Granular,Redmond,2017-03-09,2017-03-09,1.4 g,,,,,\\n',\n",
       " 'Organic Unswt Berry Coconut Granola,New England Naturals,2017-03-09,2017-03-09,54.0 g,1548.0,22.22,57.41,5.56,12.96\\n',\n",
       " 'Roasted Salted Black Pepper Cashews,Sunridge,2017-03-09,2017-03-09,30.0 g,2372.0,46.67,30.0,6.67,16.67\\n',\n",
       " 'Thai Curry Roasted Cashews,Sunridge,2017-03-09,2017-03-09,30.0 g,2372.0,43.33,30.0,6.67,16.67\\n',\n",
       " 'Wasabi Tamari Almonds,Sunridge,2017-03-09,2017-03-09,30.0 g,2230.0,46.67,23.33,3.33,20.0\\n',\n",
       " 'Organic Medium Shredded Coconut,Unfi,2017-03-09,2017-03-09,30.0 g,2230.0,30.0,53.33,6.67,6.67\\n',\n",
       " 'Organic Red Quinoa,Pcc,2017-03-09,2017-03-09,45.0 g,1490.0,6.67,64.44,11.11,13.33\\n',\n",
       " 'Dark Chocolate Coconut Chews,Sunridge,2017-03-09,2017-03-09,40.0 g,2092.0,35.0,52.5,37.5,5.0\\n',\n",
       " 'Seventh Heaven Organic Trail Mix,Grizzlies,2017-03-09,2017-03-09,28.0 g,2092.0,32.14,46.43,35.71,14.29\\n',\n",
       " '\"Organic Unsweetened Granola, Cinnamon Almond\",New England Naturals,2017-03-09,2017-03-09,51.0 g,1887.0,21.57,58.82,3.92,11.76\\n',\n",
       " 'Organic Blueberry Almond Granola,Sunridge,2017-03-09,2017-03-09,55.0 g,1674.0,9.09,70.91,29.09,10.91\\n',\n",
       " '\"Sweeteners, Demerara Turbinado Sugar\",\"Wholesome,  Wholesome Sweeteners\",2017-03-09,2017-03-09,4.0 g,1569.0,,100.0,100.0,\\n',\n",
       " \"Aunt Maple's Crunchy Granola,Grizzlies,2017-03-09,2017-03-09,56.0 g,2092.0,28.57,55.36,23.21,10.71\\n\",\n",
       " 'Organic Coconut Chips,Grizzlies,2017-03-09,2017-03-09,100.0 g,2761.0,65.0,24.0,7.0,6.0\\n',\n",
       " 'Organic Black Beans,Unfi,2017-03-09,2017-03-09,45.0 g,1393.0,,62.22,2.22,22.22\\n',\n",
       " 'Organic Whole Grain Emmer Farro,Bluebird Grain,2017-03-09,2017-03-09,47.0 g,1515.0,2.13,72.34,,12.77\\n',\n",
       " 'Organic Hard Red Wheat Berries,Bluebird Grain,2017-03-09,2017-03-09,47.0 g,1335.0,2.13,68.09,,12.77\\n',\n",
       " \"Aunt Ginger's Snappy Granola,Grizzlies,2017-03-09,2017-03-09,56.0 g,1941.0,17.86,64.29,21.43,10.71\\n\",\n",
       " 'Dark Chocolate Sea Salt & Turbinado Almonds,Sunridge,2017-03-09,2017-03-09,40.0 g,2197.0,35.0,50.0,37.5,7.5\\n',\n",
       " 'Divinely Organic Granola,Grizzlies,2017-03-09,2017-03-09,55.0 g,1749.0,14.55,65.45,21.82,12.73\\n',\n",
       " 'Organic Black Chia Seeds,Unfi,2017-03-09,2017-03-09,28.0 g,2046.0,32.14,42.86,,14.29\\n',\n",
       " 'Organic French Green Lentils,Crown Pacific Fine Foods,2017-03-09,2017-03-09,45.0 g,1490.0,,64.44,4.44,26.67\\n',\n",
       " 'Organic Garbanzo Beans,Unfi,2017-03-09,2017-03-09,47.0 g,1335.0,5.32,53.19,8.51,17.02\\n',\n",
       " 'Organic Green Split Peas,Coombs Family,2017-03-09,2017-03-09,45.0 g,1582.0,1.11,68.89,,28.89\\n',\n",
       " 'Organic Small Red Chili Beans,Unfi,2017-03-09,2017-03-09,36.0 g,699.0,,63.89,2.78,22.22\\n',\n",
       " 'Organic Small White Beans,Unfi,2017-03-09,2017-03-09,45.0 g,1674.0,,66.67,2.22,24.44\\n',\n",
       " 'Organic Grey-Green Lentils,Unfi,2017-03-09,2017-03-09,45.0 g,1582.0,1.11,66.67,,28.89\\n',\n",
       " 'Organic Yellow Split Peas,Unfi,2017-03-09,2017-03-09,45.0 g,1582.0,1.11,68.89,8.89,28.89\\n',\n",
       " 'Organic Mung Beans,Unfi,2017-03-09,2017-03-09,51.0 g,1477.0,0.98,62.75,,23.53\\n',\n",
       " 'Organic Baby Lima Beans,Unfi,2017-03-09,2017-03-09,45.0 g,1393.0,,62.22,8.89,20.0\\n',\n",
       " 'Organic Dark Red Kidney Bean,Pcc,2017-03-09,2017-03-09,46.0 g,1272.0,,54.35,2.17,19.57\\n',\n",
       " 'Coconut Almond Granola,Golden Temple,2017-03-09,2017-03-09,55.0 g,2054.0,25.45,58.18,9.09,10.91\\n',\n",
       " 'Super Nutty Granola,Golden Temple,2017-03-09,2017-03-09,55.0 g,1904.0,18.18,63.64,10.91,10.91\\n',\n",
       " 'Maple Almond Granola,Golden Temple,2017-03-09,2017-03-09,55.0 g,1904.0,14.55,67.27,12.73,10.91\\n',\n",
       " '35% Fruit And Fiber Muesli,Golden Temple,2017-03-09,2017-03-09,55.0 g,1523.0,4.55,70.91,23.64,10.91\\n',\n",
       " 'Rebel Crunch Granola,Pcc,2017-03-09,2017-03-09,56.0 g,1720.0,8.93,73.21,21.43,14.29\\n',\n",
       " 'Organic Mixed Vegetable Spirals,Gardentime,2017-03-09,2017-03-09,57.0 g,1490.0,1.75,71.93,,14.04\\n',\n",
       " 'Tricolor Tortellini,Napoleon,2017-03-09,2017-03-09,65.0 g,1611.0,9.23,60.0,1.54,13.85\\n',\n",
       " 'Organic Couscous,Unfi,2017-03-09,2017-03-09,45.0 g,1582.0,,80.0,,13.33\\n',\n",
       " 'Organic Spaghetti,Gardentime,2017-03-09,2017-03-09,56.0 g,1569.0,2.68,67.86,5.36,12.5\\n',\n",
       " 'Orzo Rosa Marina,Sunridge,2017-03-09,2017-03-09,58.0 g,1443.0,1.72,67.24,1.72,12.07\\n',\n",
       " 'Organic Refined Spelt Flour,Vitaspelt,2017-03-09,2017-03-09,30.0 g,1393.0,1.67,70.0,,13.33\\n',\n",
       " \"10-Grain Pancake Mix,Bob's Red Mill,2017-03-09,2017-03-09,58.0 g,1297.0,1.72,60.34,5.17,13.79\\n\",\n",
       " 'Fine Sea Salt,Unfi,2017-03-09,2017-03-09,1.5 g,,,,,\\n',\n",
       " '\"Sweeteners, Organic Fair Trade Sugar\",\"Wholesome,  Wholesome Sweeteners\",2017-03-09,2017-03-09,4.0 g,1569.0,,100.0,100.0,\\n',\n",
       " 'Organic Refined Unbleached White Flour,Unfi,2017-03-09,2017-03-09,30.0 g,1536.0,,76.67,,10.0\\n',\n",
       " 'Organic Whole Brown Rice Flour,Fairhaven,2017-03-10,2017-03-10,31.0 g,1891.0,3.23,96.77,,12.9\\n',\n",
       " 'Organic Whole Spelt Flour,Vitaspelt,2017-03-10,2017-03-10,34.0 g,1356.0,2.94,67.65,2.94,14.71\\n',\n",
       " 'Organic Whole Rye Flour,Fairhaven,2017-03-09,2017-03-09,30.0 g,1393.0,1.67,73.33,,10.0\\n',\n",
       " 'Granola Cranberry And Acai,Viva La Salud,2017-03-09,2017-03-09,55.0 g,1824.0,10.91,74.55,25.45,9.09\\n',\n",
       " 'Organic Medium Whole Wheat Flour,Fairhaven,2017-03-09,2017-03-09,35.0 g,1552.0,1.43,62.86,,11.43\\n',\n",
       " 'Organic Soft Whole Wheat Pastry Flour,Fairhaven,2017-03-09,2017-03-09,28.0 g,1644.0,1.79,78.57,,14.29\\n',\n",
       " '\"Peanuts, Mixed Nuts\",Northgate Market,2017-03-09,2017-03-09,28.0 g,2389.0,42.86,25.0,14.29,25.0\\n',\n",
       " 'Organic Large Raw Whole Cashews,Not A Branded Item,2017-03-09,2017-03-09,30.0 g,2648.0,50.0,30.0,6.67,16.67\\n',\n",
       " 'Organic Brown Sesame Seeds,Pcc,2017-03-09,2017-03-09,36.0 g,2439.0,50.0,22.22,,16.67\\n',\n",
       " 'Organic White Sesame Seeds,Not A Branded Item,2017-03-09,2017-03-09,36.0 g,2439.0,55.56,13.89,,19.44\\n',\n",
       " 'Almonds Hickory-Smoked,Pcc,2017-03-09,2017-03-09,28.0 g,2690.0,57.14,14.29,,21.43\\n',\n",
       " '\"Foods, Spanish Peanuts\",\"Kettle,  Kettle Foods\",2017-03-09,2017-03-09,28.0 g,2389.0,50.0,17.86,3.57,28.57\\n',\n",
       " '\"Foods, Honey Roasted Nut Mix\",\"Kettle,  Kettle Foods\",2017-03-09,2017-03-09,28.0 g,2389.0,46.43,28.57,3.57,21.43\\n',\n",
       " 'Roasted Salted Sunflower Seeds,Kid Picks,2017-03-09,2017-03-09,28.0 g,2766.0,57.14,21.43,3.57,21.43\\n',\n",
       " '\"Foods, Deluxe Nut Mix\",\"Kettle,  Kettle Foods\",2017-03-09,2017-03-09,28.0 g,2540.0,57.14,21.43,3.57,17.86\\n',\n",
       " '\"Foods, Honey Roast Nuts & Fruit Mix\",\"Kettle,  Kettle Foods\",2017-03-09,2017-03-09,25.0 g,2176.0,28.0,60.0,32.0,12.0\\n',\n",
       " 'Organic Raw Walnuts,Kid Picks,2017-03-09,2017-03-09,25.0 g,2678.0,64.0,12.0,,16.0\\n',\n",
       " 'Organic Raw Sunflower Seeds,Unfi,2017-03-09,2017-03-09,33.0 g,2218.0,42.42,21.21,,18.18\\n',\n",
       " 'Organic Trail Mix,Unfi,2017-03-09,2017-03-09,30.0 g,1812.0,26.67,46.67,33.33,13.33\\n',\n",
       " 'Organic Pecan Halves,Pcc,2017-03-09,2017-03-09,28.4 g,2946.0,70.42,14.08,3.52,10.56\\n',\n",
       " 'Unsalted Dry Roasted Almonds,Unfi,2017-03-10,2017-03-10,30.0 g,2791.0,56.67,20.0,6.67,26.67\\n',\n",
       " 'Organic Raw Pumpkin Seeds,Pcc,2017-03-09,2017-03-09,30.0 g,2510.0,46.67,13.33,3.33,30.0\\n',\n",
       " 'Curry Lentil Soup Mix,Taste Adventure,2017-03-09,2017-03-09,52.0 g,1289.0,1.92,51.92,5.77,25.0\\n',\n",
       " 'Split Pea Soup Mix,Taste Adventure,2017-03-09,2017-03-09,70.0 g,1314.0,1.43,57.14,8.57,22.86\\n',\n",
       " \"Whole Wheat 'N Honey Fig Bars,Marin,2017-03-09,2017-03-09,30.0 g,1255.0,6.67,56.67,26.67,10.0\\n\",\n",
       " 'Chocolate Nut Crunch,Sunridge,2017-03-09,2017-03-09,30.0 g,1954.0,26.67,53.33,36.67,10.0\\n',\n",
       " 'Milk Chocolate Peanut Butter Malt Balls,Sunridge,2017-03-09,2017-03-09,40.0 g,2197.0,27.5,60.0,57.5,7.5\\n',\n",
       " 'Organic Tamari Pumpkin Seed,Woodstock,2017-03-09,2017-03-09,34.0 g,2092.0,41.18,17.65,2.94,26.47\\n',\n",
       " 'Yogurt Pretzels,Woodstock,2017-03-09,2017-03-09,40.0 g,2092.0,20.0,72.5,47.5,5.0\\n',\n",
       " 'Organic Kamut Flakes,Unfi,2017-03-09,2017-03-09,40.0 g,941.0,1.25,42.5,,10.0\\n',\n",
       " 'Regular Rolled Oats,Pcc,2017-03-09,2017-03-09,26.0 g,1611.0,7.69,65.38,,15.38\\n',\n",
       " 'Quick Rolled Oats,Unfi,2017-03-09,2017-03-09,26.0 g,1611.0,7.69,65.38,,15.38\\n',\n",
       " 'Organic Bulgur,Pcc,2017-03-09,2017-03-09,40.0 g,1464.0,1.7,75.0,,12.5\\n',\n",
       " 'Organic Toasted Buckwheat Groats,Pcc,2017-03-09,2017-03-09,41.0 g,1427.0,2.44,73.17,,12.2\\n',\n",
       " 'Organic Rolled Barley Flakes,Unfi,2017-03-09,2017-03-09,28.0 g,1197.0,1.79,64.29,,10.71\\n',\n",
       " 'Multigrain Cereal Flakes,Unfi,2017-03-09,2017-03-09,38.0 g,1540.0,2.63,76.32,,13.16\\n',\n",
       " \"8-Grain Wheat Free Cereal,Bob's Red Mill,2017-03-09,2017-03-09,40.0 g,1569.0,6.25,67.5,,12.5\\n\",\n",
       " 'Swiss-Style Muesli,Grizzlies,2017-03-09,2017-03-09,55.0 g,1749.0,16.36,60.0,16.36,12.73\\n',\n",
       " 'Organic Hulless Barley,Pcc,2017-03-09,2017-03-09,46.0 g,1548.0,2.17,73.91,,13.04\\n',\n",
       " 'Organic Millet,Pcc,2017-03-09,2017-03-09,48.0 g,1569.0,3.12,75.0,,12.5\\n',\n",
       " 'Organic Popcorn,Unfi,2017-03-09,2017-03-09,50.0 g,1506.0,4.0,72.0,,12.0\\n',\n",
       " 'Organic Soft White Wheat Berries,Unfi,2017-03-09,2017-03-09,47.0 g,1423.0,2.13,72.34,,14.89\\n',\n",
       " 'Organic Pearled Barley,Unfi,2017-03-09,2017-03-09,50.0 g,1506.0,2.0,78.0,,10.0\\n',\n",
       " 'Organic Wheat Bran,Guistos,2017-03-09,2017-03-09,15.0 g,837.0,3.33,66.67,,13.33\\n',\n",
       " 'Organic Raw Buckwheat Groats,,2017-03-09,2017-03-09,45.0 g,1393.0,3.33,71.11,,13.33\\n',\n",
       " 'Organic Oat Bran,Unfi,2017-03-09,2017-03-09,29.0 g,1661.0,6.9,68.97,,20.69\\n',\n",
       " 'Organic Thick Cut Rolled Oats,Unfi,2017-03-09,2017-03-09,26.0 g,1527.0,7.69,61.54,,15.38\\n',\n",
       " 'Organic Regular Rolled Oats,Unfi,2017-03-09,2017-03-09,26.0 g,1527.0,7.69,38.46,,15.38\\n',\n",
       " 'Organic Rolled Rye Flakes,Unfi,2017-03-09,2017-03-09,25.0 g,1674.0,2.0,84.0,,16.0\\n',\n",
       " 'Organic Steel-Cut Oats,Unfi,2017-03-09,2017-03-09,40.0 g,1778.0,7.5,72.5,,17.5\\n',\n",
       " 'Organic Spelt Berries,Vitaspelt,2017-03-09,2017-03-09,46.0 g,1184.0,2.17,69.57,,15.22\\n',\n",
       " 'Organic Quick Rolled Oats,Pcc,2017-03-09,2017-03-09,20.0 g,1883.0,7.5,75.0,2.5,17.5\\n',\n",
       " 'Countrywild Rice Blend,Lundberg,2017-03-09,2017-03-09,45.0 g,1393.0,3.33,77.78,,6.67\\n',\n",
       " 'Organic Arboria Rice,Lundberg,2017-03-10,2017-03-10,45.0 g,1490.0,2.22,95.56,,13.33\\n',\n",
       " 'Lundberg Organic Golden Rose Medium Brown Rice,Unfi,2017-03-09,2017-03-09,51.0 g,1314.0,1.96,66.67,,5.88\\n',\n",
       " 'Lundberg Olde World Pilaf,Pcc Farmland Trust,2017-03-09,2017-03-09,45.0 g,1423.0,3.33,73.33,2.22,11.11\\n',\n",
       " 'Pack de 2 Twix,\"Twix, Lundberg\",2015-01-01,2017-03-09,48.0 g,1481.0,4.17,77.08,,6.25\\n',\n",
       " 'Organic Short Grain Brown Rice,Lundberg,2017-03-09,2017-03-09,51.0 g,1393.0,2.94,78.43,,5.88\\n',\n",
       " 'Organic Sweet Brown Rice,Lundberg,2017-03-09,2017-03-09,51.0 g,1477.0,0.98,78.43,,7.84\\n',\n",
       " 'Organic California White Sushi Rice,Lundberg,2017-03-10,2017-03-10,45.0 g,1490.0,,80.0,,6.67\\n',\n",
       " 'Organic Harvest Pilaf,Sunridge,2017-03-09,2017-03-09,45.0 g,1674.0,2.22,71.11,2.22,15.56\\n',\n",
       " 'Organic Wild Rice,Pcc,2017-03-09,2017-03-09,75.0 g,1452.0,12.0,72.0,,12.0\\n',\n",
       " 'Organic Flax Seed,Unfi,2017-03-09,2017-03-09,28.0 g,2092.0,35.71,39.29,,17.86\\n',\n",
       " 'Cranberries,Torn & Glasser,2017-03-09,2017-03-09,30.0 g,1255.0,0.0,83.33,66.67,0.0\\n',\n",
       " 'Turkish Apricots,Northgate,2017-03-09,2017-03-09,40.0 g,1046.0,0.0,62.5,52.5,2.5\\n',\n",
       " 'Banana Chips Sweetened,Not A Branded Item,2017-03-09,2017-03-09,28.0 g,2243.0,28.57,64.29,14.29,3.57\\n',\n",
       " 'Granola Honey Almonds,Northgate,2017-03-09,2017-03-09,55.0 g,1674.0,14.55,60.0,21.82,9.09\\n',\n",
       " 'Chili Mango,Torn & Glasses,2017-03-09,2017-03-09,40.0 g,1569.0,2.5,87.5,65.0,2.5\\n',\n",
       " 'Milk Chocolate Pretzels,Torn & Glasser,2017-03-09,2017-03-09,40.0 g,1883.0,22.5,70.0,42.5,5.0\\n',\n",
       " 'Peanuts,Northgate,2017-03-09,2017-03-09,28.0 g,1941.0,17.86,60.71,17.86,17.86\\n',\n",
       " 'Organic Salted Pistachios,Unfi,2017-03-09,2017-03-09,28.0 g,2540.0,46.43,32.14,10.71,21.43\\n',\n",
       " '\"Organic Dried Turkish Apricots, Bin # 5801\",Coombs Family,2017-03-09,2017-03-09,40.0 g,941.0,,55.0,47.5,2.5\\n',\n",
       " 'Organic Unsalted Pistachios,Unfi,2017-03-09,2017-03-09,28.0 g,2540.0,46.43,32.14,10.71,21.43\\n',\n",
       " 'Organic Medjool Dates,Unfi,2017-03-09,2017-03-09,100.0 g,1218.0,0.1,70.4,65.7,2.2\\n',\n",
       " 'Organic Pitted Prunes,Pcc,2017-03-09,2017-03-09,40.0 g,1464.0,,90.0,62.5,2.5\\n',\n",
       " 'Organic Pitted Deglet Dates,Kid Picks,2017-03-09,2017-03-09,40.0 g,1255.0,,75.0,62.5,2.5\\n',\n",
       " 'Sweetened Dried Cranberries,Kid Picks,2017-03-09,2017-03-09,40.0 g,1255.0,,72.5,65.0,2.5\\n',\n",
       " 'Organic Zante Currants,Unfi,2017-03-09,2017-03-09,40.0 g,1046.0,,65.0,62.5,3.75\\n',\n",
       " 'Organic Thompson Raisins,Unfi,2017-03-09,2017-03-09,40.0 g,1360.0,,75.0,70.0,2.5\\n',\n",
       " 'Organic Unrefined Extra Virgin Coconut Oil,Aunt Patty,2017-03-09,2017-03-09,14.0 g,3586.0,100.0,,,\\n',\n",
       " 'Organic Brown Basmati Rice,Lundberg,2017-03-09,2017-03-09,49.0 g,1452.0,4.08,77.55,,8.16\\n',\n",
       " 'Organic White Basmati Rice,Lundberg,2017-03-09,2017-03-09,50.0 g,1506.0,1.0,82.0,,8.0\\n',\n",
       " 'Organic Unrefined Mascobado Sugar,Alter Eco,2017-03-09,2017-03-09,4.0 g,1569.0,,100.0,100.0,\\n',\n",
       " \"Organic U.S. Peanuts,Cb's Nuts,2017-03-09,2017-03-09,37.0 g,2377.0,48.65,21.62,4.05,24.32\\n\",\n",
       " 'Almonds,Equal Exchange,2017-03-09,2017-03-09,30.0 g,2510.0,50.0,20.0,3.33,20.0\\n',\n",
       " 'Pecan Halves,Unfi,2017-03-09,2017-03-09,28.4 g,2946.0,70.42,14.08,7.04,7.04\\n',\n",
       " 'Organic Whole Cashews,Equal Exchange,2017-03-09,2017-03-09,34.0 g,2402.0,47.06,32.35,5.88,14.71\\n',\n",
       " 'Organic Pearl Quinoa,Unfi,2017-03-09,2017-03-09,40.0 g,1778.0,6.25,75.0,,17.5\\n',\n",
       " 'Fresh Organic Carrots,Bunny-Luv,2017-03-09,2017-03-09,78.0 g,159.0,0.0,8.97,6.41,1.28\\n',\n",
       " 'Butter Croissants,Fresh & Easy,2017-03-10,2017-03-10,77.0 g,1523.0,16.88,44.16,5.19,7.79\\n',\n",
       " 'Wild Blueberry Muffins,Fresh & Easy,2017-03-10,2017-03-10,108.0 g,1548.0,15.74,47.22,25.93,6.48\\n',\n",
       " 'Bolillos,Fresh & Easy,2017-03-10,2017-03-10,94.0 g,1159.0,4.26,51.06,2.13,9.57\\n',\n",
       " 'Biscuit,Fresh & Easy,2017-03-10,2017-03-10,75.0 g,1452.0,20.0,33.33,2.67,8.0\\n',\n",
       " 'Biscuit,Fresh & Easy,2017-03-10,2017-03-10,75.0 g,1339.0,16.0,38.67,9.33,5.33\\n',\n",
       " 'Oatmeal Raisin Cookie,\"Giant,  Fresh & Easy\",2017-03-10,2017-03-10,113.0 g,1778.0,17.7,61.95,37.17,3.54\\n',\n",
       " 'Sliced Plain Bagel,Fresh & Easy,2017-03-10,2017-03-10,85.0 g,1527.0,1.18,71.76,4.71,12.94\\n',\n",
       " 'Scone,Fresh & Easy,2017-03-10,2017-03-10,85.0 g,1920.0,25.88,52.94,30.59,3.53\\n',\n",
       " 'Belgian Vanilla Waffle,Fresh & Easy,2017-03-10,2017-03-10,85.0 g,2067.0,22.35,67.06,28.24,8.24\\n',\n",
       " 'Seasonal Cookie Platter,Fresh & Easy,2017-03-09,2017-03-09,56.0 g,1866.0,21.43,60.71,35.71,3.57\\n',\n",
       " 'Muffin,Fresh & Easy,2017-03-10,2017-03-10,170.0 g,1749.0,21.76,51.76,32.94,5.88\\n',\n",
       " 'Muffin,Fresh & Easy,2017-03-10,2017-03-10,170.0 g,1477.0,15.88,45.88,25.88,6.47\\n',\n",
       " 'Freshly Baked Italian Loaf,Fresh & Easy,2017-03-10,2017-03-10,56.0 g,941.0,0.0,42.86,0.0,7.14\\n',\n",
       " 'Freshly Baked Apple Pie,Fresh & Easy,2017-03-09,2017-03-09,123.0 g,1155.0,13.82,39.02,23.58,1.63\\n',\n",
       " 'Snickerdoodle Cookies,Fresh & Easy,2017-03-09,2017-03-09,56.0 g,1866.0,21.43,60.71,32.14,3.57\\n',\n",
       " 'Freshly Baked In Store Cherry Turnover,Fresh & Easy,2017-03-09,2017-03-09,85.0 g,1674.0,22.35,45.88,18.82,4.71\\n',\n",
       " 'Apple Turnover,Fresh & Easy,2017-03-09,2017-03-09,85.0 g,1623.0,22.35,42.35,15.29,4.71\\n',\n",
       " 'Pineapple Coconut Muffins,Fresh & Easy,2017-03-09,2017-03-09,108.0 g,1665.0,18.52,52.78,32.41,6.48\\n',\n",
       " 'Assorted Strudel Bite,Fresh & Easy,2017-03-09,2017-03-09,56.0 g,1569.0,21.43,48.21,21.43,1.79\\n',\n",
       " 'Freshly Baked Chocolat Croissant,Fresh & Easy,2017-03-09,2017-03-09,60.0 g,1812.0,23.33,45.0,11.67,8.33\\n',\n",
       " 'Cornbread,Fresh & Easy,2017-03-09,2017-03-09,59.0 g,1632.0,18.64,50.85,22.03,6.78\\n',\n",
       " 'La Brea Bakery Ciabatta Loaf Freshly Baked In Store,Fresh & Easy,2017-03-09,2017-03-09,57.0 g,1176.0,3.51,52.63,0.0,8.77\\n',\n",
       " 'Belgian Choc Chip Waffle,Fresh & Easy,2017-03-10,2017-03-10,85.0 g,2117.0,22.35,68.24,29.41,8.24\\n',\n",
       " 'Chocolate Scone,Fresh & Easy,2017-03-10,2017-03-10,56.0 g,2912.0,39.29,80.36,46.43,5.36\\n',\n",
       " \"Chamomile Herbal Tea,Lagg's,2017-03-09,2017-03-09,1.0 g,0.0,0.0,70.0,,0.0\\n\",\n",
       " '\"Herbal Tea, Peppermint\",Lagg\\'s,2017-03-09,2017-03-09,45.0 g,0.0,0.0,1.47,,0.0\\n',\n",
       " \"Linden Flowers Tea,Lagg's,2017-03-09,2017-03-09,1.5 g,0.0,0.0,53.33,,0.0\\n\",\n",
       " '\"Herbal Tea, Hibiscus\",Lagg\\'s,2017-03-09,2017-03-09,1.5 g,1117.0,0.0,60.0,,66.67\\n',\n",
       " \"Apple & Cinnamon Tea,Lagg's,2017-03-09,2017-03-09,1.5 g,0.0,0.0,60.0,,66.67\\n\",\n",
       " \"Green Tea,Lagg's,2017-03-09,2017-03-09,30.0 g,0.0,0.0,2.67,,0.0\\n\",\n",
       " \"Shave Grass Herbal Tea,Lagg's,2017-03-09,2017-03-09,30.0 g,0.0,0.0,3.33,,0.0\\n\",\n",
       " '\"Herbal Tea, Chamomile * Mint\",Lagg\\'s,2017-03-09,2017-03-09,30.0 g,0.0,0.0,3.33,,0.0\\n',\n",
       " \"Artichoke Herbal Tea,Lagg's,2017-03-09,2017-03-09,30.0 g,0.0,0.0,3.33,,0.0\\n\",\n",
       " \"Dieter's Herbal Tea,Lagg's,2017-03-09,2017-03-09,45.0 g,0.0,0.0,0.0,,0.0\\n\",\n",
       " '\"Kidneytea, Herbal Tea\",Lagg\\'s,2017-03-09,2017-03-09,30.0 g,0.0,0.0,3.33,,0.0\\n',\n",
       " \"Bronchtea,Lagg's,2017-03-09,2017-03-09,1.0 g,0.0,0.0,100.0,,0.0\\n\",\n",
       " '100% Pure Canola Oil,Canola Harvest,2017-03-09,2017-03-09,14.0 g,3586.0,100.0,0.0,,0.0\\n',\n",
       " 'Original Buttery Spread,,2017-03-09,2017-03-09,14.0 g,2690.0,71.43,0.0,0.0,0.0\\n',\n",
       " '\"Buttery Spread, With Flaxseed Oil\",Canola Harvest,2017-03-09,2017-03-09,14.0 g,2389.0,57.14,0.0,0.0,0.0\\n',\n",
       " \"Lithuanian Rye Bread,Today's Temptations,2017-03-09,2017-03-09,57.0 g,954.0,2.63,47.37,8.77,5.26\\n\",\n",
       " 'Magic Stars Chocolates,Milkyway,2017-03-09,2017-03-09,100.0 g,2330.0,34.7,54.2,53.6,6.4\\n',\n",
       " 'Magic Stars Chocolates,Milkyway,2017-03-09,2017-03-09,100.0 g,2330.0,34.7,54.2,,6.4\\n',\n",
       " '\"Digestives Cheesecake, Lemon\",Mcvitie\\'s,2017-03-09,2017-03-09,13.1 g,2130.0,25.95,60.31,30.53,6.87\\n',\n",
       " '\"Mini Gingerbread Men, Milk Chocolate\",Mcvitie\\'s,2017-03-09,2017-03-09,100.0 g,2013.0,20.0,68.2,38.6,5.8\\n',\n",
       " \"Organic Flourless Sprouted 7-Grain Bread,Trader Joe's,2017-03-09,2017-03-09,34.0 g,983.0,2.94,44.12,2.94,11.76\\n\",\n",
       " \"Puppodums,Sharwood's,2017-03-09,2017-03-09,100.0 g,1159.0,0.3,45.7,0.6,21.9\\n\",\n",
       " 'Monterey Jack,Food Club,2017-03-09,2017-03-09,28.0 g,1494.0,28.57,3.57,0.0,25.0\\n',\n",
       " '\"Bakers Best, White Bread\",Wise Woodworks,2017-03-09,2017-03-09,34.0 g,983.0,1.47,50.0,5.88,8.82\\n',\n",
       " '\"Bakers Best, Rye Bread\",Wise Woodworks,2017-03-09,2017-03-09,39.0 g,1071.0,2.56,53.85,2.56,7.69\\n',\n",
       " '\"Warner Hudson, Whisky Chocolates\",Goode\\'s Bakery & Co.  Inc.,2017-03-09,2017-03-09,100.0 g,1879.0,18.0,58.0,,2.6\\n',\n",
       " '\"Piasten, Chocolate Assortment\",Goode\\'s Bakery & Co.  Inc.,2017-03-09,2017-03-09,40.0 g,2029.0,26.25,58.75,6.5,8.75\\n',\n",
       " \"Sweet 'N' Hot Salad Peppers,Mt. Olive,2017-03-09,2017-03-09,28.0 g,598.0,0.0,32.14,25.0,0.0\\n\",\n",
       " '\"Big Papa\\'s, Southern Sauce\",Walton\\'s Flies,2017-03-09,2017-03-09,32.0 g,1046.0,0.0,43.75,34.38,0.0\\n',\n",
       " '\"Between!, Dental Gum, Natural Cool Mint\",Eco-Dent,2017-03-09,2017-03-09,2.5 g,837.0,0.0,80.0,,0.0\\n',\n",
       " '\"Eco-Dent, Between!, Sugar Free Dental Gum, Cinnamon\",Lotus Brands  Inc.,2017-03-09,2017-03-09,2.5 g,837.0,0.0,80.0,,0.0\\n',\n",
       " 'Knusperflakes Mit Knusprigen Cornflakes,\"Ritter Sport,  Alfred Ritter Gmbh & Co\",2017-03-09,2017-03-09,25.0 g,2209.0,28.0,60.0,49.6,8.0\\n',\n",
       " '\"Rum Trauben Nuss, Milk Chocolate Wih Rum Raisins & Nuts\",Ritter Sport,2017-03-09,2017-03-09,25.0 g,2142.0,28.0,56.0,43.6,8.0\\n',\n",
       " 'Milk Chocolate With Caramelized Almonds,\"Ritter Sport,  Alfred Ritter Gmbh & Co. Kg\",2017-03-09,2017-03-09,25.0 g,2226.0,31.2,57.2,56.0,7.2\\n',\n",
       " '\"Funsch, High Quality Marzipan\",Petpro Products  Inc.,2017-03-09,2017-03-09,100.0 g,1929.0,21.4,55.2,51.6,9.6\\n',\n",
       " \"Oatmeal Raisin Cookies,Bart & Judy's,2017-03-10,2017-03-10,28.0 g,1552.0,21.43,67.86,28.57,7.14\\n\",\n",
       " \"The Best Peanut Butter Cookies,Bart & Judy's,2017-03-10,2017-03-10,28.0 g,1703.0,21.43,67.86,28.57,7.14\\n\",\n",
       " 'Best Sweet-Potato Cookies,Petpro Products  Inc.,2017-03-09,2017-03-09,34.0 g,1623.0,17.65,50.0,17.65,2.94\\n',\n",
       " 'Best Ginger Snap Cookies,Petpro Products  Inc.,2017-03-09,2017-03-09,34.0 g,1623.0,17.65,50.0,17.65,2.94\\n',\n",
       " '\"Ice Cream, Vanilla\",Lactaid,2017-03-09,2017-03-09,71.0 g,883.0,11.27,22.54,16.9,2.82\\n',\n",
       " '\"Ice Cream, Butter Pecan\",Lactaid,2017-03-09,2017-03-09,71.0 g,1000.0,15.49,22.54,15.49,4.23\\n',\n",
       " 'Salted Sticks & Salted Pretzels,Chio,2017-03-09,2017-03-09,30.0 g,1548.0,3.67,70.0,1.0,11.0\\n',\n",
       " '\"Williams, Liquor Chocolate With Williams Pear\",\"Lindt,  Polo Leathergoods\",2017-03-09,2017-03-09,100.0 g,1954.0,23.0,57.0,57.0,4.5\\n',\n",
       " \"Sea Salt Potato Chips,Trader Joe's,2014-07-12,2017-03-09,28.0 g,2243.0,32.14,57.14,0.0,7.14\\n\",\n",
       " 'Solid Milk Chocolate,Madelaine Chocolate Novelties,2017-03-09,2017-03-09,56.0 g,2318.0,32.14,58.93,55.36,7.14\\n',\n",
       " '\"Madelaine Chocolate Company, Chocolate\",Madelaine Chocolate Novelties,2017-03-09,2017-03-09,40.0 g,2301.0,32.5,57.5,55.0,7.5\\n',\n",
       " 'Milk Chocolate Rose,The Madelaine Chocolate Company,2017-03-10,2017-03-10,21.0 g,2389.0,33.33,57.14,57.14,9.52\\n',\n",
       " 'Solid Dark Chocolate,The Madelaine Chocolate Company,2017-03-10,2017-03-10,40.0 g,2197.0,32.5,57.5,50.0,5.0\\n',\n",
       " 'White Chocolate,Madelaine Chocolate Novelties  Inc,2017-03-10,2017-03-10,40.0 g,2406.0,40.0,50.0,50.0,7.5\\n',\n",
       " '\"The Madelaine Chocolate Company, Solid Milk Chocolate Cigars\",Madelaine Chocolate Novelties,2017-03-09,2017-03-09,43.0 g,2238.0,32.56,58.14,55.81,6.98\\n',\n",
       " '\"Madelaine Chocolate, It\\'s A Girl! Solid Milk Chocolate Cigars, Milk Chocolate\",Madelaine Chocolate Novelties,2017-03-09,2017-03-09,43.0 g,2238.0,32.56,58.14,55.81,6.98\\n',\n",
       " '\"The Madelaine Chocolate Company, All Natural Dark Chocolate Gift Stick\",Madelaine Chocolate Novelties,2017-03-09,2017-03-09,38.0 g,2314.0,39.47,44.74,28.95,10.53\\n',\n",
       " '\"The Madelaine Chocolate Company, Solid Milk Chocolate\",Madelaine Chocolate Novelties,2017-03-09,2017-03-09,40.0 g,2301.0,32.5,57.5,55.0,7.5\\n',\n",
       " '\"The Madelaine Chocolate Company, Solid Dark Chocolate\",Madelaine Chocolate Novelties,2017-03-09,2017-03-09,40.0 g,2197.0,32.5,57.5,47.5,5.0\\n',\n",
       " 'Solid Milk Chocolate,The Madelaine Chocolate Company,2017-03-09,2017-03-09,36.0 g,2326.0,33.33,58.33,55.56,8.33\\n',\n",
       " '\"The Madelaine Chocolate Company, Solid Milk Chocolate\",Madelaine Chocolate Novelties,2017-03-09,2017-03-09,36.0 g,2326.0,33.33,58.33,55.56,8.33\\n',\n",
       " '\"The Madelaine Chocolate Comapny, Solid Milk Chocolate\",Madelaine Chocolate Novelties,2017-03-09,2017-03-09,38.0 g,2314.0,31.58,57.89,55.26,7.89\\n',\n",
       " '\"The Madelaine Chocolate Company, Solid Dark Chocolate\",Madelaine Chocolate Novelties,2017-03-09,2017-03-09,38.0 g,2201.0,31.58,57.89,50.0,5.26\\n',\n",
       " 'Solid Dark Chocolate,The Madelaine Chocolate Company,2017-03-10,2017-03-10,38.0 g,2201.0,31.58,57.89,50.0,5.26\\n',\n",
       " 'Milk Chocolate Malt Balls,The Madelaine Chocolate Company,2017-03-10,2017-03-10,40.0 g,2197.0,27.5,67.5,60.0,5.0\\n',\n",
       " '\"The Madelaine Chocolate Company, Solid Milk Chocolate\",Madelaine Chocolate Novelties,2017-03-09,2017-03-09,36.0 g,2326.0,33.33,58.33,55.56,8.33\\n',\n",
       " '\"The Madelaine Chocolate Company, Solid Dark Chocolate\",Madelaine Chocolate Novelties,2017-03-09,2017-03-09,36.0 g,2209.0,33.33,58.33,50.0,5.56\\n',\n",
       " '\"The Madelaine Chocolate Company, Solid Milk Chocolate Bunnies\",Madelaine Chocolate Novelties,2017-03-09,2017-03-09,35.0 g,2272.0,31.43,57.14,54.29,5.71\\n',\n",
       " '\"The Madelaine Chocolate Company, Solid Milk Chocolate Chicks\",Madelaine Chocolate Novelties,2017-03-09,2017-03-09,38.0 g,2314.0,31.58,57.89,55.26,7.89\\n',\n",
       " \"Cornichons,Trader Joe's,2017-03-09,2017-03-09,28.0 g,75.0,0.0,3.57,,0.0\\n\",\n",
       " 'Romaine Hearts,Ocean Mist Farms,2017-03-09,2017-03-09,85.0 g,75.0,0.0,3.53,1.18,1.18\\n',\n",
       " 'Romaine,Ocean Mist Farms,2017-03-09,2017-03-09,85.0 g,75.0,0.0,3.53,1.18,1.18\\n',\n",
       " 'Green Leaf Lettuce,Ocean Mist Farms,2017-03-09,2017-03-09,85.0 g,75.0,0.0,2.35,1.18,1.18\\n',\n",
       " 'Fresh Spinach,Cean Mist Farms,2017-03-10,2017-03-10,85.0 g,100.0,0.0,3.53,0.0,2.35\\n',\n",
       " 'Cooking Spinach,Ocean Mist,2017-03-09,2017-03-09,85.0 g,100.0,0.0,3.53,0.0,2.35\\n',\n",
       " 'Quick Cook Sprout Halves,Ocean Mist Farms,2017-03-09,2017-03-09,84.0 g,176.0,0.0,9.52,2.38,3.57\\n',\n",
       " 'Celery,Ocean Mist,2017-03-09,2017-03-09,110.0 g,59.0,0.0,3.64,1.82,0.0\\n',\n",
       " 'Season & Steam Kalettes (Kale Sprouts),Ocean Mist Farms,2017-03-09,2017-03-09,85.0 g,222.0,0.0,7.06,1.18,4.71\\n',\n",
       " '\"Feletti, Pralines Candy, Milk Chocolate\",Better Ideas,2017-03-09,2017-03-09,36.0 g,2209.0,30.56,61.11,55.56,5.56\\n',\n",
       " '\"Feletti, Milk Chocolate Pralines\",Better Ideas,2017-03-09,2017-03-09,37.0 g,2264.0,32.43,59.46,56.76,2.7\\n',\n",
       " '\"Taami Elite, Milk Choolate Bar, Puffed Rice And Nougat-Caramel Cream\",Keepsake,2017-03-09,2017-03-09,40.0 g,2125.0,27.5,60.0,37.5,5.0\\n',\n",
       " '\"Fruit Strip Snacks, Mango, Pineapple\",\"Sobe,  Healthy Food Brands Llc\",2017-03-09,2017-03-09,14.0 g,1343.0,0.0,78.57,64.29,0.0\\n',\n",
       " 'Fruit Twist Snacks Blueberry Pomec-Ranate,\"Sobe,  Healthy Food Brands Llc\",2017-03-09,2017-03-09,14.0 g,1343.0,0.0,78.57,64.29,0.0\\n',\n",
       " '\"Healthy Food Brands, A&W, Soda Bottles Gummy Candies With Real A&W Root Beer\",Healthy Food Brands Llc,2017-03-09,2017-03-09,40.0 g,1046.0,0.0,65.0,42.5,5.0\\n',\n",
       " '\"Emojeez, Gummies, Assorted Fruits\",Healthy Food Brands Llc,2017-03-09,2017-03-09,40.0 g,1151.0,0.0,67.5,40.0,5.0\\n',\n",
       " '\"Emojeez, Gummies Candy, Fruit\",Healthy Food Brands Llc,2017-03-09,2017-03-09,40.0 g,1151.0,0.0,67.5,40.0,5.0\\n',\n",
       " '\"Emojeez, Fruit Flavored Gummies, Green Apple, Orange, Fruit Punch, Lemon, Cherry Blue Raspberry\",Healthy Food Brands Llc,2017-03-09,2017-03-09,40.0 g,1151.0,0.0,67.5,40.0,5.0\\n',\n",
       " 'Gummies,Healthy Food Brands Llc,2017-03-09,2017-03-09,40.0 g,1151.0,0.0,67.5,40.0,5.0\\n',\n",
       " '\"Emojeez, Fruit Gummies, Assorted\",Healthy Food Brands Llc,2017-03-09,2017-03-09,40.0 g,1151.0,0.0,67.5,40.0,5.0\\n',\n",
       " '\"Emojeez, Gummies Candy, Fruit\",Healthy Food Brands Llc,2017-03-09,2017-03-09,40.0 g,1151.0,0.0,67.5,40.0,5.0\\n',\n",
       " '\"Lite, Fine Chocolate Candy Bar, Dark Chocolate\",\"Simply,  Simply Natural Foods  Llc.\",2017-03-09,2017-03-09,25.0 g,1674.0,32.0,60.0,0.0,4.0\\n',\n",
       " '\"Hfb Candy, Candy Crush Color Bombs\",Healthy Food Brands Llc,2017-03-09,2017-03-09,40.0 g,1883.0,17.5,77.5,75.0,2.5\\n',\n",
       " '\"Hfb Candy, Jelly Fish Candy\",Healthy Food Brands Llc,2017-03-09,2017-03-09,40.0 g,1464.0,0.0,85.0,60.0,0.0\\n',\n",
       " '\"Angry Birds, Fruit Snack, Cherry, Lemon, Raspberry, Apple, Grape, Strawberry\",Healthy Food Brands Llc,2017-03-09,2017-03-09,14.0 g,1197.0,0.0,71.43,42.86,7.14\\n',\n",
       " 'Freeze-Dried Apple Slices,\"Welch\\'s,  Healthy Food Brands Llc\",2017-03-09,2017-03-09,28.0 g,1494.0,0.0,92.86,75.0,3.57\\n',\n",
       " 'Freeze-Dried Banana & Strawberry Slices,\"Welch\\'s,  Healthy Food Brands Llc\",2017-03-09,2017-03-09,28.0 g,1343.0,0.0,85.71,64.29,3.57\\n',\n",
       " 'Freeze-Dried Mango Slices,\"Welch\\'s,  Healthy Food Brands Llc\",2017-03-09,2017-03-09,28.0 g,1494.0,1.79,89.29,78.57,3.57\\n',\n",
       " 'Freeze-Dried Grapes,\"Welch\\'s,  Healthy Food Brands Llc\",2017-03-09,2017-03-09,34.0 g,1477.0,0.0,94.12,82.35,0.0\\n',\n",
       " 'Freeze-Dried Apple Slices,\"Welch\\'s,  Healthy Food Brands Llc\",2017-03-09,2017-03-09,10.0 g,1464.0,0.0,90.0,70.0,0.0\\n',\n",
       " '\"Freeze-Dried Fruit Slices, Banana & Strawberry\",\"Welch\\'s,  Healthy Food Brands Llc\",2017-03-09,2017-03-09,10.0 g,1464.0,0.0,90.0,60.0,0.0\\n',\n",
       " 'Freeze-Dried Mango Slices,\"Welch\\'s,  Healthy Food Brands Llc\",2017-03-09,2017-03-09,10.0 g,1464.0,0.0,90.0,80.0,0.0\\n',\n",
       " 'Freeze-Dried Grapes,\"Welch\\'s,  Healthy Food Brands Llc\",2017-03-09,2017-03-09,12.0 g,1569.0,0.0,91.67,83.33,0.0\\n',\n",
       " '\"Wholesome & Delicious Dried Cranberries, Concord Grape\",Welch\\'s,2017-03-09,2017-03-09,40.0 g,1360.0,0.0,82.5,75.0,0.0\\n',\n",
       " '\"Dried Cranberries, Pomegranate Flavor\",\"Welch\\'s,  Healthy Food Brands Llc\",2017-03-09,2017-03-09,40.0 g,1360.0,0.0,82.5,75.0,0.0\\n',\n",
       " '\"Dried Cranberries, Blueberry\",\"Welch\\'s,  Healthy Food Brands Llc\",2017-03-09,2017-03-09,40.0 g,1360.0,0.0,82.5,75.0,0.0\\n',\n",
       " \"Dried Cranberries,Welch's,2017-03-09,2017-03-09,40.0 g,1360.0,0.0,82.5,75.0,0.0\\n\",\n",
       " 'Dried Mediterranean Apricots,\"Welch\\'s,  Healthy Food Brands Llc\",2017-03-09,2017-03-09,40.0 g,941.0,0.0,55.0,32.5,2.5\\n',\n",
       " \"Dried Honey Crisp Apples,Welch's,2017-03-10,2017-03-10,40.0 g,1255.0,0.0,72.5,75.0,0.0\\n\",\n",
       " \"Wholesome & Delicious Dried Mangos,Welch's,2017-03-09,2017-03-09,40.0 g,1464.0,0.0,85.0,65.0,0.0\\n\",\n",
       " '\"Triple Fruit Treat, Mango, Cranberries, Blueberries\",\"Welch\\'s,  Healthy Food Brands Llc\",2017-03-10,2017-03-10,23.0 g,1456.0,0.0,82.61,73.91,0.0\\n',\n",
       " 'Red Apple Chips,\"Welch\\'s,  Healthy Food Brands Llc\",2017-03-09,2017-03-09,21.0 g,1594.0,0.0,90.48,76.19,0.0\\n',\n",
       " '\"Pb&J Trail Mix, Grape\",\"Welch\\'s,  Healthy Food Brands Llc\",2017-03-09,2017-03-09,42.5 g,1971.0,25.88,51.76,44.71,9.41\\n',\n",
       " '\"Pb & J Trail Mix, Strawberry\",\"Welch\\'s,  Healthy Food Brands Llc\",2017-03-09,2017-03-09,42.5 g,1971.0,25.88,51.76,40.0,9.41\\n',\n",
       " '\"Pb&J Trail Mix, Grape\",\"Welch\\'s,  Healthy Food Brands Llc\",2017-03-09,2017-03-09,42.5 g,1971.0,25.88,51.76,44.71,9.41\\n',\n",
       " 'Red Apple Chips,\"Welch\\'s,  Healthy Food Brands Llc\",2017-03-09,2017-03-09,28.0 g,1644.0,0.0,92.86,78.57,0.0\\n',\n",
       " 'Golden Apple Chips,\"Welch\\'s,  Healthy Food Brands Llc\",2017-03-09,2017-03-09,28.0 g,1644.0,0.0,92.86,78.57,0.0\\n',\n",
       " 'Green Apple Chips,\"Welch\\'s,  Healthy Food Brands Llc\",2017-03-09,2017-03-09,28.0 g,1644.0,0.0,92.86,78.57,0.0\\n',\n",
       " 'Fruit Gummies,Angry Birds,2017-03-09,2017-03-09,40.0 g,1255.0,0.0,70.0,37.5,7.5\\n',\n",
       " 'Fruit Gummies Candy,Angry Birds,2017-03-10,2017-03-10,40.0 g,1255.0,0.0,70.0,37.5,7.5\\n',\n",
       " '\"Star Wars, Fruit Gummies\",Angry Birds,2017-03-09,2017-03-09,40.0 g,1255.0,0.0,70.0,37.5,7.5\\n',\n",
       " 'Gummies,Angry Birds,2017-03-10,2017-03-10,40.0 g,1255.0,0.0,70.0,37.5,7.5\\n',\n",
       " 'Fruit Gummies,Angry Birds,2017-03-10,2017-03-10,40.0 g,1255.0,0.0,70.0,37.5,7.5\\n',\n",
       " 'Fruit Gummies,Angry Birds,2017-03-10,2017-03-10,40.0 g,1255.0,0.0,70.0,37.5,7.5\\n',\n",
       " '\"Fruit Snacks, Cherry, Lemon, Raspberry, Apple, Grape, Strawberry\",Angry Birds,2017-03-09,2017-03-09,20.0 g,1360.0,0.0,80.0,45.0,5.0\\n',\n",
       " '\"Angry Birds, Fruit Snacks, Cherry-Lemon-Raspberry-Apple-Grape-Strawberry\",Healthy Food Brands Llc,2017-03-09,2017-03-09,22.68 g,1293.0,0.0,79.37,,4.41\\n',\n",
       " '\"Fruit Ninja, Fruit Snacks, Original\",Healthy Food Brands Llc,2017-03-10,2017-03-10,20.0 g,1255.0,0.0,100.0,60.0,5.0\\n',\n",
       " 'Fruit Snacks Red Belt,Fruit Ninja,2017-03-10,2017-03-10,40.0 g,1151.0,0.0,70.0,42.5,2.5\\n',\n",
       " 'Tnt Exploding Candy,Angry Birds,2017-03-10,2017-03-10,3.0 g,1393.0,0.0,100.0,100.0,0.0\\n',\n",
       " 'Exploding Candy,Angry Birds,2017-03-10,2017-03-10,3.0 g,1393.0,0.0,100.0,100.0,0.0\\n',\n",
       " 'Exploding Candy,Angry Birds,2017-03-10,2017-03-10,3.0 g,1393.0,0.0,100.0,100.0,0.0\\n',\n",
       " '\"Bee, Creamed Honey With Raspberry, Raspberry\",\"Vintage,  Vintage Bee\",2017-03-09,2017-03-09,21.0 g,1197.0,0.0,80.95,76.19,0.0\\n',\n",
       " 'Creamed Honey,Vintage Bee  Inc.,2017-03-09,2017-03-09,21.0 g,1197.0,0.0,80.95,76.19,0.0\\n',\n",
       " '\"Bee, Creamed Honey With Cinnamon, Cinnamon\",\"Vintage,  Vintage Bee\",2017-03-09,2017-03-09,21.0 g,1197.0,0.0,80.95,76.19,0.0\\n',\n",
       " '\"Bee, Creamed Honey With Lemon\",\"Vintage,  Vintage Bee\",2017-03-09,2017-03-09,21.0 g,1197.0,0.0,80.95,76.19,0.0\\n',\n",
       " 'Creamed Honey With Hibiscus,Vintage Bee  Inc.,2017-03-09,2017-03-09,21.0 g,1197.0,0.0,80.95,76.19,0.0\\n',\n",
       " 'Minis Creamed Honey With Cinnamon,\"Vintage,  Vintage Bee  Inc.\",2017-03-09,2017-03-09,10.0 g,1255.0,0.0,90.0,80.0,0.0\\n',\n",
       " 'Creamed Honey With Lemon,Vintage Bee  Inc.,2017-03-09,2017-03-09,10.0 g,1255.0,0.0,90.0,80.0,0.0\\n',\n",
       " 'Creamed Honey With Raspberry,Vintage Bee  Inc.,2017-03-09,2017-03-09,10.0 g,1255.0,0.0,90.0,80.0,0.0\\n',\n",
       " '\"Minis, Creamed Honey With Hibiscus\",\"Vintage,  Vintage Bee  Inc.\",2017-03-09,2017-03-09,10.0 g,1255.0,0.0,90.0,80.0,0.0\\n',\n",
       " 'Minis Candy,\"Vintage,  All American Products Co. Inc.\",2017-03-09,2017-03-09,10.0 g,1255.0,0.0,90.0,80.0,0.0\\n',\n",
       " 'Raw Shrimp,Maxfield,2017-03-09,2017-03-09,85.0 g,247.0,0.0,0.0,0.0,14.12\\n',\n",
       " 'Yellow Corn Tortilla Chips,Guiltless Gourmet,2017-03-09,2017-03-09,28.0 g,1795.0,10.71,78.57,0.0,7.14\\n',\n",
       " 'Blueberry Pomegranate Crunch,Guiltless Gourmet,2017-03-09,2017-03-09,28.0 g,2243.0,39.29,35.71,17.86,17.86\\n',\n",
       " \"Pitted Prunes,Trader Joe's,2017-03-09,2017-03-09,40.0 g,1046.0,0.0,60.0,30.0,2.5\\n\",\n",
       " '\"Augason Farms, Vital Wheat Gluten\",Blue Chip Group,2017-03-09,2017-03-09,3.0 g,1393.0,0.0,0.0,0.0,66.67\\n',\n",
       " 'Caperberries In Vinegar,La Pedriza,2017-03-09,2017-03-09,28.0 g,75.0,0.0,3.57,,0.0\\n',\n",
       " 'Hazelnut Spread + Breadsticks,Nutella,2017-03-09,2017-03-09,52.0 g,2171.0,26.92,65.38,44.23,7.69\\n',\n",
       " 'Hazelnut Spread With Cocoa,Nutella,2017-03-09,2017-03-09,37.0 g,2264.0,32.43,62.16,56.76,5.41\\n',\n",
       " '\"La Eur, 3 Milk Soft Ripened Cheese\",Caseificio Dell\\'Alta Langa,2017-03-09,2017-03-09,28.0 g,1180.0,24.64,1.79,,12.86\\n',\n",
       " \"Diced In Tomato Juice,Trader Joe's,2017-03-09,2017-03-09,130.0 g,79.0,0.0,4.62,3.08,0.77\\n\",\n",
       " 'Bambu Extra Cream Wafer Filled With Hazelnut Cream,Balocco,2017-03-09,2017-03-09,31.0 g,2159.0,29.03,54.84,25.81,9.68\\n',\n",
       " 'Strawberry Preserves,Kroger,2017-03-09,2017-03-09,20.0 g,1046.0,0.0,55.0,50.0,0.0\\n',\n",
       " 'Lumaconi Giant Pasta Shells Italian Macaroni Product,The Kroger Co.,2017-03-09,2017-03-09,56.0 g,1494.0,0.89,71.43,1.79,14.29\\n',\n",
       " 'Tofu Firm,Simple Truth Organic,2017-03-09,2017-03-09,79.0 g,372.0,3.8,2.53,0.0,8.86\\n',\n",
       " \"Wild Rice,Trader Joe's,2017-03-09,2017-03-26,40.0 g,1464.0,1.25,75.0,2.5,15.0\\n\",\n",
       " \"Peanut Butter,Trader Joe's,2017-03-09,2017-03-09,32.0 g,2485.0,50.0,21.88,3.12,21.88\\n\",\n",
       " \"Peanut Butter,Trader Joe's,2017-03-09,2017-03-09,32.0 g,2485.0,50.0,21.88,3.12,21.88\\n\",\n",
       " \"Peanut Butter,Trader Joe's,2017-03-09,2017-03-09,32.0 g,2485.0,50.0,21.88,3.12,21.88\\n\",\n",
       " '\"Traders Joe\\'s, Baking Powder\",Legacy Manufacturing Co.,2017-03-10,2017-03-10,0.6 g,0.0,0.0,0.0,,0.0\\n',\n",
       " '\"Creamed Honey, Multi-Floral & Clover Blossoms\",Trader Joe\\'s,2017-03-09,2017-03-09,21.0 g,1197.0,0.0,80.95,76.19,0.0\\n',\n",
       " \"mostly mesquite honey,trader joe's,2017-07-25,2017-07-25,21.0 g,1200.0,0.0,81.0,76.2,0.0\\n\",\n",
       " \"Salsa Autentica,Trader Joe's,2017-03-09,2017-03-09,30.0 g,138.0,0.0,6.67,3.33,0.0\\n\",\n",
       " '\"First Crush, Unsweetened Gravenstein Apple Sauce\",Trader Joe\\'s,2017-03-09,2017-03-09,122.0 g,172.0,0.0,10.66,8.2,0.0\\n',\n",
       " \"Whole Kernel Corn,Trader Joe's,2017-03-09,2017-03-09,125.0 g,201.0,1.2,7.2,5.6,1.6\\n\",\n",
       " \"Clam Chowder A Condensed Soup,Pilgrim Joe's,2017-03-09,2017-03-11,122.0 g,276.0,1.64,9.02,0.82,4.1\\n\",\n",
       " '\"Just Great Stuff, The Original Powdered Organic Peanut Butter\",Betty Lou\\'s Inc.,2017-03-09,2017-03-09,12.0 g,1569.0,12.5,41.67,25.0,33.33\\n',\n",
       " \"Colossal Olives With Jalapeno Peppers,Trader Joe's,2017-03-09,2017-03-09,18.0 g,347.0,8.33,0.0,,0.0\\n\",\n",
       " \"Marinara Sauce,Trader Joe's,2017-03-09,2017-03-09,125.0 g,201.0,1.6,5.6,3.2,2.4\\n\",\n",
       " 'Happy Cola Candy,\"Haribo,  Haribo Gmbh & Co. Kg\",2017-03-09,2017-03-09,100.0 g,1406.0,0.2,77.5,55.5,4.7\\n',\n",
       " \"Finest Milk Chocolate,Weinrich's,2017-03-09,2017-03-09,42.0 g,2293.0,35.71,50.0,45.24,7.14\\n\",\n",
       " '\"International Inc., Frozen Shrimp Tempura\",\"Jfc,  Jfc International Inc.\",2017-03-09,2017-03-09,85.0 g,983.0,11.76,23.53,,2.35\\n',\n",
       " 'Tenero Alle Mandorle Limoncello Cookies,Dolciaria Stocco,2017-03-09,2017-03-09,100.0 g,1849.0,15.5,66.5,,9.0\\n',\n",
       " 'Mediterranean Sea Salt,Olde Thompson,2017-03-09,2017-03-09,1.2 g,0.0,0.0,0.0,,0.0\\n',\n",
       " 'Fajitas Seasoning Mix,Hol-Grain,2017-03-09,2017-03-09,4.0 g,1046.0,0.0,50.0,25.0,0.0\\n',\n",
       " \"Organic Sunny Days Snack Bars,Earth's Best,2017-03-09,2017-03-09,19.0 g,1540.0,7.89,68.42,31.58,5.26\\n\",\n",
       " 'Chili Garlic Sauce,Huy Fong Foods  Inc.,2017-03-09,2017-03-09,5.0 g,0.0,0.0,0.0,0.0,0.0\\n',\n",
       " 'Sriracha Hot Chili Sauce,Tuong Ot Sriracha,2017-03-09,2017-03-09,5.0 g,418.0,0.0,20.0,20.0,0.0\\n',\n",
       " '\"Wafers, Assortment Of Wafers\",Kuchenmeister,2017-03-09,2017-03-09,28.0 g,2389.0,32.14,60.71,39.29,3.57\\n',\n",
       " \"French Onion Dip,Dean's,2017-03-09,2017-03-09,30.0 g,837.0,16.67,6.67,6.67,3.33\\n\",\n",
       " '\"Ventura, Soybean - Peanut Frying Oil Blend\",Ventura Foods  L.L.C.,2017-03-09,2017-03-09,14.0 g,3586.0,100.0,0.0,0.0,0.0\\n',\n",
       " 'Assorted Pralines Chocolates,Maitre Truffout,2017-03-09,2017-03-09,40.0 g,1883.0,20.0,62.5,50.0,5.0\\n',\n",
       " 'Fancy Truffles,Maitre Truffout,2017-03-09,2017-03-09,40.0 g,2510.0,47.5,40.0,20.0,5.0\\n',\n",
       " '\"Fancy Truffles, Hazelnut\",Maitre Truffout,2017-03-09,2017-03-09,40.0 g,2615.0,50.0,40.0,35.0,5.0\\n',\n",
       " '\"Fancy Truffles, Coffee\",Maitre Truffout,2017-03-09,2017-03-09,40.0 g,2510.0,47.5,40.0,27.5,5.0\\n',\n",
       " 'Assorted Pralines,Maitre Truffout,2017-03-09,2017-03-09,40.0 g,1883.0,20.0,62.5,50.0,5.0\\n',\n",
       " 'Italian Style Grazioso Selection,Maitre Truffout,2017-03-09,2017-03-09,12.5 g,2218.0,34.4,51.2,48.8,4.8\\n',\n",
       " 'Finest Milk Chocolate,Storz Chocolade,2017-03-09,2017-03-09,50.0 g,2259.0,34.0,50.0,48.0,8.0\\n',\n",
       " 'Edelvollmilch- Chocolade Finest Milk Chocolate,Storz Chocolade,2017-03-09,2017-03-09,50.0 g,2259.0,34.0,50.0,48.0,8.0\\n',\n",
       " 'Edelvollmilch-Chocolade Finest Milk Chocolate,Storz Chocolade,2017-03-09,2017-03-09,50.0 g,2259.0,34.0,50.0,48.0,8.0\\n',\n",
       " 'Solid Milk Chocolate,Storz,2017-03-09,2017-03-09,40.0 g,2301.0,37.5,50.0,47.5,7.5\\n',\n",
       " '\"Mochi, Cashew-Date\",Grainaissance,2017-03-09,2017-03-09,45.0 g,1021.0,4.44,53.33,6.67,4.44\\n',\n",
       " '100% Grapefruit,Ocean Spray,2017-03-09,2017-03-09,251.0 g,151.0,0.0,8.37,6.77,0.8\\n',\n",
       " 'Mit Aprikosen Fruchtfullung Lebkuchen Herzen,Weiss,2017-03-09,2017-03-09,100.0 g,1519.0,7.3,66.6,41.8,4.8\\n',\n",
       " 'Pfeffernusse Glazed Gingerbread Cookies,Weiss,2017-03-09,2017-03-09,100.0 g,1582.0,4.6,75.3,,5.6\\n',\n",
       " 'Turkish Dried Apricots,Schnucks,2017-03-09,2017-03-09,40.0 g,1255.0,0.0,72.5,37.5,\\n',\n",
       " 'Extra Long Grain Enriched Rice,Riceland,2017-03-09,2017-03-09,45.0 g,1490.0,0.0,77.78,0.0,6.67\\n',\n",
       " '\"Mousse, Milk Chocolate With Chocolate Mousse Filling\",Witor\\'s,2017-03-09,2017-03-09,100.0 g,2364.0,37.7,48.1,47.1,7.8\\n',\n",
       " '\"Mousse, Milk Chocolate With Mousse Filling, Yogurt\",Witor\\'s,2017-03-09,2017-03-09,100.0 g,2389.0,37.3,53.6,53.1,5.1\\n',\n",
       " '\"Funny Frisch, Chips Frisch, Peperoni\",Funny Frisch Snack,2017-03-09,2017-03-09,30.0 g,2247.0,36.67,46.67,1.67,5.67\\n',\n",
       " 'Wild Alaskan Pink Salmon,,2017-03-09,2017-03-09,63.0 g,598.0,7.94,0.0,0.0,19.05\\n',\n",
       " '\"Super Chunk, Peanut Butter Spread\",Skippy,2017-03-09,2017-03-09,32.0 g,2485.0,53.12,18.75,9.38,21.88\\n',\n",
       " 'Creamy Peanut Butter,Skippy,2017-03-09,2017-03-09,32.0 g,2485.0,50.0,18.75,9.38,21.88\\n',\n",
       " \"Stuffed Queen Sevillano Olives,Trader Joe's,2017-03-09,2017-03-09,14.0 g,448.0,10.71,0.0,,0.0\\n\",\n",
       " \"Premium Chunk White Chicken In Broth,Trader Joe's,2017-03-09,2017-03-09,61.0 g,548.0,5.74,0.0,0.0,19.67\\n\",\n",
       " \"Baking Soda,Trader Joe's,2017-03-09,2017-03-09,0.6 g,0.0,0.0,0.0,,0.0\\n\",\n",
       " 'Hard Filled Candy,Specialita Le Italiane,2017-03-09,2017-03-09,14.0 g,1795.0,0.0,92.86,78.57,0.0\\n',\n",
       " 'Brutti E Buoni Alle Mandorle,Ghiott,2017-03-09,2017-03-09,30.0 g,1841.0,16.67,60.0,46.67,13.33\\n',\n",
       " 'Barbecue Sauce,\"Mark And Spencer, Trader Joe\\'s\",2017-02-13,2017-03-09,40.0 g,665.0,7.5,67.5,32.7,1.1\\n',\n",
       " 'Coconut Butter,\"Maranatha,  The Hain Celestial Group  Inc.\",2017-03-09,2017-03-09,31.0 g,2971.0,64.52,25.81,6.45,6.45\\n',\n",
       " '\"Coconut Tree Brand, Pho\\', Pho Soup Seasoning Spice Cube\",Lucky Shing Co.  Ltd.,2017-03-09,2017-03-09,9.0 g,1163.0,5.56,48.89,48.89,7.78\\n',\n",
       " '\"Coconut Tree Brand, Pho Ga Spice Cube\",Lucky Shing Co.  Ltd.,2017-03-09,2017-03-09,9.0 g,1163.0,5.56,48.89,48.89,7.78\\n',\n",
       " '\"Coconut Tree Brand, Kho Tieu Seasoning Spice Cube\",Lucky Shing Co.  Ltd.,2017-03-09,2017-03-09,9.0 g,1163.0,5.56,48.89,48.89,7.78\\n',\n",
       " '\"Coconut Tree Brand, Spice Cube Soup Sessoning\",Lucky Shing Co.  Ltd.,2017-03-09,2017-03-09,9.0 g,1163.0,5.56,48.89,48.89,7.78\\n',\n",
       " 'Bun Mam Soup Seasoning,Lucky Shing Co.  Ltd.,2017-03-09,2017-03-09,9.0 g,1163.0,5.56,48.89,48.89,7.78\\n',\n",
       " '\"Coconut Tree Brand, Spice Cube, Hoanh Thanh Soup Seasoning\",Lucky Shing Co.  Ltd,2017-03-09,2017-03-09,9.0 g,1163.0,5.56,48.89,48.89,7.78\\n',\n",
       " 'Bo Kho Stewed Beef Seasoning,Lucky Shing Co.  Ltd.,2017-03-09,2017-03-09,9.0 g,1163.0,5.56,48.89,48.89,7.78\\n',\n",
       " '\"Coconut Tree Brand, Bun Bo Hue Spice Cube\",Lucky Shing Co.  Ltd.,2017-03-09,2017-03-09,9.0 g,1163.0,5.56,48.89,48.89,7.78\\n',\n",
       " '\"Coconut Tree Brand, Vegetarian \"\"Bo Kho\"\" Seasoning\",,2017-03-09,2017-03-09,9.0 g,1163.0,5.56,48.89,48.89,7.78\\n',\n",
       " '\"Coconut Tree Brand, Hu Tieu, Spice Cube, Vegetarian Hu Tieu Soup Seasoning\",Lucky Shing Co.  Ltd,2017-03-09,2017-03-09,9.0 g,1163.0,5.56,48.89,48.89,7.78\\n',\n",
       " 'Pho Chay Spice Cube,Coconut Tree Brand,2017-03-09,2017-03-09,9.0 g,1301.0,5.56,48.89,48.89,7.78\\n',\n",
       " '\"Coconut Tree Brand, Spice Cube Seasoning\",Lucky Shing Enterprise Co.  Ltd.,2017-03-09,2017-03-09,9.0 g,1163.0,5.56,48.89,48.89,7.78\\n',\n",
       " '\"Coconut Tree Brand, Spice Cube Soup Seasoning\",Lucky Shing Co.  Ltd.,2017-03-09,2017-03-09,9.0 g,1163.0,5.56,48.89,48.89,7.78\\n',\n",
       " '\"Coconut Tree Brand, Vegetarian Soup Cubes\",Lucky Shing Co.  Ltd.,2017-03-09,2017-03-09,9.0 g,1163.0,5.56,48.89,48.89,7.78\\n',\n",
       " '\"Crab Soup Seasoning, Spice Cube\",Lucky Shing Co.  Ltd,2017-03-09,2017-03-09,9.0 g,1163.0,5.56,48.89,48.89,7.78\\n',\n",
       " 'Extra Virgin Olive Oil,Fresh Aisle,2017-03-09,2017-03-09,14.0 g,3586.0,100.0,0.0,,0.0\\n',\n",
       " \"Spicy Black Bean Dip,Trade Joe's,2017-03-09,2017-03-09,28.0 g,448.0,0.0,21.43,0.0,7.14\\n\",\n",
       " '\"Cashews, Sesame And Pistachios Brittle Slice\",Saladine,2017-03-09,2017-03-09,38.0 g,2201.0,28.95,55.26,50.0,13.16\\n',\n",
       " '\"Chocolart, Assorted Milk Chocolate Pralines\",Sorini,2017-03-09,2017-03-09,41.0 g,2247.0,31.71,58.54,56.1,4.88\\n',\n",
       " '\"Passion, Assorted Milk Chocolate\",Sorini,2017-03-09,2017-03-09,38.0 g,2201.0,28.95,63.16,57.89,5.26\\n',\n",
       " 'Assorted Chocolate Pralines,Sorini Italia,2017-03-09,2017-03-09,40.0 g,2301.0,32.5,60.0,57.5,5.0\\n',\n",
       " 'Milk Chocolate Balls With Cream And Chocolate,Confiserie Heidel,2017-03-09,2017-03-09,42.0 g,2293.0,35.71,54.76,52.38,7.14\\n',\n",
       " 'Chocolate Ball,Confiserie Heidel,2017-03-09,2017-03-09,42.0 g,1891.0,28.57,45.24,42.86,4.76\\n',\n",
       " 'Chocolate Balls Filled With Milk Cream And Chocolate,Heidel Confiserie,2017-03-09,2017-03-09,40.0 g,2301.0,32.5,55.0,52.5,5.0\\n',\n",
       " 'Merry Christmas Chocolate Balls,Heidel,2017-03-09,2017-03-09,39.0 g,2360.0,35.9,56.41,53.85,5.13\\n',\n",
       " 'Merry Christmas Chocolate Balls Filled With Praline Cream,Confiserie Heidel,2017-03-09,2017-03-09,40.0 g,2301.0,35.0,55.0,52.5,5.0\\n',\n",
       " 'Merry Christmas Minis Chocolate Bar,Heidel,2017-03-09,2017-03-09,40.0 g,2406.0,40.0,52.5,50.0,7.5\\n',\n",
       " 'Milk Chocolate,Confiserie Heidel,2017-03-09,2017-03-09,38.0 g,2423.0,39.47,52.63,50.0,5.26\\n',\n",
       " 'Chocolate Cookies,Lambertz,2017-03-09,2017-03-09,36.0 g,2209.0,27.78,63.89,36.11,5.56\\n',\n",
       " '\"Chutney, Hot Mango Hot\",Patak\\'s,2017-03-10,2017-03-10,21.0 g,996.0,0.0,61.9,61.9,0.0\\n',\n",
       " '\"Dopiaza Curry Simmer Sauce, Mild\",Patak\\'s,2017-03-10,2017-03-10,140.0 g,418.0,4.29,10.0,5.71,1.43\\n',\n",
       " 'Red Curry Spice,A Taste Of Thai,2017-03-09,2017-03-09,7.0 g,540.0,0.0,14.29,14.29,14.29\\n',\n",
       " 'Coconut Ginger Rice,A Taste Of Thai,2017-03-09,2017-03-09,50.0 g,1674.0,6.0,72.0,2.0,8.0\\n',\n",
       " 'Sweet Chili Sauce,A Taste Of Thai,2017-03-09,2017-03-09,5.5 g,987.0,0.0,54.55,54.55,\\n',\n",
       " 'Top Ramen Noodle Soup,Nissin,2017-03-09,2017-03-09,42.0 g,1891.0,16.67,64.29,0.0,11.9\\n',\n",
       " 'Extra Hot Chinese Mustard,Beaver,2017-03-09,2017-03-09,5.0 g,837.0,10.0,20.0,0.0,0.0\\n',\n",
       " 'Organic Nine Grain All Natural Bread,Franz,2017-03-09,2017-03-09,43.0 g,1167.0,4.65,48.84,9.3,11.63\\n',\n",
       " 'Organic 100% Whole Wheat,Franz,2017-03-10,2017-03-10,43.0 g,975.0,3.49,46.51,6.98,9.3\\n',\n",
       " 'Organic Great Seed,Willamette Valley,2017-03-09,2017-03-09,43.0 g,1071.0,5.81,44.19,9.3,11.63\\n',\n",
       " 'Mountain White,Franz,2017-03-09,2017-03-09,36.0 g,929.0,4.17,44.44,5.56,2.78\\n',\n",
       " 'Great Seed Bread,United States Bakery,2017-03-10,2017-03-10,40.0 g,1151.0,8.75,42.5,5.0,5.0\\n',\n",
       " '\"Fruit Spredad, Strawberry\",Walden Farms,2017-03-09,2017-03-09,15.0 g,0.0,0.0,0.0,0.0,0.0\\n',\n",
       " '\"Fruit Spread, Raspberry\",Walden Farms,2017-03-09,2017-03-09,15.0 g,0.0,0.0,0.0,0.0,0.0\\n',\n",
       " 'Long Grain Enriched Rice,Rice Mill  Inc.,2017-03-10,2017-03-10,47.0 g,1515.0,0.0,78.72,,8.51\\n',\n",
       " 'Sweet Cherry Peppers,\"Mezzetta,  G.L. Mezzetta  Inc.\",2017-03-09,2017-03-09,30.0 g,209.0,0.0,6.67,3.33,3.33\\n',\n",
       " 'Deli-Sliced Hot Jalapeno Peppers,\"Mezzetta,  G.L. Mezzetta  Inc.\",2017-03-09,2017-03-09,30.0 g,71.0,0.0,3.33,0.0,0.0\\n',\n",
       " \"21 Seasoning Salute,Trader Joe's,2013-06-02,2017-03-09,0.6 g,0.0,0.0,0.0,,0.0\\n\",\n",
       " \"Crushed Garlic,Trader Joe's,2017-03-09,2017-03-09,5.0 g,837.0,0.0,40.0,,0.0\\n\",\n",
       " '\"Condensed Soup, Tomato\",Venice Maid Foods,2017-03-09,2017-03-09,120.0 g,314.0,0.0,16.67,10.0,1.67\\n',\n",
       " 'Sauce Mix,S&B,2017-03-09,2017-03-09,20.0 g,2301.0,35.0,40.0,10.0,5.0\\n',\n",
       " '\"Golden Curry, Sauce Mix\",S&B,2017-03-09,2017-03-09,20.0 g,2301.0,35.0,45.0,10.0,5.0\\n',\n",
       " 'Fried Rice Seasoning Mix,Sun-Bird,2017-03-09,2017-03-09,4.0 g,1569.0,0.0,75.0,0.0,0.0\\n',\n",
       " \"Whole Durum Wheat Cous Cous,Trader Joe's,2017-03-09,2017-03-09,45.0 g,1393.0,0.0,62.22,4.44,13.33\\n\",\n",
       " 'Japanese Style Noodles & Chicken Flavored-Soup,Sapporo Ichiban,2017-03-10,2017-03-10,100.0 g,1925.0,18.0,65.0,1.0,10.0\\n',\n",
       " 'Whole Wheat Flour Tortillas,United Supermarkets  Llc,2017-03-09,2017-03-09,45.0 g,1021.0,7.78,42.22,2.22,8.89\\n',\n",
       " 'Flour Tortillas,Usm,2017-03-09,2017-03-09,45.0 g,1209.0,7.78,51.11,0.0,8.89\\n',\n",
       " \"Lemon Curd,Trader Joe's,2017-03-09,2017-03-09,30.0 g,1393.0,10.0,60.0,60.0,3.33\\n\",\n",
       " '\"Bunge, Clear Liquid Soybean Frying Oil\",Bunge Edible Oil Corporation,2017-03-09,2017-03-09,14.0 g,3887.0,100.0,0.0,,0.0\\n',\n",
       " '\"Panda Brand, Oyster Flavored Sauce\",\"Lee Kum Kee,  Lee Kum Kee (Usa) Foods Inc.\",2017-03-09,2017-03-09,19.0 g,552.0,0.0,26.32,21.05,0.0\\n',\n",
       " \"Almonds Cookies,Amay's Bakery & Noodle Co.  Inc.,2017-03-09,2017-03-09,15.0 g,2230.0,26.67,60.0,26.67,6.67\\n\",\n",
       " '\"Quiche, Spinach, Mushroom & Cheese\",\"Trader Joe\\'s,  Napoli\\'s Italian Bakery\",2017-03-09,2017-03-09,170.0 g,1134.0,15.29,22.35,3.53,11.76\\n',\n",
       " \"Mexicaine Quiche,Trader Joe's,2017-03-09,2017-03-09,170.0 g,1230.0,20.0,18.24,1.76,10.59\\n\",\n",
       " \"Dry Roasted & Salted Almonds,Trader Joe's,2017-03-09,2017-03-09,30.0 g,2372.0,50.0,16.67,3.33,23.33\\n\",\n",
       " '\"Cool Beans, Catalina Bean Hummus\",Bobbi\\'s Best  Inc.,2017-03-09,2017-03-09,28.0 g,895.0,21.43,10.71,0.0,3.57\\n',\n",
       " '\"Cool Beans, Red Pepper Hummus\",Bobbi\\'s Best  Inc.,2017-03-09,2017-03-09,28.0 g,895.0,21.43,10.71,0.0,3.57\\n',\n",
       " '\"Cool Beans, Buffalo Hummus\",Bobbi\\'s Best  Inc.,2017-03-09,2017-03-09,28.0 g,1197.0,25.0,10.71,0.0,3.57\\n',\n",
       " 'Organic Tortellini Pasta,Nuovo Pasta,2017-03-10,2017-03-10,100.0 g,1088.0,3.0,46.0,1.0,10.0\\n',\n",
       " '\"Nuovo Pasta, Organic Ravioli, Butternut Squash\",Nuovo Pasta Productions Ltd,2017-03-09,2017-03-09,100.0 g,795.0,2.5,24.0,1.0,8.0\\n',\n",
       " 'Organic Ravioli,Nuovo Pasta,2017-03-10,2017-03-10,100.0 g,837.0,4.0,36.0,1.0,9.0\\n',\n",
       " 'Ravioli Five Cheese,Nuovo,2017-03-09,2017-03-09,127.0 g,1155.0,8.66,34.65,0.79,14.96\\n',\n",
       " '\"Tender Spinach, Whipped Potatoes & Cheddar Cheese In A Pierogi Shell\",Nuovo Pasta,2017-03-09,2017-03-09,100.0 g,920.0,6.0,35.0,1.0,7.0\\n',\n",
       " 'Pierogi,Nuovo Pasta,2017-03-09,2017-03-09,100.0 g,1004.0,7.0,37.0,1.0,6.0\\n',\n",
       " 'Ravioli,Nuovo Pasta,2017-03-09,2017-03-09,100.0 g,837.0,10.0,29.0,2.0,13.0\\n',\n",
       " 'Oven Roasted Pumpkin Pasta Purse,Nuovo Pasta,2017-03-09,2017-03-09,100.0 g,1046.0,5.0,41.0,1.0,10.0\\n',\n",
       " '\"Tomato, Basil & Mozzarella Rovioli\",Delice De France Inc.,2017-03-09,2017-03-09,100.0 g,711.0,9.0,25.0,2.0,12.0\\n',\n",
       " 'Ravioli,Nuovo Pasta,2017-03-09,2017-03-09,100.0 g,837.0,10.0,26.0,1.0,12.0\\n',\n",
       " 'Shrimp Scampi Ravioli,Nuovo Pasta,2017-03-10,2017-03-10,100.0 g,795.0,6.0,28.0,1.0,12.0\\n',\n",
       " 'Sweet Basil Pesto Ravioli,Nuovo Pasta,2017-03-10,2017-03-10,100.0 g,711.0,8.0,29.0,1.0,11.0\\n',\n",
       " 'Gold Fish Shaped Ravioli!,Nuovo Pasta,2017-03-10,2017-03-10,100.0 g,1130.0,8.0,34.0,5.0,13.0\\n',\n",
       " '\"Kale, Hummus & Chicckpea Ravioli\",Nuovo Pasta,2017-03-10,2017-03-10,100.0 g,879.0,7.0,31.0,1.0,9.0\\n',\n",
       " 'Classic Cheese Ravioli,Nuovo Pasta,2017-03-10,2017-03-10,100.0 g,753.0,12.0,24.0,1.0,13.0\\n',\n",
       " 'Chocolate Cream Dip Wiht Crispy Craker Sticks,\"Meiji,  Meiji Seika (S) Pte. Ltd.\",2017-03-09,2017-03-09,57.0 g,2188.0,26.32,61.4,26.32,7.02\\n',\n",
       " '\"Yan Yan Crispy Cracker Stick, Strawberry\",\"Meiji,  Meiji Seika (S) Pte. Ltd.\",2017-03-09,2017-03-09,57.0 g,2226.0,28.07,61.4,26.32,7.02\\n',\n",
       " '\"Yam Yam Double Cream, Chocolate, Strawberry\",\"Meiji,  Meiji Seika (S) Pte. Ltd.\",2017-03-09,2017-03-09,44.0 g,2280.0,31.82,59.09,29.55,6.82\\n',\n",
       " '\"Hello Panda, Choco Biscuits With Choco Cream, Double Choco\",\"Meiji,  Meiji Seika (S) Pte. Ltd.\",2017-03-09,2017-03-09,15.0 g,2230.0,26.67,66.67,26.67,6.67\\n',\n",
       " '\"Hellow Panda, Biscuits With Choco Cream\",\"Meiji,  Meiji Seika (S) Pte. Ltd.\",2017-03-09,2017-03-09,15.0 g,2230.0,30.0,60.0,26.67,6.67\\n',\n",
       " 'Biscuits With Strawberry Cream,\"Meiji,  Meiji Seika (S) Pte. Ltd.\",2017-03-09,2017-03-09,15.0 g,2230.0,26.67,66.67,26.67,6.67\\n',\n",
       " '\"Hello Panda, Biscuits With Choco Cream\",\"Meiji,  Meiji Seika (S) Pte. Ltd.\",2017-03-09,2017-03-09,26.0 g,2222.0,28.85,61.54,26.92,7.69\\n',\n",
       " 'Hello Panda Biscuits With Strawberry Cream,\"Meiji,  Meiji Seika (S) Pte. Ltd.\",2017-03-09,2017-03-09,26.0 g,2251.0,26.92,65.38,23.08,7.69\\n',\n",
       " 'Yan Yan Cream Dip,Meiji Seika (S) Pte Ltd,2017-03-10,2017-03-10,57.0 g,2188.0,26.32,61.4,26.32,7.02\\n',\n",
       " '\"Chicago Flats, Whole Grain Artisan Flatbread\",Distinctive Foods  Llc,2017-03-09,2017-03-09,18.0 g,1628.0,13.89,55.56,5.56,11.11\\n',\n",
       " '\"Chicago Flats, Rosemary & Sea Salt Artisan Flatbread\",Distinctive Foods  Llc,2017-03-09,2017-03-09,18.0 g,1628.0,8.33,61.11,5.56,11.11\\n',\n",
       " '\"Chicago Flats, Gourmet Flatbread, Sea Salt\",Distinctive Foods  Llc,2017-03-09,2017-03-09,18.0 g,1628.0,8.33,72.22,5.56,11.11\\n',\n",
       " 'Greek Salad Dressing & Marinade,Gazebo Room,2017-03-09,2017-03-09,14.0 g,2987.0,71.43,7.14,0.0,0.0\\n',\n",
       " '\"Gazebo Room, Balsamic Vinaigrette\",Best Dressed Associates  Inc.,2017-03-09,2017-03-09,14.0 g,2690.0,71.43,7.14,0.0,0.0\\n',\n",
       " '\"Gazebo Room, Lite Greek Salad Dressing & Marinade\",Best Dressed Associates  Inc.,2017-03-09,2017-03-09,14.0 g,1197.0,28.57,0.0,0.0,0.0\\n',\n",
       " 'Lentils,Marconi Brand,2017-03-09,2017-03-09,123.0 g,272.0,0.0,11.38,0.0,4.07\\n',\n",
       " \"Chocolate Bites,Bill Knapp's,2017-03-10,2017-03-10,34.1 g,1841.0,26.98,58.65,43.4,2.05\\n\",\n",
       " '\"Bill Knapp\\'s, Old-Fashioned Cinnamon-Sugar Doughnut Holes\",Bake-A-Teria  Inc.,2017-03-09,2017-03-09,45.36 g,1293.0,8.82,55.11,26.46,4.41\\n',\n",
       " '\"Dunkers, Cinnamon-Sugar\",Bill Knapp\\'s,2017-03-09,2017-03-09,34.0 g,1377.0,8.82,58.82,29.41,5.88\\n',\n",
       " '\"Bill Knapp\\'s, Iced Toaster Bread, Cinnamon Raisin\",Bake-A-Teria  Inc.,2017-03-09,2017-03-09,28.0 g,1343.0,3.57,71.43,32.14,7.14\\n',\n",
       " '\"Bill Knapp\\'s, Iced Toaster Bread, Cranberry Cherry\",Bake-A-Teria  Inc.,2017-03-09,2017-03-09,28.0 g,1343.0,3.57,64.29,25.0,7.14\\n',\n",
       " '\"Bill Knapp\\'s, Iced Toaster Bread, Cranberry-Orange\",Bake-A-Teria  Inc.,2017-03-09,2017-03-09,28.0 g,1343.0,7.14,57.14,21.43,7.14\\n',\n",
       " \"Classic 7'' Chocolate Cake,Bill Knapp's,2017-03-10,2017-03-10,128.0 g,1079.0,5.47,46.09,25.78,3.91\\n\",\n",
       " \"Crystallized Ginger Candy,Reed's,2017-03-09,2017-03-09,10.0 g,1506.0,0.0,90.0,90.0,0.0\\n\",\n",
       " \"Chewy Ginger Candy,Reed's Ginger Candy,2017-03-09,2017-03-09,6.0 g,1745.0,0.0,100.0,50.0,0.0\\n\",\n",
       " \"Ginger Candy Sweetened With Raw Cane,Reed's  Inc.,2017-03-09,2017-03-09,10.0 g,4435.0,0.0,90.0,90.0,0.0\\n\",\n",
       " '\"Meal Replacement Shake Mix, Creamy Milk Chocolate\",Slim Fast,2017-03-09,2017-03-09,26.0 g,1770.0,11.54,69.23,23.08,7.69\\n',\n",
       " 'Peanut Butter,Ksf Acquisition Corporation,2017-03-10,2017-03-10,23.0 g,1820.0,15.22,69.57,52.17,4.35\\n',\n",
       " 'Chocolate Cookie Dough Protein Meal Bars,Ksf Acquisition Corporation,2017-03-10,2017-03-10,52.0 g,1611.0,7.69,57.69,23.08,19.23\\n',\n",
       " '\"Slim Fast, Protein Meal Bars, Chocolate Fudge Brownie\",Ksf Acquisition Corporation,2017-03-09,2017-03-09,52.0 g,1611.0,7.69,57.69,21.15,19.23\\n',\n",
       " 'Protein Meal Bar,Slim Fast,2017-03-10,2017-03-10,45.0 g,1674.0,11.11,55.56,26.67,17.78\\n',\n",
       " 'Dark Chocolate Sea Salt,Ksf Acquisition Corporation,2017-03-10,2017-03-10,45.0 g,1766.0,22.22,44.44,20.0,22.22\\n',\n",
       " '\"Slimfast, Advanced Nutrition Smoothie\",Ksf Acquisition Corporation,2017-03-10,2017-03-10,26.0 g,1770.0,13.46,30.77,3.85,46.15\\n',\n",
       " '\"100 Calorie Snack Bites, Peanut Butter Chocolate\",Slimfast,2017-03-10,2017-03-10,23.0 g,1820.0,26.09,56.52,26.09,17.39\\n',\n",
       " '\"Slimfast, 100 Calorie Snack Drizzled Crisps, Cinnamon Bun Swirl\",Ksf Acquisition Corporation,2017-03-09,2017-03-09,28.0 g,1494.0,10.71,71.43,25.0,10.71\\n',\n",
       " '\"100 Calorie Snacks Drizzled Crisps, Cinnamon Bun Swirl\",Slimfast,2017-03-09,2017-03-09,28.0 g,1494.0,10.71,71.43,25.0,10.71\\n',\n",
       " '\"100 Calorie Snacks Drizzled Crisps, S\\'Mores\",Slimfast,2017-03-09,2017-03-09,28.0 g,1494.0,10.71,71.43,21.43,10.71\\n',\n",
       " '\"100 Calorie Snacks Baked Crisps, Mesquite Bbq\",Slimfast,2017-03-09,2017-03-09,28.0 g,1494.0,8.93,71.43,10.71,7.14\\n',\n",
       " '\"100 Calorie Snacks Baked Crisps, Sour Cream & Onion\",Slimfast,2017-03-09,2017-03-09,28.0 g,1494.0,8.93,67.86,3.57,7.14\\n',\n",
       " '\"Slimfast, Baked Chips, Mesquite Bbq\",Ksf Acquisition Corporation,2017-03-09,2017-03-09,28.0 g,1494.0,8.93,71.43,10.71,7.14\\n',\n",
       " '\"Slimfast, Advanced Nutrition Baked Chips, Sour Cream & Onion`\",Ksf Acquisition Corporation,2017-03-09,2017-03-09,28.0 g,1494.0,8.93,67.86,3.57,7.14\\n',\n",
       " '\"Slimfast, Baked Chips, Mesquite Bbq\",Ksf Acquisition Corporation,2017-03-09,2017-03-09,28.0 g,1494.0,8.93,71.43,10.71,7.14\\n',\n",
       " '\"Slimfast, 100 Calorie Snack Baked Chips, Sour Cream & Onion\",Ksf Acquisition Corporation,2017-03-09,2017-03-09,28.0 g,1494.0,8.93,67.86,3.57,7.14\\n',\n",
       " '\"Slimfast, Drizzled Crisps, Cinnamon Bun Swirl\",Ksf Acquisition Corporation,2017-03-09,2017-03-09,28.0 g,1494.0,10.71,71.43,25.0,10.71\\n',\n",
       " '\"Slim Fast, Drizzled Crisps Snack Bars, S\\'Mores\",Ksf Acquisition Corporation,2017-03-09,2017-03-09,28.0 g,1494.0,10.71,71.43,21.43,10.71\\n',\n",
       " '\"Wicklein, Brown Gingerbread\",Ever-Green Nursery Corp.,2017-03-09,2017-03-09,30.0 g,1536.0,10.0,70.0,36.67,6.67\\n',\n",
       " '\"Roasted Garlic Salsa, Roasted Garlic\",Trader Jose\\'s,2017-03-09,2017-03-09,30.0 g,138.0,0.0,10.0,3.33,0.0\\n',\n",
       " \"Barbecue Sauce,George's,2017-03-09,2017-03-09,33.0 g,381.0,0.0,21.21,21.21,0.0\\n\",\n",
       " \"Hot Barbecue Sauce,George's Sauces,2017-03-09,2017-03-09,33.0 g,381.0,0.0,24.24,21.21,0.0\\n\",\n",
       " \"Special Barbecue Sauce,George's Sauces,2017-03-09,2017-03-09,36.0 g,406.0,0.0,25.0,16.67,0.0\\n\",\n",
       " \"Whole Grain,Today's Temptations,2017-03-09,2017-03-09,28.0 g,674.0,1.79,28.57,0.0,0.0\\n\",\n",
       " \"Special Blend Taco Sauce,Art's Mexican Products,2017-03-10,2017-03-10,30.0 g,138.0,0.0,6.67,0.0,0.0\\n\",\n",
       " 'Double Chocolate Mini Eclairs,Poppies,2017-03-10,2017-03-10,84.0 g,1297.0,20.24,27.38,17.86,4.76\\n',\n",
       " 'Belgian Large Coconut Macaroons,Poppies Int.,2017-03-10,2017-03-10,32.0 g,1833.0,21.88,56.25,50.0,3.12\\n',\n",
       " 'The Original Macaroon,Poppies Int. Nv.,2017-03-10,2017-03-10,37.0 g,1695.0,21.62,51.35,45.95,2.7\\n',\n",
       " 'Belgian Mini Cream Puffs,Poppies International  Inc.,2017-03-10,2017-03-10,75.0 g,1506.0,29.33,21.33,12.0,4.0\\n',\n",
       " '\"Barbeque Sauce, Maple\",Butternut Mountain Farm,2017-03-09,2017-03-09,35.0 g,715.0,0.0,42.86,42.86,0.0\\n',\n",
       " 'Penne Pasta,Pasta Zara S.P.A.,2017-03-09,2017-03-09,58.0 g,1443.0,1.72,72.41,1.72,12.07\\n',\n",
       " 'Cut Ziti Pasta,Pasta Zara S.P.A.,2017-03-09,2017-03-09,58.0 g,1443.0,1.72,72.41,1.72,12.07\\n',\n",
       " '\"Long Grove Confectionery Co., Chocolate Fudge\",Long Grove Confectionery Co.,2017-03-09,2017-03-09,40.0 g,1674.0,17.5,67.5,60.0,2.5\\n',\n",
       " '\"Long Grove Confectionery Co, Rocky Road Fudge\",Long Grove Confectionery Co.,2017-03-09,2017-03-09,40.0 g,1778.0,20.0,62.5,55.0,2.5\\n',\n",
       " '\"Long Grove Confectionery Co., Halloween Chocolate Pop\",Long Grove Confectionery Co.,2017-03-09,2017-03-09,43.0 g,2238.0,32.56,58.14,55.81,6.98\\n',\n",
       " '\"Long Grove Confectionery Co., Day To Dead Chocolate Skull\",Long Grove Confectionery Co.,2017-03-09,2017-03-09,42.0 g,2192.0,33.33,59.52,54.76,4.76\\n',\n",
       " '\"Long Grove Confectionery Co., Spooky Treats, Mini Pretzel Twists\",Long Grove Confectionery Co.,2017-03-09,2017-03-09,30.0 g,1954.0,20.0,66.67,40.0,6.67\\n',\n",
       " '\"Long Grove Confectionery Co, Dark Chocolate, Peppermint Creames\",Long Grove Confectionery Co.,2017-03-09,2017-03-09,38.0 g,1870.0,15.79,76.32,73.68,2.63\\n',\n",
       " '\"Long Grove Confectionery Co., Milk Chocolate, Coconut Caramel\",Long Grove Confectionery Co.,2017-03-09,2017-03-09,38.0 g,2092.0,26.32,68.42,47.37,5.26\\n',\n",
       " '\"Long Grove Confectionery Co., Peanut Butter Melts\",Long Grove Confectionery Co.,2017-03-09,2017-03-09,43.0 g,2238.0,37.21,44.19,37.21,11.63\\n',\n",
       " '\"Long Grove Confectionery Co, Creamy White Pretzel Twists\",Long Grove Confectionery Co.,2017-03-09,2017-03-09,42.0 g,1891.0,19.05,71.43,50.0,4.76\\n',\n",
       " '\"Long Grove Confectionery Co., St. Pat\\'s Mini Pretzels\",Long Grove Confectionery Co.,2017-03-09,2017-03-09,42.0 g,1992.0,23.81,71.43,47.62,4.76\\n',\n",
       " '\"Long Grove Confectionery Co., St.Pats Nonpareils Candy\",Long Grove Confectionery Co.,2017-03-09,2017-03-09,35.0 g,2151.0,25.71,68.57,65.71,2.86\\n',\n",
       " '\"Long Grove Confectionery Co., Creamy White Confetti Cookies\",Long Grove Confectionery Co.,2017-03-09,2017-03-09,42.0 g,2092.0,23.81,69.05,54.76,2.38\\n',\n",
       " '\"Long Grove Confectionery Co, Pastel Mint Nonpareils\",Long Grove Confectionery Co.,2017-03-09,2017-03-09,40.0 g,2092.0,25.0,67.5,52.5,5.0\\n',\n",
       " '\"Long Grove Confectionery Co, Spring Nonpareils\",Long Grove Confectionery Co.,2017-03-09,2017-03-09,40.0 g,1987.0,27.5,65.0,52.5,2.5\\n',\n",
       " 'Solid Chocolate Rabbit,Long Grove Confectionery,2017-03-10,2017-03-10,39.0 g,2251.0,30.77,58.97,56.41,7.69\\n',\n",
       " '\"Long Grove Confectionery Co., Corn, Chocolatey Drizzled Caramel\",Long Grove Confectionery Co.,2017-03-09,2017-03-09,30.0 g,1536.0,10.0,80.0,60.0,3.33\\n',\n",
       " '\"Long Grove Confectionery Co., Creamy White Drizzled Caramel Corn\",Long Grove Confectionery Co.,2017-03-09,2017-03-09,30.0 g,1674.0,10.0,80.0,60.0,3.33\\n',\n",
       " '\"Long Grove Confection Co., Chicago Snack Mix, Cheese & Caramel Popcorn\",Long Grove Confectionery Co.,2017-03-09,2017-03-09,28.0 g,2092.0,28.57,60.71,35.71,7.14\\n',\n",
       " '\"Long Grove Confectionery Co, Cookies N\\' Cream Bark\",Long Grove Confectionery Co.,2017-03-09,2017-03-09,46.0 g,2092.0,26.09,67.39,58.7,2.17\\n',\n",
       " '\"Long Grove Confectionery Co, Happy Birthday Pop\",Long Grove Confectionery Co.,2017-03-09,2017-03-09,43.0 g,2238.0,34.88,58.14,55.81,6.98\\n',\n",
       " '\"Long Grove Confectionery Co, Congratulations Pop\",Long Grove Confectionery Co.,2017-03-09,2017-03-09,38.0 g,2201.0,34.21,57.89,55.26,5.26\\n',\n",
       " '\"Long Grove Confectionery Co, Pretzel Twists, Milk Chocolate\",Long Grove Confectionery Co.,2017-03-09,2017-03-09,30.0 g,1954.0,20.0,66.67,36.67,6.67\\n',\n",
       " 'Creamy White Pretzel Twists,Long Grove Confectionery Co.,2017-03-09,2017-03-09,30.0 g,2092.0,23.33,73.33,50.0,3.33\\n',\n",
       " '\"Long Grove Confectionery Co., Graham Crackers, Milk Chocolate\",Long Grove Confectionery Co.,2017-03-09,2017-03-09,28.0 g,2243.0,28.57,64.29,46.43,7.14\\n',\n",
       " 'Dark Chocolate Sea Salt Caramels,Long Grove Confectionery Co,2017-03-09,2017-03-09,42.0 g,1695.0,21.43,59.52,42.86,2.38\\n',\n",
       " '\"Long Grove Confectionery Co., Myrtles, Milk Chocolate Pecan\",Long Grove Confectionery Co.,2017-03-09,2017-03-09,28.0 g,2092.0,35.71,46.43,39.29,3.57\\n',\n",
       " 'Milk Chocolate Pecan Myrtles,Long Grove Chocolates,2017-03-10,2017-03-10,31.0 g,2293.0,41.94,45.16,32.26,6.45\\n',\n",
       " 'Milk Chocolate Pecan Myrtles,Long Grove Chocolates,2017-03-10,2017-03-10,31.0 g,2293.0,41.94,45.16,32.26,6.45\\n',\n",
       " \"Milk Chocolate S'Mores,Long Grove Chocolates,2017-03-10,2017-03-10,35.0 g,2033.0,22.86,68.57,48.57,5.71\\n\",\n",
       " '\"Long Grove Confectionery Co., Cupid\\'s Pretzels\",Long Grove Confectionery Co.,2017-03-09,2017-03-09,40.0 g,1987.0,20.0,72.5,47.5,5.0\\n',\n",
       " '\"Long Grove Confectionery Co., Pretzels, Cherry\",Long Grove Confectionery Co.,2017-03-09,2017-03-09,40.0 g,2301.0,22.5,80.0,52.5,5.0\\n',\n",
       " '\"Pretzels, Yogurt\",\"Jewel Osco,  Long Grove Confectionery Co.\",2017-03-09,2017-03-09,30.0 g,1812.0,20.0,66.67,46.67,3.33\\n',\n",
       " 'Pretzels,Jewel Osco,2017-03-10,2017-03-10,30.0 g,1954.0,23.33,66.67,43.33,6.67\\n',\n",
       " 'Double Dip Penuts,Jewel Osco,2017-03-09,2017-03-09,30.0 g,2230.0,30.0,56.67,50.0,6.67\\n',\n",
       " 'Chocolate Malt Balls,\"Jewel Osco,  Long Grove Confectionery Co.\",2017-03-09,2017-03-09,43.0 g,2142.0,27.91,62.79,58.14,4.65\\n',\n",
       " 'All Natural Chocolate Raisins,\"Jewel Osco,  Long Grove Confectionery Co.\",2017-03-09,2017-03-09,42.0 g,1795.0,19.05,69.05,64.29,50.0\\n',\n",
       " 'Dark Chocolate Almonds,Long Grove Confectionery Co.,2017-03-09,2017-03-09,37.0 g,2264.0,40.54,45.95,32.43,10.81\\n',\n",
       " 'Dark Chocolate Nonpareils,\"Jewel Osco,  Long Grove Confectionery Co.\",2017-03-09,2017-03-09,35.0 g,2151.0,31.43,62.86,51.43,2.86\\n',\n",
       " 'Chocolate Almonds,\"Jewel Osco,  Long Grove Confectionery Co.\",2017-03-09,2017-03-09,37.0 g,1807.0,29.73,37.84,32.43,8.11\\n',\n",
       " 'Ultimate Brown Bag Apple Pie,Long Grove Confectionery Co.,2017-03-09,2017-03-09,170.0 g,1059.0,10.0,41.18,28.24,1.76\\n',\n",
       " 'Cracker Crisps Sesame Mini Crackers,Beigel Beigel,2017-03-09,2017-03-09,28.0 g,2092.0,21.43,64.29,3.57,10.71\\n',\n",
       " '\"Cracker Crisps, Sour Creme & Onion\",Beigel Beigel,2017-03-09,2017-03-09,28.0 g,1795.0,16.07,67.86,3.57,7.14\\n',\n",
       " 'Small Red Beans,Essential Everyday,2017-03-09,2017-03-09,36.0 g,699.0,0.0,63.89,2.78,22.22\\n',\n",
       " \"Chunky Salsa,Trader Jose's,2017-03-09,2017-03-09,30.0 g,71.0,0.0,3.33,3.33,0.0\\n\",\n",
       " '\"The Foreign Candy Company, Rip Rolls Candy, Blue Raspberry\",Foreign Candy Co. Inc.,2017-03-09,2017-03-09,40.0 g,1360.0,0.0,80.0,52.5,2.5\\n',\n",
       " \"Sorbet Gourmet,Sharon's,2017-03-09,2017-03-09,96.0 g,435.0,0.0,26.04,25.0,0.0\\n\",\n",
       " '\"Sorbet, Dutch Chocolate\",Sharon\\'s,2017-03-09,2017-03-09,96.0 g,481.0,3.65,20.83,20.83,0.0\\n',\n",
       " '\"Sorbet, Mixed Berry\",Sharon\\'s,2017-03-09,2017-03-09,96.0 g,435.0,0.0,25.0,23.96,0.0\\n',\n",
       " \"Sorbet,Sharon's,2017-03-09,2017-03-09,96.0 g,435.0,0.0,27.08,25.0,0.0\\n\",\n",
       " '\"Sorbet, Coconut\",Sharon\\'s,2017-03-09,2017-03-09,88.0 g,665.0,4.55,28.41,22.73,0.0\\n',\n",
       " 'Biscotti Decoratie Wafers,Tonon,2017-03-09,2017-03-09,32.0 g,1962.0,18.75,75.0,25.0,6.25\\n',\n",
       " 'Delice Biscotti,Tonon,2017-03-09,2017-03-09,30.0 g,1954.0,16.67,73.33,23.33,6.67\\n',\n",
       " 'Party Mix Assorted Biscuits,Tonon,2017-03-09,2017-03-09,32.0 g,1962.0,18.75,68.75,25.0,6.25\\n',\n",
       " 'Biscuits With Rich Rice Flour Decorated With Cocoa,Tonon,2017-03-09,2017-03-09,23.0 g,2000.0,17.39,69.57,39.13,4.35\\n',\n",
       " '\"Squire Boone Village, Middle Size Heart Pop, Cherry\",Squire Boone Caverns  Inc.,2017-03-09,2017-03-09,42.0 g,1674.0,0.0,100.0,88.1,0.0\\n',\n",
       " '\"Squire Bone Village, Christmas Tree Lollipop, Peppermint\",Squire Boone Caverns  Inc.,2017-03-09,2017-03-09,78.0 g,1661.0,0.0,100.0,87.18,0.0\\n',\n",
       " \"100% desert mesquite honey,Trader Joe's,2015-01-22,2017-03-09,21.0 g,1197.0,0.0,80.95,76.19,0.0\\n\",\n",
       " '\"Phong Kee, Hot Roasted Peanuts\",Phong Kee Roasted Peanut Co.,2017-03-09,2017-03-09,28.4 g,2063.0,31.69,45.77,7.04,17.61\\n',\n",
       " '\"Hig Hagemann, Mixed Wafers\",Book Dynamics,2017-03-09,2017-03-09,28.6 g,2368.0,34.27,59.79,40.91,3.5\\n',\n",
       " 'Sweet Relish,Mt. Olive Pickle Company  Inc.,2017-03-09,2017-03-09,15.0 g,556.0,0.0,26.67,13.33,0.0\\n',\n",
       " 'Dill Relish,Mt. Olive Pickle Company  Inc.,2017-03-09,2017-03-09,15.0 g,0.0,0.0,0.0,,0.0\\n',\n",
       " 'Jalapeno Slices,Mt. Olive,2017-03-09,2017-03-09,28.0 g,75.0,0.0,3.57,,0.0\\n',\n",
       " 'Sliced Jalapeno Peppers,Mt. Olive,2017-03-09,2017-03-09,15.0 g,0.0,0.0,0.0,,0.0\\n',\n",
       " 'Sweet Baby Gherkins,Mt. Olive Pickle Company  Inc.,2017-03-09,2017-03-09,28.0 g,523.0,0.0,28.57,25.0,0.0\\n',\n",
       " 'Hot Dog Relish,Mt. Olive,2017-03-09,2017-03-09,15.0 g,556.0,0.0,26.67,20.0,0.0\\n',\n",
       " 'Squeeze Sweet Relish,Mt. Olive,2017-03-09,2017-03-09,15.0 g,556.0,0.0,33.33,20.0,0.0\\n',\n",
       " 'Squeeze Sweet Relish,Mt. Olive Pickle Company  Inc.,2017-03-09,2017-03-09,15.0 g,0.0,0.0,6.67,,0.0\\n',\n",
       " 'Hot Dog Relish,Mt. Olive,2017-03-09,2017-03-09,15.0 g,556.0,0.0,26.67,20.0,0.0\\n',\n",
       " 'Sweet India Relish,Mt.Olive,2017-03-09,2017-03-09,15.0 g,556.0,0.0,26.67,13.33,0.0\\n',\n",
       " 'Hamburger Dill Chips,Mt. Olive,2017-03-09,2017-03-09,28.0 g,0.0,0.0,3.57,,0.0\\n',\n",
       " 'Sweet Relish,Mt. Olive Pickle Company  Inc.,2017-03-09,2017-03-09,15.0 g,556.0,0.0,26.67,13.33,0.0\\n',\n",
       " 'Sweet Gherkins,Mt. Olive Pickle Company  Inc.,2017-03-09,2017-03-09,28.0 g,523.0,0.0,28.57,25.0,0.0\\n',\n",
       " 'Baby Dills,Mt. Olive,2017-03-10,2017-03-10,28.0 g,75.0,0.0,3.57,,0.0\\n',\n",
       " 'Sandwich Stuffers Kosher Dill,Mt. Olive,2017-03-09,2017-03-09,28.0 g,75.0,,3.57,,0.0\\n',\n",
       " 'Hamburger Dill Chips,Mt. Olive,2017-03-09,2017-03-09,28.0 g,0.0,0.0,3.57,,0.0\\n',\n",
       " 'Sandwich Stuffers,Mt. Olive Pickle Company  Inc.,2017-03-09,2017-03-09,28.0 g,297.0,0.0,21.43,14.29,0.0\\n',\n",
       " 'Dills,Mt. Olive Pickle Company  Inc.,2017-03-09,2017-03-09,28.0 g,0.0,0.0,3.57,,0.0\\n',\n",
       " 'Old-Fashioned Sweet Bread & Butter Chips,Mt. Olive,2017-03-09,2017-03-09,28.0 g,372.0,0.0,21.43,17.86,0.0\\n',\n",
       " 'Kosher Hamburger Dill Chips,Mt. Olive,2017-03-09,2017-03-09,28.0 g,75.0,0.0,3.57,,0.0\\n',\n",
       " 'Kosher Dill Spears,Mt. Olive Pickle Company  Inc.,2017-03-09,2017-03-09,28.0 g,75.0,0.0,3.57,,0.0\\n',\n",
       " 'Old-Fashioned Sweet Bread & Butter Chips,\"Mt. Olive,  Mt. Olive Pickle Company  Inc.\",2017-03-09,2017-03-09,28.0 g,372.0,0.0,21.43,17.86,0.0\\n',\n",
       " 'Kosher Dill Spears,Mt. Olive,2017-03-09,2017-03-09,28.0 g,75.0,0.0,3.57,,0.0\\n',\n",
       " 'Kosher Dills,Mt. Olive,2017-03-09,2017-03-09,28.0 g,75.0,0.0,3.57,,0.0\\n',\n",
       " 'Kosher Baby Dills,Mt. Olive Pickle Company  Inc.,2017-03-09,2017-03-09,28.0 g,75.0,0.0,3.57,,0.0\\n',\n",
       " 'Kosher Dills,Mt. Olive Pickle Company  Inc.,2017-03-09,2017-03-09,28.0 g,75.0,0.0,3.57,,0.0\\n',\n",
       " 'Kosher Dill Spears,Mt. Olive,2017-03-09,2017-03-09,28.0 g,75.0,0.0,3.57,,0.0\\n',\n",
       " 'Pepperoncini,Mt. Olive Pickle Company  Inc.,2017-03-09,2017-03-09,28.0 g,151.0,0.0,3.57,,0.0\\n',\n",
       " \"Sweet 'N' Hot Salad Peppers,Mt. Olive,2017-03-09,2017-03-09,28.0 g,598.0,0.0,32.14,25.0,0.0\\n\",\n",
       " 'Sliced Pepperoncini,Mt. Olive Pickle Company  Inc.,2017-03-09,2017-03-09,28.0 g,151.0,0.0,3.57,,0.0\\n',\n",
       " 'Hot Banana Pepper Rings,Mt. Olive,2017-03-09,2017-03-09,28.0 g,151.0,0.0,7.14,,0.0\\n',\n",
       " 'Mild Banana Pepper Rings,Mt. Olive,2017-03-09,2017-03-09,28.0 g,151.0,0.0,7.14,,0.0\\n',\n",
       " 'Sweet Relish,Mt. Olive,2017-03-09,2017-03-09,15.0 g,0.0,0.0,6.67,,0.0\\n',\n",
       " 'Sweet Gherkins,Mt. Olive,2017-03-09,2017-03-09,28.0 g,0.0,0.0,3.57,,0.0\\n',\n",
       " 'Bread & Butter Chips,Mt. Olive Pickle Company  Inc.,2017-03-09,2017-03-09,28.0 g,0.0,0.0,3.57,,0.0\\n',\n",
       " 'Sandwich Snuffers Bread & Butter,Mt. Olive Pickle Company  Inc.,2017-03-09,2017-03-09,28.0 g,0.0,0.0,3.57,,0.0\\n',\n",
       " 'Bread & Butter Spears,Mt. Olive,2017-03-09,2017-03-09,28.0 g,0.0,0.0,3.57,,0.0\\n',\n",
       " 'Hamburger Dill Chips,Mt. Olive Pickle Company  Inc.,2017-03-09,2017-03-09,28.0 g,75.0,0.0,3.57,,0.0\\n',\n",
       " 'Little Sister Thin Dill Chips,\"Mt. Olive,  Mount Olive Pickle Company Inc.\",2017-03-09,2017-03-09,28.0 g,0.0,0.0,3.57,,0.0\\n',\n",
       " 'Kosher Hamburger Dill Chips,\"Mt. Olive,  Mount Olive Pickle Company Inc.\",2017-03-09,2017-03-09,28.0 g,75.0,0.0,3.57,,0.0\\n',\n",
       " 'Fresh Pack Kosher Dills,Mt. Olive,2017-03-09,2017-03-09,28.0 g,75.0,0.0,3.57,,0.0\\n',\n",
       " 'Hamburger Dill Chips Pickles,\"Mt. Olive,  Mount Olive Pickle Company Inc.\",2017-03-09,2017-03-09,28.0 g,0.0,0.0,3.57,,0.0\\n',\n",
       " 'Dills,Mt. Olive,2017-03-09,2017-03-09,28.0 g,0.0,0.0,3.57,,0.0\\n',\n",
       " 'Kosher Dill,Mt. Olive,2017-03-09,2017-03-09,28.0 g,75.0,0.0,3.57,,0.0\\n',\n",
       " '\"Sandwich Stuffers, Old-Fashioned Sweet Bread & Butter\",Mt. Olive,2017-03-09,2017-03-09,28.0 g,297.0,0.0,21.43,14.29,0.0\\n',\n",
       " 'Sandwich Stuffers Kosher Dill,Mt. Olive,2017-03-09,2017-03-09,28.0 g,75.0,0.0,3.57,,0.0\\n',\n",
       " 'Kosher Petite Dills,Mt. Olive,2017-03-09,2017-03-09,28.0 g,75.0,0.0,3.57,,0.0\\n',\n",
       " 'Bread Butter Chips,Majestic,2017-03-09,2017-03-09,28.0 g,372.0,0.0,21.43,17.86,0.0\\n',\n",
       " 'Sweet Relish,Majestic,2017-03-09,2017-03-09,15.0 g,556.0,0.0,26.67,13.33,0.0\\n',\n",
       " 'Sweet Gherkins,Majestic,2017-03-09,2017-03-09,28.0 g,523.0,0.0,28.57,25.0,0.0\\n',\n",
       " 'Kosher Drill Spears,Majestic,2017-03-09,2017-03-09,28.0 g,75.0,0.0,3.57,0.0,0.0\\n',\n",
       " '\"Bread & Butter Chips, Chipotle\",Mt. Olive,2017-03-09,2017-03-09,28.0 g,372.0,0.0,21.43,17.86,0.0\\n',\n",
       " '\"Chipotle Sweet Relish, Sweet Smoky\",Mt. Olive,2017-03-09,2017-03-09,15.0 g,556.0,0.0,26.67,13.33,0.0\\n',\n",
       " 'Polish Dill Spears Made With Sea Salt,Mt. Olive,2017-03-09,2017-03-09,28.0 g,75.0,0.0,3.57,,0.0\\n',\n",
       " '\"Petite Snack Crunchers, Sweet Petite\",Mt. Olive,2017-03-09,2017-03-09,28.0 g,598.0,0.0,35.71,28.57,0.0\\n',\n",
       " '\"Bread & Butter Chips Pickles, Hint Of Salt\",\"Mt. Olive,  Mount Olive Pickle Company Inc.\",2017-03-09,2017-03-09,28.0 g,372.0,0.0,21.43,21.43,0.0\\n',\n",
       " '\"Sweet Relish, Reduced Sodium\",Mt. Olive,2017-03-09,2017-03-09,15.0 g,556.0,0.0,26.67,13.33,0.0\\n',\n",
       " 'Kosher Dill Spears Pickles,\"Mt. Olive,  Mount Olive Pickle Company Inc.\",2017-03-09,2017-03-09,28.0 g,75.0,0.0,3.57,,0.0\\n',\n",
       " 'Kosher Baby Dills,Mt. Olive Pickle Company  Inc.,2017-03-09,2017-03-09,28.0 g,75.0,0.0,3.57,,0.0\\n',\n",
       " '\"Petite Snack Crunchers, Buffalo Kosher Dills, Hot Sauce Flavored\",Mt. Olive,2017-03-09,2017-03-09,28.0 g,75.0,0.0,3.57,,0.0\\n',\n",
       " '\"Kosher Baby Dills, Buffalo, Hot Sauced Flavored\",Mt. Olive,2017-03-09,2017-03-09,28.0 g,75.0,0.0,3.57,,0.0\\n',\n",
       " 'Kosher Baby Dills,Mt. Olive,2017-03-09,2017-03-09,28.0 g,75.0,0.0,3.57,,0.0\\n',\n",
       " 'Kosher Petite Dills,Mt. Olive,2017-03-09,2017-03-09,28.0 g,75.0,0.0,3.57,,0.0\\n',\n",
       " 'Kosher Baby Dills Made With Sea Salt,Mt. Olive,2017-03-09,2017-03-09,28.0 g,75.0,0.0,3.57,,0.0\\n',\n",
       " 'Kosher Petite Dills Made With Sea Salt,Mt. Olive,2017-03-09,2017-03-09,28.0 g,75.0,0.0,3.57,,0.0\\n',\n",
       " 'Delicatessen Style Mild Banana Pepper Rings,Mt. Olive Pickle Company  Inc.,2017-03-09,2017-03-09,28.0 g,151.0,0.0,7.14,,0.0\\n',\n",
       " 'Diced Jalapeno Peppers,Mt. Olive,2017-03-09,2017-03-09,15.0 g,0.0,0.0,0.0,,0.0\\n',\n",
       " 'Delicatessen Style Jalapeno Slices,Mt. Olive Pickle Company  Inc.,2017-03-09,2017-03-09,28.0 g,75.0,0.0,3.57,,0.0\\n',\n",
       " 'Delicatessen Style Pepperoncini,\"Mt. Olive,  Mount Olive Pickle Company Inc.\",2017-03-09,2017-03-09,28.0 g,151.0,0.0,3.57,,0.0\\n',\n",
       " 'Roasted Red Peppers,Mt. Olive,2017-03-09,2017-03-09,28.0 g,75.0,0.0,7.14,3.57,0.0\\n',\n",
       " 'Marinated Roasted Peppers Olive Oil & Garlic,Mt. Olive,2017-03-09,2017-03-09,28.0 g,151.0,0.0,10.71,7.14,0.0\\n',\n",
       " 'Bread & Butter Chips,Mt. Olive,2017-03-09,2017-03-09,28.0 g,372.0,0.0,21.43,21.43,0.0\\n',\n",
       " 'Sweet Gherkins Pickles,Mt. Olive,2017-03-09,2017-03-09,28.0 g,598.0,0.0,32.14,32.14,0.0\\n',\n",
       " 'Kosher Petite Dills Simply Pickles,\"Mt. Olive,  Mount Olive Pickle Company Inc.\",2017-03-09,2017-03-09,28.0 g,75.0,0.0,3.57,,0.0\\n',\n",
       " '\"Simply Pickles, Kosher Dill Sandwich Stuffers\",Mt. Olive,2017-03-09,2017-03-09,28.0 g,75.0,0.0,3.57,,0.0\\n',\n",
       " '\"Simply Pickles, Bread & Butter Sandwich Stuffers\",Mt. Olive,2017-03-09,2017-03-09,28.0 g,297.0,0.0,17.86,17.86,0.0\\n',\n",
       " '\"Simply Pickles, Bread & Butter Chips\",Mt. Olive,2017-03-09,2017-03-09,28.0 g,372.0,0.0,21.43,21.43,0.0\\n',\n",
       " '\"Simply Pickles, Hamburger Dill Chips\",Mt. Olive,2017-03-09,2017-03-09,28.0 g,75.0,0.0,3.57,,0.0\\n',\n",
       " 'Sweet Relish Made With Sea Salt,Mt. Olive,2017-03-09,2017-03-09,15.0 g,556.0,0.0,26.67,13.33,0.0\\n',\n",
       " 'Dill Relish,Mt. Olive,2017-03-09,2017-03-09,15.0 g,0.0,0.0,0.0,,0.0\\n',\n",
       " 'Deli Style Dill Relish Made With Sea Salt,Mt. Olive,2017-03-09,2017-03-09,15.0 g,0.0,0.0,0.0,,0.0\\n',\n",
       " 'Deli Style Sweet Relish Made With Sea Salt,Mt. Olive,2017-03-09,2017-03-09,15.0 g,418.0,0.0,20.0,20.0,0.0\\n',\n",
       " 'Kosher Dill Spears Made With Sea Salt,Mt. Olive,2017-03-09,2017-03-09,28.0 g,75.0,0.0,3.57,,0.0\\n',\n",
       " '\"Sandwich Stuffers, Kosher Dill Made With Sea Salt\",Mt. Olive,2017-03-09,2017-03-09,28.0 g,75.0,0.0,3.57,,0.0\\n',\n",
       " 'Old-Fashioned Sweet Bread & Butter Chips Made With Sea Salt,Mt. Olive,2017-03-09,2017-03-09,28.0 g,372.0,0.0,21.43,17.86,0.0\\n',\n",
       " 'Kosher Baby Dills Made With Sea Salt,Mt. Olive,2017-03-09,2017-03-09,28.0 g,75.0,0.0,3.57,,0.0\\n',\n",
       " '\"Mini Stuffers, Hamburger Dill Chips Made With Sea Salt\",Mt. Olive,2017-03-09,2017-03-09,28.0 g,75.0,0.0,3.57,,0.0\\n',\n",
       " '\"Sandwich Stuffers, Old-Fashioned Sweet Bread & Butter Made With Sea Salt\",Mt. Olive,2017-03-09,2017-03-09,28.0 g,297.0,0.0,21.43,14.29,0.0\\n',\n",
       " 'Kosher Dills Made With Sea Salt,Mt. Olive,2017-03-09,2017-03-09,28.0 g,75.0,0.0,3.57,,0.0\\n',\n",
       " '\"Simply Pickles, Kosher Baby Dills\",Mt. Olive,2017-03-09,2017-03-09,28.0 g,75.0,0.0,3.57,,0.0\\n',\n",
       " '\"Simply Pickles, Kosher Dill Spears\",Mt. Olive,2017-03-09,2017-03-09,28.0 g,75.0,0.0,3.57,,0.0\\n',\n",
       " 'Kosher Dills,Mt. Olive,2017-03-09,2017-03-09,28.0 g,75.0,0.0,3.57,,0.0\\n',\n",
       " 'Sweet Relish,\"Mt. Olive,  Mount Olive Pickle Company Inc.\",2017-03-09,2017-03-09,15.0 g,556.0,0.0,26.67,13.33,0.0\\n',\n",
       " '\"Flavored Bread & Butter Chips, Jalapeno\",Mt. Olive,2017-03-09,2017-03-09,28.0 g,372.0,0.0,21.43,17.86,0.0\\n',\n",
       " 'Reduced Sodium Sweet Relish,Mt. Olive,2017-03-09,2017-03-09,15.0 g,556.0,0.0,26.67,13.33,0.0\\n',\n",
       " 'Sweet Relish,Clover Valley,2017-03-09,2017-03-09,15.0 g,418.0,0.0,26.67,13.33,0.0\\n',\n",
       " '\"Pickle Pak, Kosher Dill Petites\",Mt. Olive,2017-03-09,2017-03-09,51.0 g,0.0,0.0,1.96,,0.0\\n',\n",
       " '\"Pickle Pak, Sweet Petites\",Mt. Olive,2017-03-09,2017-03-09,58.0 g,536.0,0.0,29.31,25.86,0.0\\n',\n",
       " 'Kosher Dills,Mt. Olive Pickle Company  Inc.,2017-03-09,2017-03-09,28.0 g,75.0,0.0,3.57,,0.0\\n',\n",
       " 'Zesty Garlic Kosher Dills,Mt. Olive,2017-03-09,2017-03-09,28.0 g,75.0,0.0,3.57,,0.0\\n',\n",
       " '\"Kosher Spears, Zesty Garlic\",Mt. Olive,2017-03-09,2017-03-09,28.0 g,75.0,0.0,3.57,,0.0\\n',\n",
       " \"Masala Simmer Sauce,Trader Joe's,2017-03-09,2017-03-09,125.0 g,301.0,4.0,8.8,7.2,1.6\\n\",\n",
       " 'Burnt Sugar Browning,Blue Mountain Country,2017-03-09,2017-03-09,20.0 g,941.0,0.0,50.0,50.0,0.0\\n',\n",
       " 'Hot Jamaican Jerk Curry Seasoning,Blue Mountain Country,2017-03-09,2017-03-09,170.0 g,0.0,0.0,0.0,,0.0\\n',\n",
       " 'Butter Beans,Blue Mountain Country,2017-03-09,2017-03-09,130.0 g,481.0,0.77,20.0,0.77,6.92\\n',\n",
       " '\"Blue Mountain Country, Garlic Escallion Allspice Seasoning\",Eve Sales Company,2017-03-09,2017-03-09,1.0 g,0.0,0.0,100.0,,0.0\\n',\n",
       " 'Oxtail Seasoning,Blue Mountain Country,2017-03-09,2017-03-09,1.0 g,0.0,0.0,100.0,,0.0\\n',\n",
       " '\"Blue Mountain Country, Chicken Seasoning\",Eve Sales Company,2017-03-09,2017-03-09,1.0 g,0.0,0.0,100.0,,0.0\\n',\n",
       " 'Jamaican Jerk Seasoning,Eve Sales Company,2017-03-09,2017-03-09,17.0 g,494.0,0.0,23.53,17.65,0.0\\n',\n",
       " 'Jamaican Jerk Seasoning,Blue Mountain,2017-03-09,2017-03-09,5.0 g,1674.0,0.0,80.0,60.0,0.0\\n',\n",
       " 'Country Brand Souse,Zeigler,2017-03-10,2017-03-10,56.0 g,820.0,16.07,1.79,0.0,10.71\\n',\n",
       " 'Red Hots Imitation Sausage-Artificially Colored,R. L. Zeigler Company Inc.,2017-03-10,2017-03-10,76.0 g,1209.0,23.68,5.26,1.32,14.47\\n',\n",
       " '\"Pappy\\'s Choice, Prime Rib Rub\",Pappy\\'s Fine Foods,2017-03-09,2017-03-09,1.2 g,0.0,0.0,0.0,,0.0\\n',\n",
       " \"Pepper,Pappy's Fine Foods,2017-03-09,2017-03-09,1.2 g,0.0,0.0,0.0,,0.0\\n\",\n",
       " \"Asian Stir Fry Sauce And Marinade,Pappy's,2017-03-09,2017-03-09,34.0 g,494.0,2.35,23.53,20.59,0.0\\n\",\n",
       " '\"Pappy\\'s Choice, Garlic Herb\",Pappy\\'s Fine Foods,2017-03-09,2017-03-09,1.2 g,0.0,0.0,0.0,,0.0\\n',\n",
       " '\"Pappy\\'s, Lemon Pepper, Lemon\",Pappy\\'s Fine Foods,2017-03-09,2017-03-09,1.2 g,0.0,0.0,0.0,,0.0\\n',\n",
       " 'Excellence Dark Chocolate With Sea Salt,Lindt & Sprungli Inc.,2017-03-10,2017-03-10,40.0 g,2301.0,32.5,60.0,47.5,5.0\\n',\n",
       " 'Dark Assortment Chocolate,Lindt & Sprungli (Usa) Inc.,2017-03-10,2017-03-10,40.0 g,2406.0,37.5,55.0,42.5,7.5\\n',\n",
       " '\"Hello My Name Is Cookies & Cream, Milk Chocolate With Cookies And Cream Filling\",\"Lindt,  Lindt & Sprungli Gmbh\",2017-03-09,2017-03-09,40.0 g,2301.0,37.5,55.0,50.0,5.0\\n',\n",
       " '\"Milk Chocolate With Strawberry Cream Cheese Filling, Strawberry\",\"Lindt,  Lindt & Sprungli Gmbh\",2017-03-09,2017-03-09,40.0 g,2197.0,35.0,52.5,50.0,5.0\\n',\n",
       " 'Minis Chocolate,Lindt,2017-03-09,2017-03-09,40.0 g,2301.0,37.5,52.5,47.5,5.0\\n',\n",
       " 'Dark Chocolate Truffles,Lindt,2017-03-10,2017-03-10,36.0 g,2674.0,52.78,41.67,36.11,5.56\\n',\n",
       " 'Lindor Assorted Chocolate Truffles,Lindt & Sprungli (Usa) Inc.,2017-03-10,2017-03-10,36.0 g,2674.0,52.78,41.67,38.89,5.56\\n',\n",
       " '\"Lindor, Assorted Chocolate Truffles\",\"Lindt,  Lindt & Sprungli (Schweiz) Ag\",2017-03-09,2017-03-09,36.0 g,2674.0,52.78,41.67,38.89,5.56\\n',\n",
       " 'Assorted Chocolate Truffles,Lindt Lindor,2017-03-10,2017-03-10,36.0 g,2674.0,50.0,41.67,38.89,5.56\\n',\n",
       " 'Classic Assorted Chocolates,Lindt & Sprungli (Usa) Inc.,2017-03-10,2017-03-10,41.0 g,2347.0,39.02,51.22,43.9,4.88\\n',\n",
       " '\"Milk Chocolate Truffles, Caramel\",\"Lindt,  Lindt & Sprungli (Schweiz) Ag\",2017-03-09,2017-03-09,36.0 g,2556.0,50.0,44.44,38.89,5.56\\n',\n",
       " 'Irresistibly Smooth Caramel Milk Chocolate Truffles,Lindt,2017-03-10,2017-03-10,36.0 g,2556.0,50.0,44.44,38.89,5.56\\n',\n",
       " 'Hens Milk Chocolate,Lindt,2017-03-10,2017-03-10,35.0 g,2272.0,34.29,57.14,54.29,5.71\\n',\n",
       " 'Assorted Milk Chocolates,Lindt,2017-03-10,2017-03-10,37.0 g,2377.0,40.54,51.35,45.95,5.41\\n',\n",
       " 'Gold Bunny Milk Chocolate,Lindt & Sprungli Gmbh,2017-03-10,2017-03-10,40.0 g,2301.0,32.5,57.5,55.0,7.5\\n',\n",
       " 'Chocolate Minis,Lindt,2017-03-10,2017-03-10,40.0 g,2301.0,37.5,52.5,47.5,5.0\\n',\n",
       " 'Cheesecake,Lindt & Sprungli Gmbh,2017-03-10,2017-03-10,40.0 g,2301.0,37.5,50.0,47.5,5.0\\n',\n",
       " 'Assorted Chocolate Mini Sticks,Lindt & Sprungli Gmbh,2017-03-10,2017-03-10,40.0 g,2301.0,37.5,52.5,47.5,5.0\\n',\n",
       " 'Candy,Lindt & Sprungli,2017-03-10,2017-03-10,41.0 g,2347.0,36.59,53.66,51.22,7.32\\n',\n",
       " 'Lindor Coconut Milk Chocolate Truffles,\"Lindt,  Lindt & Sprungli (Usa) Inc.\",2017-03-09,2017-03-09,36.0 g,2674.0,50.0,41.67,38.89,5.56\\n',\n",
       " 'Milk Chocolate Truffles,Lindt,2017-03-10,2017-03-10,36.0 g,2556.0,50.0,44.44,38.89,5.56\\n',\n",
       " '\"Lindor, Milk Chocolate, Caramel With Sea Salt\",\"Lindt,  Lindt & Sprungli (Usa) Inc.\",2017-03-09,2017-03-09,42.0 g,2293.0,30.95,57.14,52.38,7.14\\n',\n",
       " 'Milk Chocolate Caramels,Lindt & Sprungli Inc.,2017-03-10,2017-03-10,38.0 g,2092.0,34.21,50.0,42.11,5.26\\n',\n",
       " 'Selections Extra Dark Chocolate Truffles,\"Signature,  Lindt\",2017-03-10,2017-03-10,33.0 g,2536.0,48.48,42.42,33.33,6.06\\n',\n",
       " 'Milk Chocolate Hazelnut Truffles,Lindt,2017-03-10,2017-03-10,31.0 g,2565.0,45.16,45.16,41.94,6.45\\n',\n",
       " 'Selections Milk Chocolate Pecan Caramel,\"Signature,  Lindt & Sprungli (Usa) Inc\",2017-03-10,2017-03-10,38.0 g,2092.0,34.21,50.0,42.11,5.26\\n',\n",
       " '\"Excellence Dark Chocolate, Lemon\",\"Lindt,  Lindt & Sprungli (Usa) Inc.\",2017-03-09,2017-03-09,40.0 g,2197.0,30.0,57.5,47.5,5.0\\n',\n",
       " 'Lindor White Chocolate Truffles,Lindt Lindor,2017-03-10,2017-03-10,36.0 g,2556.0,50.0,44.44,41.67,5.56\\n',\n",
       " 'Lindor Dark Chocolate Truffles,Lindt & Sprungli (Usa) Inc.,2017-03-10,2017-03-10,36.0 g,2674.0,52.78,41.67,36.11,5.56\\n',\n",
       " 'Lindor Dark Chocolate Truffles,Lindt & Sprungli (Usa) Inc.,2017-03-10,2017-03-10,36.0 g,2674.0,52.78,41.67,36.11,5.56\\n',\n",
       " 'Milk Chocolate With A Salted Caramel Filling,Lindt & Sprungli Gmbh,2017-03-10,2017-03-10,39.0 g,2038.0,28.21,61.54,56.41,5.13\\n',\n",
       " 'Dark Chocolate Cookie,Lindt & Sprungli Gmbh,2017-03-10,2017-03-10,39.0 g,2146.0,28.21,66.67,58.97,2.56\\n',\n",
       " 'Milk Chocolate With Salted Caramel-Filling,Lindt & Sprungli Gmbh,2017-03-09,2017-03-09,40.0 g,2092.0,27.5,62.5,57.5,5.0\\n',\n",
       " 'Dark Chocolate With A Creamy Chocolate Filling And Dark Cookie Piecescookie,Lindt & Sprungli Gmbh,2017-03-10,2017-03-10,40.0 g,2197.0,27.5,65.0,60.0,2.5\\n',\n",
       " 'Hello My Name Is Milk Chocolate Stick,Lindt,2017-03-10,2017-03-10,39.0 g,2251.0,35.9,56.41,48.72,5.13\\n',\n",
       " 'Extra Dark Chocolate,Lindt & Sprungli (Usa) Inc.,2017-03-10,2017-03-10,40.0 g,2406.0,45.0,37.5,12.5,12.5\\n',\n",
       " 'Dark Chocolate Bars,Lindt & Sprungli Inc.,2017-03-10,2017-03-10,40.0 g,1987.0,32.5,57.5,42.5,7.5\\n',\n",
       " '\"Lindor, Assorted Chocolate Truffles\",\"Lindt,  Lindt & Sprungli (Schweiz) Ag\",2017-03-09,2017-03-09,36.0 g,2674.0,50.0,41.67,38.89,5.56\\n',\n",
       " '\"Lindor, Assorted Chocolate Truffles\",\"Lindt,  Lindt & Sprungli (Schweiz) Ag\",2017-03-09,2017-03-09,36.0 g,2674.0,52.78,41.67,38.89,5.56\\n',\n",
       " '\"Lindor, Irresistibly Smooth White Chocolate Truffles, Peppermint\",\"Lindt,  Lindt & Sprungli (Schweiz) Ag\",2017-03-09,2017-03-09,36.0 g,2674.0,52.78,38.89,38.89,5.56\\n',\n",
       " '\"Lindor, Peppermint White Chocolate Truffles\",\"Lindt,  Lindt & Sprungli (Schweiz) Ag\",2017-03-09,2017-03-09,36.0 g,2674.0,52.78,38.89,38.89,5.56\\n',\n",
       " 'Peppermint White Chocolate Truffles,\"Lindt,  Lindt & Sprungli (Schweiz) Ag\",2017-03-09,2017-03-09,36.0 g,2674.0,52.78,38.89,38.89,5.56\\n',\n",
       " 'Lindor Chocolate Truffles,Lindt & Sprungli (Schweiz) Ag,2017-03-09,2017-03-09,36.0 g,2674.0,52.78,38.89,38.89,5.56\\n',\n",
       " '\"Lindor White Chocolate Truffels, Peppermint\",\"Lindt,  Lindt & Sprungli (Schweiz) Ag\",2017-03-09,2017-03-09,36.0 g,2674.0,52.78,38.89,38.89,5.56\\n',\n",
       " 'Assorted Chocolate Mini Sticks,\"Lindt,  Lindt & Sprungli (Schweiz) Ag\",2017-03-09,2017-03-09,40.0 g,2301.0,37.5,52.5,47.5,5.0\\n',\n",
       " '\"Caramel Brownie, Milk Chocolate With Hazelnut And Caramel Brownie Filling\",\"Lindt,  Lindt & Sprungli (Schweiz) Ag\",2017-03-09,2017-03-09,40.0 g,2301.0,35.0,55.0,47.5,5.0\\n',\n",
       " 'Milk Chocolate Truffles,\"Lindt,  Lindt & Sprungli (Schweiz) Ag\",2017-03-09,2017-03-09,36.0 g,2556.0,47.22,44.44,38.89,5.56\\n',\n",
       " 'Milk Chocolate With Strawberry Cream Cheese Filling,Lindt & Sprungli Gmbh,2017-03-09,2017-03-09,40.0 g,2301.0,37.5,50.0,47.5,5.0\\n',\n",
       " 'Milk Chocolate With Hazelnut And Caramel Brownie,Lindt,2017-03-09,2017-03-09,40.0 g,2301.0,35.0,55.0,47.5,5.0\\n',\n",
       " 'Assorted Chocolate Mini Sticks,Lindt & Sprungli Gmbh,2017-03-09,2017-03-09,40.0 g,2301.0,37.5,52.5,47.5,5.0\\n',\n",
       " 'Classic Assorted Dark Chocolate,\"Lindt,  Lindt & Sprungli (Schweiz) Ag\",2017-03-09,2017-03-09,39.0 g,2360.0,41.03,51.28,41.03,5.13\\n',\n",
       " 'Classic Assorted Nuts & Caramel,Lindt & Sprungli (Schweiz) Ag,2017-03-09,2017-03-09,41.0 g,2347.0,39.02,51.22,43.9,7.32\\n',\n",
       " 'Lindor Caramel Milk Chocolate Pieces,\"Lindt,  Lindt & Sprungli (Schweiz) Ag\",2017-03-10,2017-03-10,39.0 g,2573.0,46.15,46.15,43.59,5.13\\n',\n",
       " 'Assorted Chocolate Minis Sticks,Lindt & Sprungli (Schweiz) Ag,2017-03-09,2017-03-09,40.0 g,2301.0,37.5,52.5,47.5,5.0\\n',\n",
       " 'Icicle Assorted Milk Chocolates,\"Lindt,  Lindt & Sprungli (Schweiz) Ag\",2017-03-09,2017-03-09,43.0 g,2431.0,39.53,51.16,46.51,6.98\\n',\n",
       " 'Truffles,Lindt & Sprungli (Schweiz) Ag,2017-03-09,2017-03-09,36.0 g,2674.0,52.78,41.67,30.56,5.56\\n',\n",
       " 'Lindor Milk Chocolate Truffles,\"Lindt,  Lindt & Sprungli (Schweiz) Ag\",2017-03-09,2017-03-09,36.0 g,2556.0,47.22,44.44,38.89,5.56\\n',\n",
       " 'Peppermint White Chocolate Truffles,Lindt & Sprungli (Schweiz) Ag,2017-03-09,2017-03-09,36.0 g,2674.0,52.78,38.89,38.89,5.56\\n',\n",
       " '\"Lindor, Assorted Chocolate Truffles, Peppermint\",\"Lindt,  Lindt & Sprungli (Schweiz) Ag\",2017-03-09,2017-03-09,36.0 g,2674.0,52.78,38.89,36.11,5.56\\n',\n",
       " 'Master Swiss Chocolatier,\"Lindt,  Lindt & Sprungli (Schweiz) Ag\",2017-03-09,2017-03-09,42.0 g,2389.0,40.48,50.0,42.86,4.76\\n',\n",
       " 'Signature Selections Extra Dark Chocolate Truffles,\"Lindt,  Lindt & Sprungli (Schweiz) Ag\",2017-03-09,2017-03-09,33.0 g,2536.0,48.48,42.42,33.33,6.06\\n',\n",
       " '\"Signature Selections, Milk Chocolate Caramel\",\"Lindt,  Lindt & Sprungli (Schweiz) Ag\",2017-03-09,2017-03-09,42.0 g,1891.0,19.05,66.67,52.38,4.76\\n',\n",
       " 'Milk Chocolate Hearts,\"Lindt,  Lindt & Sprungli (Schweiz) Ag\",2017-03-09,2017-03-09,36.0 g,2439.0,41.67,50.0,47.22,5.56\\n',\n",
       " 'Gourmet Truffles,\"Lindt,  Lindt & Sprungli (Schweiz) Ag\",2017-03-09,2017-03-09,32.0 g,2615.0,46.88,43.75,37.5,6.25\\n',\n",
       " 'Milk & Dark Chocolate,\"Lindt,  Lindt & Sprungli (Schweiz) Ag\",2017-03-09,2017-03-09,41.0 g,2347.0,39.02,51.22,43.9,4.88\\n',\n",
       " 'Frog Prince Milk Chocolate,\"Lindt,  Lindt & Sprungli (Schweiz) Ag\",2017-03-09,2017-03-09,40.0 g,2406.0,37.5,55.0,50.0,7.5\\n',\n",
       " 'Lindor Truffles,Lindt & Sprungli (Schweiz) Ag,2017-03-09,2017-03-09,42.0 g,2489.0,42.86,45.24,45.24,4.76\\n',\n",
       " '\"Lindor, Assorted Chocolate Truffle Eggs\",\"Lindt,  Lindt & Sprungli (Schweiz) Ag\",2017-03-09,2017-03-09,38.0 g,2531.0,44.74,47.37,44.74,5.26\\n',\n",
       " '\"Lindor, Mini Eggs Truffle, Milk Chocolate\",\"Lindt,  Lindt & Sprungli (Schweiz) Ag\",2017-03-09,2017-03-09,41.0 g,2552.0,46.34,48.78,43.9,4.88\\n',\n",
       " 'Solid Milk Chocolate Eggs,\"Lindt,  Lindt & Sprungli Gmbh\",2017-03-09,2017-03-09,39.0 g,2251.0,33.33,58.97,53.85,7.69\\n',\n",
       " 'Gourmet Truffles,\"Lindt,  Lindt & Sprungli (Schweiz) Ag\",2017-03-09,2017-03-09,32.0 g,2615.0,46.88,43.75,37.5,6.25\\n',\n",
       " 'Assorted Chocolates,\"Lindt,  Lindt & Sprungli (Schweiz) Ag\",2017-03-09,2017-03-09,41.0 g,2448.0,41.46,48.78,43.9,7.32\\n',\n",
       " '\"Lindor, Assorted Chocolate Truffles\",\"Lindt,  Lindt & Sprungli (Schweiz) Ag\",2017-03-09,2017-03-09,36.0 g,2674.0,52.78,41.67,38.89,5.56\\n',\n",
       " 'Milk Chocolate,Lindt & Sprungli (Schweiz) Ag,2017-03-09,2017-03-09,40.0 g,2301.0,32.5,57.5,55.0,7.5\\n',\n",
       " 'Chocolate Minis,\"Lindt,  Lindt & Sprungli (Schweiz) Ag\",2017-03-09,2017-03-09,40.0 g,2301.0,37.5,52.5,47.5,5.0\\n',\n",
       " 'Chocolate Minis,\"Lindt,  Lindt & Sprungli (Schweiz) Ag\",2017-03-09,2017-03-09,40.0 g,2301.0,37.5,52.5,47.5,5.0\\n',\n",
       " '\"Lindor, Assorted Chocolate Truffles, Assorted\",\"Lindt,  Lindt & Sprungli (Schweiz) Ag\",2017-03-09,2017-03-09,36.0 g,2674.0,50.0,41.67,36.11,5.56\\n',\n",
       " '\"Lindor, Milk Chocolate Truffles\",Lindt,2017-03-09,2017-03-09,36.0 g,2556.0,47.22,44.44,38.89,5.56\\n',\n",
       " 'Assorted Chocolates,\"Lindt,  Lindt & Sprungli (Schweiz) Ag\",2017-03-09,2017-03-09,41.0 g,2448.0,41.46,48.78,43.9,7.32\\n',\n",
       " 'Strawberry And Cream White Chocolate Truffles,\"Lindt,  Lindt & Sprungli (Schweiz) Ag\",2017-03-09,2017-03-09,38.0 g,2531.0,47.37,44.74,44.74,5.26\\n',\n",
       " 'Excellence Pineapple - With Pieces Of Pineapple And Carmelized Hazelnuts,Lindt & Sprungli (Schweiz) Ag,2017-03-09,2017-03-09,40.0 g,2197.0,30.0,62.5,50.0,5.0\\n',\n",
       " '\"Dark Chocolate With Blackberry Pieces And Acai, Blackberry With Acai\",\"Lindt,  Lindt & Sprungli Gmbh\",2017-03-09,2017-03-09,40.0 g,2197.0,30.0,60.0,47.5,5.0\\n',\n",
       " 'Classic Recipe Salted Pretzel,\"Lindt,  Lindt & Sprungli (Usa) Inc.\",2017-03-09,2017-03-09,40.0 g,2197.0,30.0,57.5,47.5,7.5\\n',\n",
       " 'Milk Chocolate Covered Pretzel Rounds,Lindt & Sprungli (Usa) Inc.,2017-03-09,2017-03-09,40.0 g,2197.0,30.0,62.5,35.0,5.0\\n',\n",
       " 'Milk Chocolate Toffee Bites,\"Lindt,  Lindt & Sprungli (Schweiz) Ag\",2017-03-09,2017-03-09,40.0 g,2301.0,32.5,57.5,52.5,5.0\\n',\n",
       " 'Dark Chocolate Covered Mint Cubes,\"Lindt,  Lindt & Sprungli (Schweiz) Ag\",2017-03-09,2017-03-09,40.0 g,2197.0,30.0,57.5,47.5,5.0\\n',\n",
       " '\"Lindor, Dark Chocolate Truffles, Caramel Sea Salt\",\"Lindt,  Lindt & Sprungli (Schweiz) Ag\",2017-03-09,2017-03-09,36.0 g,2791.0,52.78,41.67,36.11,5.56\\n',\n",
       " 'Milk Chocolate Truffles,Lindt,2017-03-10,2017-03-10,24.0 g,2615.0,50.0,45.83,41.67,4.17\\n',\n",
       " '\"Lindor, White Chocolate Truffles\",\"Lindt,  Lindt & Sprungli (Schweiz) Ag\",2017-03-09,2017-03-09,24.0 g,2615.0,54.17,37.5,37.5,4.17\\n',\n",
       " 'Dark Chocolate Truffles,Lindt & Sprungli (Usa) Inc,2017-03-09,2017-03-09,24.0 g,2615.0,54.17,41.67,33.33,4.17\\n',\n",
       " 'Milk Chocolate Truffles,Lindt & Sprungli (Schweiz) Ag,2017-03-09,2017-03-09,24.0 g,2615.0,50.0,41.67,41.67,4.17\\n',\n",
       " 'Milk Chocolate Truffles,\"Lindt,  Lindt & Sprungli (Schweiz) Ag\",2017-03-09,2017-03-09,24.0 g,2615.0,50.0,45.83,41.67,4.17\\n',\n",
       " '\"Lindor, Lindor Milk Chocolate Truffles\",\"Lindt,  Lindt & Sprungli (Usa) Inc.\",2017-03-09,2017-03-09,24.0 g,2615.0,50.0,41.67,37.5,4.17\\n',\n",
       " '\"Lindor, Lindor White Chocolate Truffles, Peppermint\",\"Lindt,  Lindt & Sprungli (Usa) Inc.\",2017-03-09,2017-03-09,36.0 g,2674.0,52.78,38.89,38.89,5.56\\n',\n",
       " '\"Lindor, Dark Chocolate Truffles, Orange\",\"Lindt,  Lindt & Sprungli (Usa) Inc.\",2017-03-09,2017-03-09,36.0 g,2674.0,52.78,41.67,36.11,5.56\\n',\n",
       " '\"Lindor, Milk Chocolate Truffles, Caramel\",\"Lindt,  Lindt & Sprungli (Usa) Inc.\",2017-03-09,2017-03-09,36.0 g,2556.0,50.0,44.44,38.89,5.56\\n',\n",
       " '\"Lindor, Dark Chocolate Truffles\",\"Lindt,  Lindt & Sprungli (Schweiz) Ag\",2017-03-09,2017-03-09,36.0 g,2674.0,52.78,41.67,36.11,5.56\\n',\n",
       " 'Lindor Caramel,\"Lindt,  Lindt & Sprungli (Schweiz) Ag\",2017-03-09,2017-03-09,36.0 g,2556.0,50.0,44.44,38.89,5.56\\n',\n",
       " 'Assorted Chocolate Truffles,Lindt & Sprungli (Schweiz) Ag,2017-03-09,2017-03-09,36.0 g,2674.0,52.78,41.67,38.89,5.56\\n',\n",
       " '\"Lindor, Milk Chocolate Truffles\",\"Lindt,  Lindt & Sprungli (Schweiz) Ag\",2017-03-09,2017-03-09,36.0 g,2556.0,47.22,44.44,38.89,5.56\\n',\n",
       " '\"Lindor, Dark Chocolate Truffles\",\"Lindt,  Lindt & Sprungli (Usa) Inc.\",2017-03-09,2017-03-09,36.0 g,2674.0,52.78,41.67,36.11,5.56\\n',\n",
       " '\"Lindor, White Chocolate Truffles\",\"Lindt,  Lindt & Sprungli (Schweiz) Ag\",2017-03-09,2017-03-09,36.0 g,2674.0,52.78,38.89,38.89,5.56\\n',\n",
       " ',\"Lindt,  Lindt & Sprungli (Schweiz) Ag\",2016-03-12,2017-03-09,40.0 g,2406.0,37.5,50.0,50.0,7.5\\n',\n",
       " 'Assorted Chocolate Mini Sticks,\"Lindt,  Lindt & Sprungli (Schweiz) Ag\",2017-03-09,2017-03-09,40.0 g,2301.0,35.0,52.5,47.5,5.0\\n',\n",
       " 'Assorted Chocolate Truffles,\"Lindt,  Lindt & Sprungli (Schweiz) Ag\",2017-03-09,2017-03-09,36.0 g,2674.0,50.0,41.67,38.89,5.56\\n',\n",
       " 'Milk Chocolate Caramels,\"Lindt,  Lindt & Sprungli (Schweiz) Ag\",2017-03-09,2017-03-09,42.0 g,1992.0,21.43,64.29,54.76,4.76\\n',\n",
       " 'Selections Milk Chocolate,\"Signature,  Lindt & Sprungli (Schweiz) Ag\",2017-03-09,2017-03-09,38.0 g,2092.0,34.21,50.0,42.11,5.26\\n',\n",
       " 'Extra Dark Chocolate Truffles,\"Lindt,  Lindt & Sprungli (Schweiz) Ag\",2017-03-09,2017-03-09,33.0 g,2536.0,48.48,42.42,33.33,6.06\\n',\n",
       " 'Irresistibly Smooth Milk Chocolate Truffle,Lindt & Sprungli (Schweiz) Ag,2017-03-09,2017-03-09,36.0 g,2556.0,47.22,44.44,38.89,5.56\\n',\n",
       " '\"Lindor, Assorted Chocolate Truffles\",\"Lindt,  Lindt & Sprungli (Usa) Inc.\",2017-03-09,2017-03-09,36.0 g,2674.0,52.78,41.67,38.89,5.56\\n',\n",
       " 'White Chocolate Truffles,\"Lindt,  Lindt & Sprungli (Schweiz) Ag\",2017-03-09,2017-03-09,36.0 g,2674.0,52.78,38.89,38.89,5.56\\n',\n",
       " '\"Lindor, Extra Dark Chocolate Truffles, Dark Peppermint\",\"Lindt,  Lindt & Sprungli (Usa) Inc.\",2017-03-09,2017-03-09,36.0 g,2674.0,52.78,41.67,30.56,5.56\\n',\n",
       " '\"Lindor, Milk And White Milk Chocolate Truffles\",\"Lindt,  Lindt & Sprungli (Schweiz) Ag\",2017-03-09,2017-03-09,36.0 g,2674.0,50.0,41.67,38.89,5.56\\n',\n",
       " 'Dark Chocolate,Lindt & Sprungli,2017-03-09,2017-03-09,40.0 g,2301.0,35.0,50.0,47.5,5.0\\n',\n",
       " 'Milk Chocolate Elf,\"Lindt,  Lindt & Sprungli (Schweiz) Ag\",2017-03-09,2017-03-09,40.0 g,2406.0,37.5,55.0,50.0,7.5\\n',\n",
       " 'Mini Milk Chocolate Ball,\"Lindt,  Lindt & Sprungli (Schweiz) Ag\",2017-03-09,2017-03-09,38.0 g,2314.0,36.84,55.26,52.63,7.89\\n',\n",
       " 'Assorted Milk Chocolates,\"Lindt,  Lindt & Sprungli (Schweiz) Ag\",2017-03-09,2017-03-09,44.0 g,2377.0,38.64,52.27,47.73,6.82\\n',\n",
       " 'Milk Chocolate With Pieces Of Popcorn And A Creamy Filling,\"Lindt,  Lindt & Sprungli (Schweiz) Ag\",2017-03-09,2017-03-09,39.0 g,2360.0,35.9,56.41,48.72,7.69\\n',\n",
       " 'Sweet Popcorn Milk Chocolate,Lindt & Sprungli Gmbh,2017-03-09,2017-03-09,40.0 g,2301.0,35.0,55.0,50.0,7.5\\n',\n",
       " '\"Lindor, Assorted Chocolate Truffles\",\"Lindt,  Lindt & Sprungli (Usa) Inc.\",2017-03-09,2017-03-09,36.0 g,2674.0,50.0,41.67,38.89,5.56\\n',\n",
       " 'Assorted Chocolate Truffles,Lindt,2017-03-09,2017-03-09,36.0 g,2674.0,52.78,41.67,38.89,5.56\\n',\n",
       " '\"Lindor, Dark Chocolate Truffles\",\"Lindt,  Lindt & Sprungli (Usa) Inc.\",2017-03-09,2017-03-09,36.0 g,2674.0,52.78,41.67,36.11,5.56\\n',\n",
       " '\"Lindor, Milk Chocolate Truffles\",\"Lindt,  Lindt & Sprungli (Schweiz) Ag\",2017-03-09,2017-03-09,36.0 g,2556.0,47.22,44.44,38.89,5.56\\n',\n",
       " 'Milk Chocolate Truffles,\"Lindt,  Lindt & Sprungli (Schweiz) Ag\",2017-03-09,2017-03-09,36.0 g,2674.0,50.0,41.67,38.89,5.56\\n',\n",
       " '\"Lindor, Dark Chocolate Truffles, Peppermint\",\"Lindt,  Lindt & Sprungli (Schweiz) Ag\",2017-03-09,2017-03-09,36.0 g,2674.0,52.78,41.67,30.56,5.56\\n',\n",
       " 'Lindor Milk Chocolates Truffles,Lindt & Sprungli (Schweiz) Ag,2017-03-09,2017-03-09,36.0 g,2556.0,47.22,44.44,38.89,5.56\\n',\n",
       " '\"Lindor, Assorted Chocolate Truffles\",\"Lindt,  Lindt & Sprungli (Schweiz) Ag\",2017-03-09,2017-03-09,36.0 g,2674.0,52.78,41.67,38.89,5.56\\n',\n",
       " '\"Lindor, Milk Chocolate Truffles, Milk And White\",Lindt,2017-03-09,2017-03-09,36.0 g,2674.0,50.0,41.67,38.89,5.56\\n',\n",
       " 'Irresistibly Smooth White Chocolate Truffles,\"Lindt,  Lindt & Sprungli (Schweiz) Ag\",2017-03-09,2017-03-09,36.0 g,2674.0,52.78,38.89,38.89,5.56\\n',\n",
       " 'Strawberries And Cream White Chocolate Truffles,\"Lindt,  Lindt & Sprungli (Schweiz) Ag\",2017-03-09,2017-03-09,36.0 g,2674.0,52.78,38.89,38.89,5.56\\n',\n",
       " '\"Dark Chocolate, Pomegranate\",\"Lindt,  Lindt & Sprungli Gmbh\",2017-03-09,2017-03-09,40.0 g,2092.0,30.0,60.0,47.5,5.0\\n',\n",
       " '\"Lindor, Assorted Chocolate Truffles\",\"Lindt,  Lindt & Sprungli (Schweiz) Ag\",2017-03-09,2017-03-09,36.0 g,2674.0,50.0,41.67,38.89,5.56\\n',\n",
       " '\"Lindor, Assorted Chocolate Truffles, Peppermint\",\"Lindt,  Lindt & Sprungli (Schweiz) Ag\",2017-03-09,2017-03-09,36.0 g,2674.0,52.78,38.89,36.11,5.56\\n',\n",
       " '\"Lindor, Milk Chocolate Truffles\",\"Lindt,  Lindt & Sprungli (Schweiz) Ag\",2017-03-09,2017-03-09,36.0 g,2556.0,47.22,44.44,38.89,5.56\\n',\n",
       " '\"Lindor, Assorted Chocolate Truffles\",\"Lindt,  Lindt & Sprungli (Schweiz) Ag\",2017-03-09,2017-03-09,36.0 g,2674.0,52.78,41.67,38.89,5.56\\n',\n",
       " '\"Milk Chocolate With Popping Raspberry And Cream Filling, Milk Chocolate\",\"Lindt,  Lindt & Sprungli (Schweiz) Ag\",2017-03-09,2017-03-09,40.0 g,2301.0,32.5,55.0,52.5,5.0\\n',\n",
       " 'Milk Chocolate With Vanilla And Chocolate Fillings And Almond Pieces,\"Lindt,  Lindt & Sprungli (Schweiz) Ag\",2017-03-09,2017-03-09,40.0 g,2301.0,35.0,55.0,52.5,5.0\\n',\n",
       " 'Caramel Milk Chocolate Truffles,\"Lindt,  Lindt & Sprungli (Schweiz) Ag\",2017-03-09,2017-03-09,36.0 g,2556.0,50.0,44.44,38.89,5.56\\n',\n",
       " 'Milk And White Milk Chocolate Truffles,Lindt & Sprungli (Schweiz) Ag,2017-03-09,2017-03-09,36.0 g,2674.0,50.0,41.67,38.89,5.56\\n',\n",
       " 'Gold Bunny,\"Lindt,  Lindt & Sprungli (Schweiz) Ag\",2017-03-09,2017-03-09,40.0 g,2301.0,32.5,57.5,55.0,7.5\\n',\n",
       " 'Milk Chocolate Covered Hello Pretzel Rounds Bite,\"Lindt,  Lindt & Sprungli (Schweiz) Ag\",2017-03-09,2017-03-09,40.0 g,2197.0,30.0,62.5,35.0,5.0\\n',\n",
       " 'Irresistibly Smooth Strawberries And Cream White Chocolate Truffles,Lindt & Sprungli (Schweiz) Ag,2017-03-09,2017-03-09,36.0 g,2674.0,52.78,38.89,38.89,5.56\\n',\n",
       " 'Milk Chocolate,Lindt & Sprungli (Schweiz) Ag,2017-03-09,2017-03-09,40.0 g,2301.0,32.5,57.5,55.0,7.5\\n',\n",
       " '\"Lindor, White Chocolate Truffles, Strawberry & Cream\",\"Lindt,  Lindt & Sprungli (Schweiz) Ag\",2017-03-09,2017-03-09,36.0 g,2674.0,52.78,38.89,38.89,5.56\\n',\n",
       " '\"Sprungli, Assorted Chocolate Truffles\",\"Lindt,  Lindt & Sprungli (Schweiz) Ag\",2017-03-09,2017-03-09,36.0 g,2674.0,50.0,41.67,36.11,5.56\\n',\n",
       " 'Dark Chocolate With Pieces Of Lychee,Lindt,2017-03-09,2017-03-09,40.0 g,2197.0,30.0,62.5,47.5,5.0\\n',\n",
       " 'Supreme Dark Chocolate,\"Lindt,  Lindt & Sprungli (Schweiz) Ag\",2017-03-09,2017-03-09,40.0 g,2510.0,55.0,30.0,7.5,10.0\\n',\n",
       " 'Dark Chocolate,\"Lindt,  Lindt & Sprungli (Schweiz) Ag\",2017-03-09,2017-03-09,40.0 g,2092.0,30.0,55.0,52.5,5.0\\n',\n",
       " '\"Lindor, Chocolate Truffles, Assorted\",\"Lindt,  Lindt & Sprungli (Schweiz) Ag\",2017-03-09,2017-03-09,36.0 g,2674.0,50.0,41.67,36.11,5.56\\n',\n",
       " '\"Lindor, Assorted Chocolate Truffles\",\"Lindt,  Lindt & Sprungli (Schweiz) Ag\",2017-03-09,2017-03-09,36.0 g,2674.0,50.0,41.67,38.89,5.56\\n',\n",
       " '\"Lindor, White Chocolate Truffles\",\"Lindt,  Lindt & Sprungli (Schweiz) Ag\",2017-03-09,2017-03-09,24.0 g,2615.0,54.17,41.67,41.67,4.17\\n',\n",
       " '\"Lindor Milk Chocolate Truffles, Milk\",\"Lindt,  Lindt & Sprungli (Schweiz) Ag\",2017-03-09,2017-03-09,36.0 g,2556.0,47.22,44.44,38.89,5.56\\n',\n",
       " '\"Lindor, Milk Chocolate Truffles, Milk And White\",\"Lindt,  Lindt & Sprungli (Schweiz) Ag\",2017-03-09,2017-03-09,36.0 g,2674.0,50.0,41.67,38.89,5.56\\n',\n",
       " '\"Signature Collection, Premium Chocolates\",\"Lindt,  Lindt & Sprungli (Usa) Inc.\",2017-03-09,2017-03-09,43.0 g,2431.0,44.19,46.51,39.53,4.65\\n',\n",
       " '\"Lindor, Assorted Chocolate Truffles\",\"Lindt,  Lindt & Sprungli (Schweiz) Ag\",2017-03-09,2017-03-09,36.0 g,2674.0,50.0,41.67,38.89,5.56\\n',\n",
       " '\"Lindor, Milk Chocolate Truffle Eggs\",\"Lindt,  Lindt & Sprungli (Schweiz) Ag\",2017-03-09,2017-03-09,28.0 g,2540.0,50.0,46.43,42.86,3.57\\n',\n",
       " '\"Lindor Chocolate Truffles, Strawberry & Cream\",\"Lindt,  Lindt & Sprungli (Schweiz) Ag\",2017-03-09,2017-03-09,36.0 g,2674.0,52.78,38.89,38.89,5.56\\n',\n",
       " 'Irresistibly Smooth Milk Chocolate Truffles,Lindt & Sprungli (Schweiz) Ag,2017-03-09,2017-03-09,36.0 g,2556.0,47.22,47.22,38.89,5.56\\n',\n",
       " '\"Lindor Chocolate Truffles, Assorted\",\"Lindt,  Lindt & Sprungli (Schweiz) Ag\",2017-03-09,2017-03-09,36.0 g,2674.0,50.0,41.67,38.89,5.56\\n',\n",
       " 'Crunchy Cookie Bites,Lindt & Sprungli (Schweiz) Ag,2017-03-09,2017-03-09,40.0 g,2197.0,30.0,60.0,42.5,5.0\\n',\n",
       " 'Smoothie,Lindt & Sprungli (Schweiz) Ag,2017-03-09,2017-03-09,40.0 g,2197.0,35.0,55.0,52.5,5.0\\n',\n",
       " 'Milk Chocolate With A Coffee And Cream Filling,Lindt & Sprungli Gmbh,2017-03-09,2017-03-09,39.0 g,2360.0,38.46,53.85,48.72,7.69\\n',\n",
       " '\"Lindor, Milk And White Milk Chocolate Truffles\",\"Lindt,  Lindt & Sprungli (Schweiz) Ag\",2017-03-09,2017-03-09,36.0 g,2674.0,50.0,41.67,38.89,5.56\\n',\n",
       " 'Chocolate Wafer,\"Lindt,  Lindt & Sprungli (Schweiz) Ag\",2017-03-09,2017-03-09,40.0 g,2092.0,30.0,57.5,47.5,7.5\\n',\n",
       " '\"Lindor, White Chocolate Truffles, Strawberries And Cream\",\"Lindt,  Lindt & Sprungli (Schweiz) Ag\",2017-03-09,2017-03-09,36.0 g,2674.0,52.78,38.89,38.89,5.56\\n',\n",
       " '\"Gold Bunny & Friends, Milk Chocolate\",Lindt & Sprungli (Schweiz) Ag,2017-03-09,2017-03-09,35.0 g,2389.0,37.14,54.29,48.57,8.57\\n',\n",
       " 'Chocolate Truffles Eggs,Lindt & Sprungli (Schweiz) Ag,2017-03-09,2017-03-09,42.0 g,2489.0,50.0,40.48,40.48,4.76\\n',\n",
       " '\"Lindor, Chocolate Truffle Eggs, Coconut\",\"Lindt,  Lindt & Sprungli (Schweiz) Ag\",2017-03-09,2017-03-09,42.0 g,2590.0,50.0,42.86,42.86,4.76\\n',\n",
       " 'Milk Chocolate,\"Lindt,  Lindt & Sprungli (Schweiz) Ag\",2017-03-09,2017-03-09,40.0 g,2406.0,40.0,52.5,50.0,5.0\\n',\n",
       " 'Lindor - Milk Chocolate Truffles,\"Lindt,  Lindt & Sprungli (Schweiz) Ag\",2017-03-09,2017-03-09,36.0 g,2556.0,47.22,44.44,38.89,5.56\\n',\n",
       " 'White Chocolate Truffles,Lindt & Sprungli (Schweiz) Ag,2017-03-09,2017-03-09,36.0 g,2674.0,52.78,38.89,38.89,5.56\\n',\n",
       " 'Irresistibly Smooth White Chocolate Truffles,Lindt & Sprungli (Schweiz) Ag,2017-03-09,2017-03-09,38.0 g,2531.0,50.0,42.11,42.11,5.26\\n',\n",
       " '\"Lindor, Pumpkin Spice Milk Chocolate Truffles\",\"Lindt,  Lindt & Sprungli (Schweiz) Ag\",2017-03-09,2017-03-09,36.0 g,2556.0,47.22,47.22,38.89,5.56\\n',\n",
       " '\"Lindor, Milk Chocolate Truffles, Pumpkin Spice\",\"Lindt,  Lindt & Sprungli (Schweiz) Ag\",2017-03-09,2017-03-09,36.0 g,2556.0,47.22,47.22,38.89,5.56\\n',\n",
       " 'Lindor Milk Chocolate Truffle Bar,Lindt & Sprungli,2017-03-10,2017-03-10,38.0 g,2531.0,47.37,44.74,39.47,5.26\\n',\n",
       " 'Lindor Milk Chocolate Truffles,Lindt,2017-03-09,2017-03-09,36.0 g,2556.0,47.22,44.44,38.89,5.56\\n',\n",
       " 'Lindor Assorted Chocolate Truffles,\"Lindt,  Lindt & Sprungli (Schweiz) Ag\",2017-03-09,2017-03-09,36.0 g,2674.0,52.78,41.67,38.89,5.56\\n',\n",
       " '\"Lindor, Milk Chocolate Truffles\",\"Lindt,  Lindt & Sprungli (Schweiz) Ag\",2017-03-09,2017-03-09,36.0 g,2674.0,50.0,41.67,38.89,5.56\\n',\n",
       " 'Elf Milk Chocolate,Lindt,2017-03-10,2017-03-10,40.0 g,2301.0,32.5,57.5,55.0,7.5\\n',\n",
       " '\"Lindor, Milk Chocolate Truffle Bars\",Lindt,2017-03-10,2017-03-10,38.0 g,2531.0,47.37,44.74,39.47,5.26\\n',\n",
       " \"Black Beans,Trader Joe's,2017-03-09,2017-03-09,125.0 g,368.0,0.0,16.0,1.6,5.6\\n\",\n",
       " \"Tyler Sash's Favorite Seasoning Mix,Old Mansion Foods,2017-03-09,2017-03-09,1.0 g,0.0,0.0,0.0,,0.0\\n\",\n",
       " \"Italian Olive Oil Spray,Trader Joe's,2017-03-09,2017-03-09,0.25 g,0.0,0.0,0.0,,0.0\\n\",\n",
       " '\"Mints, Candy Cane\",\"Tic Tac,  Ferrero U.S.A.  Incorporated\",2017-03-09,2017-03-09,0.48 g,1657.0,0.0,0.0,0.0,0.0\\n',\n",
       " '\"Rocher, Hazelnut Chocolates\",\"Ferrero,  Ferrero Rocher\",2017-03-09,2017-03-09,38.0 g,2531.0,42.11,47.37,39.47,7.89\\n',\n",
       " '\"Scary Sweets Mints, Grape & Cherry\",\"Tic Tac,  Ferrero U.S.A.  Incorporated\",2017-03-09,2017-03-09,0.49 g,1623.0,0.0,0.0,0.0,0.0\\n',\n",
       " '\"Flavored Mints, Grape\",\"Tic Tac,  Ferrero U.S.A.  Incorporated\",2017-03-09,2017-03-09,0.49 g,1623.0,0.0,0.0,0.0,0.0\\n',\n",
       " '\"Flavored Mints, Candy Cane\",Tic Tac,2017-03-09,2017-03-09,0.49 g,1623.0,0.0,0.0,0.0,0.0\\n',\n",
       " 'Made In Ireland,,2017-03-09,2017-03-09,0.49 g,1623.0,0.0,0.0,0.0,0.0\\n',\n",
       " 'Candy Cane,\"Tic Tac,  Ferrero U.S.A.  Incorporated\",2017-03-09,2017-03-09,0.49 g,1623.0,0.0,0.0,0.0,0.0\\n',\n",
       " 'Flavored Mints,Ferrero U.S.A.  Incorporated,2017-03-09,2017-03-09,0.49 g,1623.0,0.0,0.0,0.0,0.0\\n',\n",
       " 'Summer Ice Pop Mint,Ferrero U.S.A.  Incorporated,2017-03-10,2017-03-10,0.49 g,1623.0,0.0,0.0,0.0,0.0\\n',\n",
       " 'Freshmints,Ferrero U.S.A.  Incorporated,2017-03-10,2017-03-10,0.49 g,1623.0,0.0,0.0,0.0,0.0\\n',\n",
       " 'Fruit Mints,\"Tic Tac,  Ferrero U.S.A.  Incorporated\",2017-03-10,2017-03-10,0.49 g,1623.0,0.0,0.0,0.0,0.0\\n',\n",
       " 'Freshmints,Ferrero U.S.A.  Incorporated,2017-03-10,2017-03-10,0.49 g,1623.0,0.0,0.0,0.0,0.0\\n',\n",
       " 'Mints,Ferrero U.S.A.  Incorporated,2017-03-10,2017-03-10,0.49 g,1623.0,0.0,0.0,0.0,0.0\\n',\n",
       " 'Flavored Mints,\"Tic Tac,  Ferrero U.S.A.  Incorporated\",2017-03-09,2017-03-09,0.49 g,1623.0,0.0,0.0,0.0,0.0\\n',\n",
       " 'Mints,\"Tic Tac,  Ferrero U.S.A.  Incorporated\",2017-03-09,2017-03-09,0.49 g,1623.0,0.0,0.0,0.0,0.0\\n',\n",
       " '\"Flavored Mints, Grrr...Een Apple\",\"Tic Tac,  Ferrero U.S.A.  Incorporated\",2017-03-09,2017-03-09,0.49 g,1623.0,0.0,0.0,0.0,0.0\\n',\n",
       " '\"Mummy Mints, Orange\",\"Tic Tac,  Ferrero U.S.A.  Incorporated\",2017-03-09,2017-03-09,0.49 g,1623.0,0.0,0.0,0.0,0.0\\n',\n",
       " '\"Snowman Fruit Mix Mints, Lime & Berry\",\"Tic Tac,  Ferrero U.S.A.  Incorporated\",2017-03-09,2017-03-09,0.49 g,1623.0,0.0,0.0,0.0,0.0\\n',\n",
       " '\"Mints, Grape\",\"Tic Tac,  Ferrero U.S.A.  Incorporated\",2017-03-09,2017-03-09,0.49 g,1623.0,0.0,0.0,0.0,0.0\\n',\n",
       " '\"Minions Mints, Banana\",\"Tic Tac,  Ferrero U.S.A.  Incorporated\",2017-03-09,2017-03-09,0.49 g,1623.0,0.0,0.0,0.0,0.0\\n',\n",
       " 'Fruit Adventure,\"Tic Tac,  Ferrero U.S.A.  Incorporated\",2017-03-09,2017-03-09,0.49 g,1623.0,0.0,0.0,0.0,0.0\\n',\n",
       " '\"Fruit Adventure, Mixed\",Tic Tac,2017-03-09,2017-03-09,0.49 g,1623.0,0.0,0.0,0.0,0.0\\n',\n",
       " 'Freshmints,\"Tic Tac,  Ferrero U.S.A.  Incorporated\",2017-03-09,2017-03-09,0.49 g,1623.0,0.0,0.0,0.0,0.0\\n',\n",
       " '\"Mints, Orange\",Tic Tac,2017-03-09,2017-03-09,0.49 g,1623.0,0.0,0.0,0.0,0.0\\n',\n",
       " '\"Flavored Mints, Berry Cherry\",\"Tic Tac,  Ferrero U.S.A.  Incorporated\",2017-03-09,2017-03-09,0.49 g,1623.0,0.0,0.0,0.0,0.0\\n',\n",
       " 'Mints,Ferrero U.S.A.  Incorporated,2017-03-10,2017-03-10,0.49 g,1623.0,0.0,0.0,0.0,0.0\\n',\n",
       " 'Freshmints,Tic Tac,2017-03-09,2017-03-09,49.0 g,17.0,0.0,0.0,0.0,0.0\\n',\n",
       " '\"Orange Mints, Orange\",\"Tic Tac,  Ferrero\",2017-03-09,2017-03-09,0.49 g,1623.0,0.0,0.0,0.0,0.0\\n',\n",
       " '\"Flavored Mints, Wintergreen\",\"Tic Tac,  Ferrero U.S.A.  Incorporated\",2017-03-09,2017-03-09,0.49 g,1623.0,0.0,0.0,0.0,0.0\\n',\n",
       " '\"Fruit Mints, Strawberry Fields\",Tic Tac,2017-03-09,2017-03-09,0.49 g,1623.0,0.0,0.0,0.0,0.0\\n',\n",
       " 'Fruit Adventure Mints,\"Tic Tac,  Ferrero\",2017-03-09,2017-03-09,0.49 g,1623.0,0.0,0.0,0.0,0.0\\n',\n",
       " 'Freshmints,\"Tic Tac,  Excl. Dist. Ferrero U.S.A.  Inc.\",2017-03-09,2017-03-09,49.0 g,17.0,0.0,0.0,0.0,0.0\\n',\n",
       " '\"Mints, Orange\",\"Tic Tac,  Ferrero\",2017-03-09,2017-03-09,49.0 g,17.0,0.0,0.0,0.0,0.0\\n',\n",
       " '\"Mints, Wintergreen\",\"Tic Tac,  Ferrero\",2017-03-09,2017-03-09,49.0 g,17.0,0.0,0.0,0.0,0.0\\n',\n",
       " 'Freshmints,Tic Tac,2017-03-09,2017-03-09,0.49 g,1623.0,0.0,0.0,0.0,0.0\\n',\n",
       " 'Mints,Tic Tac,2017-03-09,2017-03-09,0.49 g,1623.0,0.0,0.0,0.0,0.0\\n',\n",
       " '\"Flavored Mints, Fruit Adventure\",\"Tic Tac,  Ferrero U.S.A.  Incorporated\",2017-03-09,2017-03-09,0.49 g,1623.0,0.0,0.0,0.0,0.0\\n',\n",
       " '\"Mints, Wintergreen\",\"Tic Tac,  Ferrero\",2017-03-09,2017-03-09,0.49 g,1623.0,0.0,0.0,0.0,0.0\\n',\n",
       " '\"Flavored Mints, Fruit Adventure\",\"Tic Tac,  Ferrero U.S.A.  Incorporated\",2017-03-09,2017-03-09,0.49 g,1623.0,0.0,0.0,0.0,0.0\\n',\n",
       " 'Freshmints,\"Tic Tac,  Ferrero U.S.A.  Incorporated\",2017-03-09,2017-03-09,0.49 g,1623.0,0.0,0.0,0.0,0.0\\n',\n",
       " '\"Flavored Mints, Orange\",\"Tic Tac,  Ferrero U.S.A.  Incorporated\",2017-03-09,2017-03-09,0.49 g,1623.0,0.0,0.0,0.0,0.0\\n',\n",
       " '\"Flavored Mints, Berry Cherry\",\"Tic Tac,  Ferrero U.S.A.  Incorporated\",2017-03-09,2017-03-09,0.49 g,1623.0,0.0,0.0,0.0,0.0\\n',\n",
       " 'Mints,Ferrero U.S.A.  Incorporated,2017-03-09,2017-03-09,0.49 g,1623.0,0.0,0.0,0.0,0.0\\n',\n",
       " '\"Flavored Mints, Grape\",\"Tic Tac,  Ferrero U.S.A.  Incorporated\",2017-03-09,2017-03-09,0.49 g,1623.0,0.0,0.0,0.0,0.0\\n',\n",
       " 'Freshmints,\"Tic Tac,  Ferrero U.S.A.  Incorporated\",2017-03-09,2017-03-09,0.49 g,1623.0,0.0,0.0,0.0,0.0\\n',\n",
       " '\"Minions Mints, Banana\",\"Tic Tac,  Ferrero U.S.A.  Incorporated\",2017-03-09,2017-03-09,0.49 g,1623.0,0.0,0.0,0.0,0.0\\n',\n",
       " '\"Minions Mints, Banana\",\"Tic Tac,  Ferrero U.S.A.  Incorporated\",2017-03-09,2017-03-09,0.49 g,1623.0,0.0,0.0,0.0,0.0\\n',\n",
       " '\"Flavored Mints, Spearmint Mix\",\"Tic Tac,  Ferrero U.S.A.  Incorporated\",2017-03-09,2017-03-09,0.49 g,1623.0,0.0,0.0,0.0,0.0\\n',\n",
       " '\"Flavored Mints, Grape\",\"Tic Tac,  Ferrero U.S.A.  Incorporated\",2017-03-09,2017-03-09,0.49 g,1623.0,0.0,0.0,0.0,0.0\\n',\n",
       " '\"Mixers Mints, Cherry Cola\",\"Tic Tac,  Ferrero U.S.A.  Incorporated\",2017-03-09,2017-03-09,0.49 g,1623.0,0.0,0.0,0.0,0.0\\n',\n",
       " '\"Mixers Mints, Peach, Lemonade\",\"Tic Tac,  Ferrero U.S.A.  Incorporated\",2017-03-09,2017-03-09,0.49 g,1623.0,0.0,0.0,0.0,0.0\\n',\n",
       " '\"Flavored Mints, Strawberry\",\"Tic Tac,  Ferrero U.S.A.  Incorporated\",2017-03-09,2017-03-09,0.49 g,1623.0,0.0,0.0,0.0,0.0\\n',\n",
       " '\"Flavored Mints, Fruit Adventure\",\"Tic Tac,  Ferrero U.S.A.  Incorporated\",2017-03-09,2017-03-09,0.49 g,1623.0,0.0,0.0,0.0,0.0\\n',\n",
       " 'Freshmints,\"Tic Tac,  Ferrero U.S.A.  Incorporated\",2017-03-09,2017-03-09,0.49 g,1623.0,0.0,0.0,0.0,0.0\\n',\n",
       " '\"Flavored Mints, Orange\",\"Tic Tac,  Ferrero U.S.A.  Incorporated\",2017-03-09,2017-03-09,0.49 g,1623.0,0.0,0.0,0.0,0.0\\n',\n",
       " '\"Flavored Mints, Wintergreen\",\"Tic Tac,  Ferrero U.S.A.  Incorporated\",2017-03-09,2017-03-09,0.49 g,1623.0,0.0,0.0,0.0,0.0\\n',\n",
       " '\"Mints, Orange, Fruit Adventure, Wintergreen\",\"Tic Tac,  Ferrero U.S.A.  Incorporated\",2017-03-09,2017-03-09,0.49 g,1623.0,0.0,0.0,0.0,0.0\\n',\n",
       " 'Milk Chocolate,Ferrero U.S.A.  Incorporated,2017-03-09,2017-03-09,38.0 g,2531.0,42.11,47.37,39.47,7.89\\n',\n",
       " '\"Rocher, Fine Hazelnut Chocolates\",\"Ferrero,  Ferrero U.S.A.  Incorporated\",2017-03-09,2017-03-09,38.0 g,2531.0,42.11,47.37,39.47,7.89\\n',\n",
       " '\"Rocher, Fine Hazelnut Chocolates\",\"Ferrero,  Ferrero Rocher\",2017-03-09,2017-03-09,38.0 g,2531.0,42.11,47.37,39.47,7.89\\n',\n",
       " '\"Rocher, Fine Hazelnut Chocolates\",\"Ferrero,  Ferrero U.S.A.  Incorporated\",2017-03-09,2017-03-09,38.0 g,2531.0,42.11,47.37,39.47,7.89\\n',\n",
       " '\"Rocher, Fine Hazelnut Chocolates\",\"Ferrero,  Ferrero U.S.A.  Incorporated\",2017-03-09,2017-03-09,38.0 g,2531.0,42.11,47.37,39.47,7.89\\n',\n",
       " '\"Rocher, Fine Hazelnut Chocolates\",\"Ferrero,  Ferrero U.S.A.  Incorporated\",2017-03-09,2017-03-09,38.0 g,2531.0,42.11,47.37,39.47,7.89\\n',\n",
       " '\"Rocher, Fine Hazelnut Chocolates\",\"Ferrero,  Ferrero U.S.A.  Incorporated\",2017-03-09,2017-03-09,38.0 g,2531.0,42.11,47.37,39.47,7.89\\n',\n",
       " 'Fine Hazel Nut Chocolates,Ferrero Rocher,2017-03-09,2017-03-09,38.0 g,2423.0,42.11,44.74,39.47,7.89\\n',\n",
       " '\"Rocher, Fine Hazelnut Chocolates\",Ferrero,2017-03-09,2017-03-09,38.0 g,2531.0,42.11,47.37,39.47,7.89\\n',\n",
       " '\"Rocher, Fine Hazelnut Chocolates\",\"Ferrero,  Ferrero Rocher\",2017-03-09,2017-03-09,38.0 g,2531.0,42.11,47.37,39.47,7.89\\n',\n",
       " '\"Rocher, Fine Hazelnut Chocolates\",\"Ferrero,  Ferrero U.S.A.  Incorporated\",2017-03-09,2017-03-09,38.0 g,2531.0,42.11,47.37,39.47,7.89\\n',\n",
       " '\"Rocher, Hazelnut Chocolates\",\"Ferrero,  Ferrero U.S.A.  Incorporated\",2017-03-09,2017-03-09,38.0 g,2531.0,42.11,47.37,39.47,7.89\\n',\n",
       " '\"Rocher, Fine Hazelnut Chocolates\",\"Ferrero,  Ferrero U.S.A.  Incorporated\",2017-03-09,2017-03-09,38.0 g,2531.0,42.11,47.37,39.47,7.89\\n',\n",
       " 'Fine Hazelnut Chocolates,Ferrero,2017-03-09,2017-03-09,38.0 g,2423.0,42.11,44.74,39.47,7.89\\n',\n",
       " 'Rocher,Ferrero,2017-03-09,2017-03-09,38.0 g,2531.0,42.11,47.37,39.47,7.89\\n',\n",
       " '\"Raffaello, Almond Coconut Treat\",Confetteria,2017-03-09,2017-03-09,30.0 g,2648.0,50.0,43.33,33.33,6.67\\n',\n",
       " '\"Raffaello, Almond Coconut Treat\",Ferrero U.S.A.  Incorporated,2017-03-09,2017-03-09,30.0 g,2648.0,50.0,40.0,33.33,6.67\\n',\n",
       " 'Fine Assorted Confection Chocolates,\"Ferrero Collection,  Ferrero U.S.A.  Incorporated\",2017-03-09,2017-03-09,40.0 g,2510.0,42.5,47.5,37.5,7.5\\n',\n",
       " 'Fine Assorted Confections,Ferrero Collection,2017-03-09,2017-03-09,40.0 g,2510.0,42.5,47.5,37.5,7.5\\n',\n",
       " 'Fine Assorted Confections,\"Ferrero Collection,  Ferrero U.S.A.  Incorporated\",2017-03-09,2017-03-09,40.0 g,2510.0,42.5,47.5,40.0,7.5\\n',\n",
       " 'Fine Assorted Confections,\"Ferrero Collection,  Ferrero U.S.A.  Incorporated\",2017-03-09,2017-03-09,40.0 g,2510.0,42.5,47.5,40.0,7.5\\n',\n",
       " 'Fine Assorted Confections,\"Ferrero Collection,  Ferrero U.S.A.  Incorporated\",2017-03-09,2017-03-09,40.0 g,2510.0,42.5,47.5,40.0,7.5\\n',\n",
       " 'Fine Assorted Confections,\"Ferrero Collection,  Ferrero U.S.A.  Incorporated\",2017-03-09,2017-03-09,40.0 g,2510.0,42.5,47.5,40.0,7.5\\n',\n",
       " 'Fine Assorted Confections,\"Ferrero Collection,  Ferrero U.S.A.  Incorporated\",2017-03-09,2017-03-09,40.0 g,2510.0,42.5,47.5,40.0,7.5\\n',\n",
       " 'Fine Assorted Confections,\"Ferrero Collection,  Ferrero U.S.A.  Incorporated\",2017-03-09,2017-03-09,40.0 g,2510.0,42.5,47.5,40.0,7.5\\n',\n",
       " 'Fine Assorted Confections,\"Ferrero Collection,  Ferrero U.S.A.  Incorporated\",2017-03-09,2017-03-09,40.0 g,2510.0,42.5,47.5,40.0,7.5\\n',\n",
       " 'Fine Assorted Congections,\"Ferrero Collection,  Ferrero U.S.A.  Incorporated\",2017-03-09,2017-03-09,40.0 g,2510.0,42.5,47.5,40.0,7.5\\n',\n",
       " 'Fine Assorted Confections,\"Ferrero Collection,  Ferrero U.S.A.  Incorporated\",2017-03-09,2017-03-09,40.0 g,2510.0,42.5,47.5,37.5,7.5\\n',\n",
       " 'Fine Assorted Confections,\"Ferrero Collection,  Ferrero U.S.A.  Incorporated\",2017-03-09,2017-03-09,40.0 g,2510.0,42.5,47.5,37.5,7.5\\n',\n",
       " 'Fine Assorted Confections,\"Ferrero Collection,  Ferrero U.S.A.  Incorporated\",2017-03-09,2017-03-09,40.0 g,2510.0,42.5,47.5,37.5,7.5\\n',\n",
       " 'Fine Assorted Confections,\"Ferrero Collection,  Ferrero U.S.A.  Incorporated\",2017-03-09,2017-03-09,40.0 g,2510.0,42.5,47.5,37.5,7.5\\n',\n",
       " 'Fine Assorted Confections,\"Ferrero Collection,  Ferrero U.S.A.  Incorporated\",2017-03-09,2017-03-09,40.0 g,2510.0,42.5,47.5,37.5,7.5\\n',\n",
       " 'Fine Assorted Collections,\"Ferrero Collection,  Ferrero U.S.A.  Incorporated\",2017-03-09,2017-03-09,40.0 g,2510.0,42.5,47.5,37.5,7.5\\n',\n",
       " 'Fine Assorted Conefections,\"Ferrero Collection,  Ferrero U.S.A.  Incorporated\",2017-03-09,2017-03-09,40.0 g,2510.0,42.5,47.5,37.5,7.5\\n',\n",
       " 'Fine Assorted Confections,\"Ferrero Collection,  Ferrero U.S.A.  Incorporated\",2017-03-09,2017-03-09,40.0 g,2510.0,42.5,47.5,40.0,7.5\\n',\n",
       " 'Fine Assorted Confections,\"Ferrero Collection,  Ferrero U.S.A.  Incorporated\",2017-03-09,2017-03-09,40.0 g,2510.0,42.5,47.5,40.0,7.5\\n',\n",
       " '\"Fererro, Nutella, B-Ready Filled Wafer Bars\",Ferrero U.S.A.  Incorporated,2017-03-09,2017-03-09,22.0 g,2092.0,27.27,63.64,45.45,9.09\\n',\n",
       " 'Fine Assorted Confection,\"Ferrero Collection,  Ferrero U.S.A.  Incorporated\",2017-03-09,2017-03-09,40.0 g,2510.0,42.5,47.5,40.0,7.5\\n',\n",
       " '\"Eggs Chocolate Covered Crispy Eggs, Hazelnut\",\"Ferrero,  Ferrero U.S.A.  Incorporated\",2017-03-09,2017-03-09,40.0 g,2406.0,37.5,52.5,45.0,7.5\\n',\n",
       " '\"Eggs Chocolate Covered Crispy Eggs, Cocoa\",\"Ferrero,  Ferrero U.S.A.  Incorporated\",2017-03-09,2017-03-09,40.0 g,2301.0,37.5,52.5,42.5,5.0\\n',\n",
       " 'Hazelnut Spread + Breadsticks,Nutella,2017-03-09,2017-03-09,52.0 g,2171.0,25.0,63.46,44.23,7.69\\n',\n",
       " 'Hazelnut Spread + Breadsticks,Nutella,2016-03-11,2017-03-09,52.0 g,2171.0,26.92,65.38,44.23,7.69\\n',\n",
       " 'Hazelnut Spread + Pretzel Sticks,Nutella,2017-03-09,2017-03-09,54.0 g,2092.0,24.07,66.67,42.59,7.41\\n',\n",
       " '12 Pack Hazelnut Spread + Breadsticks,Nutella Ferrero,2017-03-09,2017-03-09,52.0 g,2171.0,26.92,65.38,44.23,7.69\\n',\n",
       " '\"Nutella, Hazelnut Spread With Cocoa\",\"Ferrero,  Ferrero U.S.A.  Incorporated\",2017-03-09,2017-03-09,37.0 g,2264.0,32.43,62.16,56.76,5.41\\n',\n",
       " '\"Nutella, Hazelnut Spread With Cocoa\",\"Ferrero,  Ferrero U.S.A.  Incorporated\",2017-03-09,2017-03-09,37.0 g,2264.0,32.43,62.16,56.76,5.41\\n',\n",
       " 'Nutella,\"Ferrero,Nutella\",2013-07-02,2017-01-12,37.0 g,2260.0,32.4,56.8,56.8,5.41\\n',\n",
       " '\"Mountain Pure, Coconut Chips\",Truicoco,2017-03-09,2017-03-09,20.0 g,2406.0,35.0,60.0,40.0,5.0\\n',\n",
       " \"Chicken Noodle Soup,Trader Joe's,2017-03-09,2017-03-09,248.0 g,151.0,0.4,5.65,0.4,2.42\\n\",\n",
       " '\"Spaghetti Sauce, Roasted Garlic\",Trader Giotto\\'s,2017-03-09,2017-03-09,125.0 g,234.0,2.0,8.0,4.8,1.6\\n',\n",
       " \"Mushroom & Herb Risotto,Trader Joe's,2017-03-09,2017-03-09,42.0 g,1494.0,0.0,78.57,2.38,7.14\\n\",\n",
       " 'Apricot Butter,House Of Webster,2017-03-09,2017-03-09,17.0 g,615.0,0.0,41.18,23.53,0.0\\n',\n",
       " '\"Hu, Crunchy Chocolate Bar, Banana\",B R Group Inc.,2017-03-10,2017-03-10,30.0 g,1954.0,40.0,40.0,26.67,10.0\\n',\n",
       " 'Hu Simple Chocolate Bar,B R Group Inc.,2017-03-09,2017-03-09,30.0 g,2230.0,43.33,46.67,30.0,6.67\\n',\n",
       " '\"Get Back To Human, Crunchy Fig Chocolate Bar\",Hu,2017-03-09,2017-03-09,30.0 g,2092.0,40.0,43.33,30.0,6.67\\n',\n",
       " '\"Get Back To Human, Chocolate Bar, Crunchy Mint\",Hu,2017-03-09,2017-03-09,30.0 g,2230.0,43.33,43.33,26.67,6.67\\n',\n",
       " ...]"
      ]
     },
     "execution_count": 31,
     "metadata": {},
     "output_type": "execute_result"
    }
   ],
   "source": [
    "with open(csv_file_path, 'r', encoding = \"utf-8\") as csvfile:\n",
    "    text_data = csvfile.readlines()\n",
    "\n",
    "text_data"
   ]
  },
  {
   "cell_type": "markdown",
   "metadata": {
    "heading_collapsed": true,
    "hidden": true
   },
   "source": [
    "### Printing Lines in bash"
   ]
  },
  {
   "cell_type": "markdown",
   "metadata": {
    "hidden": true
   },
   "source": [
    "Alternatively, you could use a bash command to print the first two lines."
   ]
  },
  {
   "cell_type": "code",
   "execution_count": 32,
   "metadata": {
    "hidden": true,
    "scrolled": true
   },
   "outputs": [
    {
     "name": "stderr",
     "output_type": "stream",
     "text": [
      "head: cannot open './data/King_County_Real_Estate_Sales.csv' for reading: No such file or directory\n"
     ]
    }
   ],
   "source": [
    "# This will only work on Mac, Linux, or a separate bash terminal in Windows\n",
    "\n",
    "!head -n 2 ./data/King_County_Real_Estate_Sales.csv\n"
   ]
  },
  {
   "cell_type": "markdown",
   "metadata": {
    "heading_collapsed": true,
    "hidden": true
   },
   "source": [
    "### Discussion"
   ]
  },
  {
   "cell_type": "markdown",
   "metadata": {
    "hidden": true
   },
   "source": [
    "Based on these two lines, what can we infer about the contents of the data file? What questions arise for you about the data?"
   ]
  },
  {
   "cell_type": "markdown",
   "metadata": {
    "heading_collapsed": true,
    "hidden": true
   },
   "source": [
    "## Using the `csv` module"
   ]
  },
  {
   "cell_type": "markdown",
   "metadata": {
    "hidden": true
   },
   "source": [
    "The [`csv` module](https://docs.python.org/3/library/csv.html) lets us easily process data in CSV files. We will use it to read each row in the `.csv` file and store its information in a Python object we can use for further analysis. "
   ]
  },
  {
   "cell_type": "code",
   "execution_count": 33,
   "metadata": {
    "hidden": true
   },
   "outputs": [],
   "source": [
    "# import the module\n",
    "import csv"
   ]
  },
  {
   "cell_type": "markdown",
   "metadata": {
    "hidden": true
   },
   "source": [
    "The [`csv.DictReader`](https://docs.python.org/3/library/csv.html#csv.DictReader) object is a file reader, reading each row and then converting it to a dictionary. By default, it turns each row into a dictionary, using the field names from the first row as the keys."
   ]
  },
  {
   "cell_type": "code",
   "execution_count": 37,
   "metadata": {
    "hidden": true
   },
   "outputs": [
    {
     "name": "stdout",
     "output_type": "stream",
     "text": [
      "{'product_name': 'Banana Chips Sweetened (Whole)', 'brands': '', 'created_date': '2017-03-09', 'last_modified_date': '2017-03-09', 'serving_size': '28.0 g', 'energy_100g': '2243.0', 'fat_100g': '28.57', 'carbohydrates_100g': '64.29', 'sugars_100g': '14.29', 'proteins_100g': '3.57'}\n"
     ]
    }
   ],
   "source": [
    "# Print OrderedDict from first row of CSV file \n",
    "with open(csv_file_path, 'r',encoding = 'utf-8') as file:\n",
    "    reader = csv.DictReader(file)\n",
    "    print(next(reader))"
   ]
  },
  {
   "cell_type": "markdown",
   "metadata": {
    "hidden": true
   },
   "source": [
    "Let's get all of the data out of our file and into dictionaries, and store those dictionaries in a new list called `sales`."
   ]
  },
  {
   "cell_type": "code",
   "execution_count": 51,
   "metadata": {
    "hidden": true
   },
   "outputs": [],
   "source": [
    "# Create sales list from csv file\n",
    "sales = []\n",
    "with open(csv_file_path, 'r',encoding = 'utf-8') as file:\n",
    "    reader = csv.DictReader(file)\n",
    "    for row in reader:\n",
    "        sales.append(row)"
   ]
  },
  {
   "cell_type": "code",
   "execution_count": 39,
   "metadata": {
    "hidden": true
   },
   "outputs": [
    {
     "data": {
      "text/plain": [
       "[{'product_name': 'Banana Chips Sweetened (Whole)',\n",
       "  'brands': '',\n",
       "  'created_date': '2017-03-09',\n",
       "  'last_modified_date': '2017-03-09',\n",
       "  'serving_size': '28.0 g',\n",
       "  'energy_100g': '2243.0',\n",
       "  'fat_100g': '28.57',\n",
       "  'carbohydrates_100g': '64.29',\n",
       "  'sugars_100g': '14.29',\n",
       "  'proteins_100g': '3.57'},\n",
       " {'product_name': 'Peanuts',\n",
       "  'brands': 'Torn & Glasser',\n",
       "  'created_date': '2017-03-09',\n",
       "  'last_modified_date': '2017-03-09',\n",
       "  'serving_size': '28.0 g',\n",
       "  'energy_100g': '1941.0',\n",
       "  'fat_100g': '17.86',\n",
       "  'carbohydrates_100g': '60.71',\n",
       "  'sugars_100g': '17.86',\n",
       "  'proteins_100g': '17.86'},\n",
       " {'product_name': 'Organic Salted Nut Mix',\n",
       "  'brands': 'Grizzlies',\n",
       "  'created_date': '2017-03-09',\n",
       "  'last_modified_date': '2017-03-09',\n",
       "  'serving_size': '28.0 g',\n",
       "  'energy_100g': '2540.0',\n",
       "  'fat_100g': '57.14',\n",
       "  'carbohydrates_100g': '17.86',\n",
       "  'sugars_100g': '3.57',\n",
       "  'proteins_100g': '17.86'}]"
      ]
     },
     "execution_count": 39,
     "metadata": {},
     "output_type": "execute_result"
    }
   ],
   "source": [
    "# Check first three rows\n",
    "sales[:3]"
   ]
  },
  {
   "cell_type": "markdown",
   "metadata": {
    "heading_collapsed": true
   },
   "source": [
    "# Data Preparation"
   ]
  },
  {
   "cell_type": "markdown",
   "metadata": {
    "hidden": true
   },
   "source": [
    "Now that we've gotten all of our data into a Python object, we can prepare it for analysis. Let's look at a sample observation and consider how we might want to process it to make it easier to analyze."
   ]
  },
  {
   "cell_type": "code",
   "execution_count": 42,
   "metadata": {
    "hidden": true
   },
   "outputs": [
    {
     "data": {
      "text/plain": [
       "{'product_name': 'Banana Chips Sweetened (Whole)',\n",
       " 'brands': '',\n",
       " 'created_date': '2017-03-09',\n",
       " 'last_modified_date': '2017-03-09',\n",
       " 'serving_size': '28.0 g',\n",
       " 'energy_100g': '2243.0',\n",
       " 'fat_100g': '28.57',\n",
       " 'carbohydrates_100g': '64.29',\n",
       " 'sugars_100g': '14.29',\n",
       " 'proteins_100g': '3.57'}"
      ]
     },
     "execution_count": 42,
     "metadata": {},
     "output_type": "execute_result"
    }
   ],
   "source": [
    "# look at first one\n",
    "sales[0]"
   ]
  },
  {
   "cell_type": "markdown",
   "metadata": {
    "hidden": true
   },
   "source": [
    "**Discussion:** How might you clean these data to make them easier to analyze?"
   ]
  },
  {
   "cell_type": "markdown",
   "metadata": {
    "heading_collapsed": true,
    "hidden": true
   },
   "source": [
    "## Clean the Sale Prices"
   ]
  },
  {
   "cell_type": "markdown",
   "metadata": {
    "hidden": true
   },
   "source": [
    "First, let's convert the sale prices from strings to numbers, so we can do arithmetic with them. For example, we could calculate the average price."
   ]
  },
  {
   "cell_type": "code",
   "execution_count": 52,
   "metadata": {
    "hidden": true
   },
   "outputs": [],
   "source": [
    "# Cast sale price to int\n",
    "for sale in sales:\n",
    "    sale['serving_size'] = float(sale['serving_size'].strip(' g'))\n",
    "    \n",
    "    for key, value in sale.items():\n",
    "        if '100g' in key:\n",
    "            try:\n",
    "                sale[key] = float(value)\n",
    "            except:\n",
    "                sale[key] = 0.0"
   ]
  },
  {
   "cell_type": "code",
   "execution_count": null,
   "metadata": {
    "hidden": true
   },
   "outputs": [],
   "source": [
    "#optionally\n"
   ]
  },
  {
   "cell_type": "code",
   "execution_count": 53,
   "metadata": {
    "hidden": true
   },
   "outputs": [
    {
     "data": {
      "text/plain": [
       "{'product_name': 'Banana Chips Sweetened (Whole)',\n",
       " 'brands': '',\n",
       " 'created_date': '2017-03-09',\n",
       " 'last_modified_date': '2017-03-09',\n",
       " 'serving_size': 28.0,\n",
       " 'energy_100g': 2243.0,\n",
       " 'fat_100g': 28.57,\n",
       " 'carbohydrates_100g': 64.29,\n",
       " 'sugars_100g': 14.29,\n",
       " 'proteins_100g': 3.57}"
      ]
     },
     "execution_count": 53,
     "metadata": {},
     "output_type": "execute_result"
    }
   ],
   "source": [
    "# Examine\n",
    "sales[0]"
   ]
  },
  {
   "cell_type": "markdown",
   "metadata": {
    "heading_collapsed": true,
    "hidden": true
   },
   "source": [
    "## Clean the Dates"
   ]
  },
  {
   "cell_type": "markdown",
   "metadata": {
    "hidden": true
   },
   "source": [
    "Next we'll clean the dates so that we can easily get the month and year of each sale. "
   ]
  },
  {
   "cell_type": "code",
   "execution_count": null,
   "metadata": {
    "hidden": true
   },
   "outputs": [],
   "source": [
    "# Clean Dates\n"
   ]
  },
  {
   "cell_type": "markdown",
   "metadata": {
    "heading_collapsed": true,
    "hidden": true
   },
   "source": [
    "### Using Python built-in methods"
   ]
  },
  {
   "cell_type": "markdown",
   "metadata": {
    "hidden": true
   },
   "source": [
    "**Activity**: Process the `sales` list to add numeric values for month and year to each entry."
   ]
  },
  {
   "cell_type": "code",
   "execution_count": 54,
   "metadata": {
    "hidden": true
   },
   "outputs": [
    {
     "data": {
      "text/plain": [
       "'2017'"
      ]
     },
     "execution_count": 54,
     "metadata": {},
     "output_type": "execute_result"
    }
   ],
   "source": [
    "# Your work here\n",
    "sales[0]['created_date'][0:4]"
   ]
  },
  {
   "cell_type": "code",
   "execution_count": 58,
   "metadata": {
    "hidden": true
   },
   "outputs": [],
   "source": [
    "# Or\n",
    "sales[0]['created_date'].split(\"-\")\n"
   ]
  },
  {
   "cell_type": "code",
   "execution_count": 60,
   "metadata": {},
   "outputs": [],
   "source": [
    "created_year, created_month, created_day = [int(elem) for elem in sales[0]['created_date'].split(\"-\")]"
   ]
  },
  {
   "cell_type": "code",
   "execution_count": 63,
   "metadata": {
    "hidden": true
   },
   "outputs": [],
   "source": [
    "for sale in sales:\n",
    "    year, month, day = [int(elem) for elem in sale['created_date'].split(\"-\")]\n",
    "    sale['created_year'] = year\n",
    "    sale['created_month'] = month\n",
    "    sale['created_day'] = day"
   ]
  },
  {
   "cell_type": "code",
   "execution_count": 64,
   "metadata": {},
   "outputs": [
    {
     "data": {
      "text/plain": [
       "[{'product_name': 'Banana Chips Sweetened (Whole)',\n",
       "  'brands': '',\n",
       "  'created_date': '2017-03-09',\n",
       "  'last_modified_date': '2017-03-09',\n",
       "  'serving_size': 28.0,\n",
       "  'energy_100g': 2243.0,\n",
       "  'fat_100g': 28.57,\n",
       "  'carbohydrates_100g': 64.29,\n",
       "  'sugars_100g': 14.29,\n",
       "  'proteins_100g': 3.57,\n",
       "  'created_year': 2017,\n",
       "  'created_month': 3,\n",
       "  'created_day': 9},\n",
       " {'product_name': 'Peanuts',\n",
       "  'brands': 'Torn & Glasser',\n",
       "  'created_date': '2017-03-09',\n",
       "  'last_modified_date': '2017-03-09',\n",
       "  'serving_size': 28.0,\n",
       "  'energy_100g': 1941.0,\n",
       "  'fat_100g': 17.86,\n",
       "  'carbohydrates_100g': 60.71,\n",
       "  'sugars_100g': 17.86,\n",
       "  'proteins_100g': 17.86,\n",
       "  'created_year': 2017,\n",
       "  'created_month': 3,\n",
       "  'created_day': 9},\n",
       " {'product_name': 'Organic Salted Nut Mix',\n",
       "  'brands': 'Grizzlies',\n",
       "  'created_date': '2017-03-09',\n",
       "  'last_modified_date': '2017-03-09',\n",
       "  'serving_size': 28.0,\n",
       "  'energy_100g': 2540.0,\n",
       "  'fat_100g': 57.14,\n",
       "  'carbohydrates_100g': 17.86,\n",
       "  'sugars_100g': 3.57,\n",
       "  'proteins_100g': 17.86,\n",
       "  'created_year': 2017,\n",
       "  'created_month': 3,\n",
       "  'created_day': 9}]"
      ]
     },
     "execution_count": 64,
     "metadata": {},
     "output_type": "execute_result"
    }
   ],
   "source": [
    "sales[:3]"
   ]
  },
  {
   "cell_type": "markdown",
   "metadata": {
    "heading_collapsed": true
   },
   "source": [
    "# Data Analysis"
   ]
  },
  {
   "cell_type": "markdown",
   "metadata": {
    "hidden": true
   },
   "source": [
    "Now that you have a cleaned list with the property sales data, we can finally start to perform some data analysis."
   ]
  },
  {
   "cell_type": "markdown",
   "metadata": {
    "heading_collapsed": true,
    "hidden": true
   },
   "source": [
    "## Question 1: What is the range of years for which we have sales data?"
   ]
  },
  {
   "cell_type": "markdown",
   "metadata": {
    "hidden": true
   },
   "source": [
    "`max(list)` maximum value in a list\n",
    "\n",
    "`min(list)` minimum value in a list"
   ]
  },
  {
   "cell_type": "code",
   "execution_count": 72,
   "metadata": {
    "hidden": true
   },
   "outputs": [
    {
     "name": "stdout",
     "output_type": "stream",
     "text": [
      "2017 2012\n"
     ]
    }
   ],
   "source": [
    "## Your work here\n",
    "years = [sale['created_year'] for sale in sales]\n",
    "print(max(years), min(years))"
   ]
  },
  {
   "cell_type": "markdown",
   "metadata": {
    "heading_collapsed": true,
    "hidden": true
   },
   "source": [
    "## Question 2: How many properties sold in 2020?"
   ]
  },
  {
   "cell_type": "markdown",
   "metadata": {
    "hidden": true
   },
   "source": [
    "`len(list)` = how many elements in list"
   ]
  },
  {
   "cell_type": "code",
   "execution_count": null,
   "metadata": {
    "hidden": true
   },
   "outputs": [],
   "source": [
    "## Your work here\n"
   ]
  },
  {
   "cell_type": "markdown",
   "metadata": {
    "heading_collapsed": true,
    "hidden": true
   },
   "source": [
    "## Question 3: What was the mean sale price in 2020?"
   ]
  },
  {
   "cell_type": "markdown",
   "metadata": {
    "hidden": true
   },
   "source": [
    "`sum(list)` = sum of all elements"
   ]
  },
  {
   "cell_type": "code",
   "execution_count": 1,
   "metadata": {
    "ExecuteTime": {
     "end_time": "2022-06-30T02:27:25.661305Z",
     "start_time": "2022-06-30T02:27:25.659215Z"
    },
    "hidden": true
   },
   "outputs": [],
   "source": [
    "## Your work here\n"
   ]
  },
  {
   "cell_type": "markdown",
   "metadata": {
    "heading_collapsed": true,
    "hidden": true
   },
   "source": [
    "## Question 4: How many properties sold in each year?"
   ]
  },
  {
   "cell_type": "markdown",
   "metadata": {
    "hidden": true
   },
   "source": [
    "`set` create a unique \"set\" of items"
   ]
  },
  {
   "cell_type": "code",
   "execution_count": null,
   "metadata": {
    "hidden": true
   },
   "outputs": [],
   "source": [
    "## Your work here\n"
   ]
  },
  {
   "cell_type": "markdown",
   "metadata": {
    "heading_collapsed": true
   },
   "source": [
    "# Chart the Data"
   ]
  },
  {
   "cell_type": "markdown",
   "metadata": {
    "hidden": true
   },
   "source": [
    "This `list` of `tuples` is helpful, but it takes a lot of effort to read it and make sense of the trends - let's visualize the results to make this easier."
   ]
  },
  {
   "cell_type": "code",
   "execution_count": null,
   "metadata": {
    "hidden": true
   },
   "outputs": [],
   "source": [
    "from matplotlib import pyplot as plt"
   ]
  },
  {
   "cell_type": "code",
   "execution_count": null,
   "metadata": {
    "hidden": true,
    "scrolled": true
   },
   "outputs": [],
   "source": [
    "## Ensuring we have the data coded in earlier questions\n",
    "\n",
    "# Sale Years\n",
    "for sale in sales:\n",
    "    # Save the document date to a variable\n",
    "    string_date = sale[\"DocumentDate\"]\n",
    "\n",
    "    # Extract the sale year and month from the string, and cast to int\n",
    "    sale_year = int(string_date[6:10])\n",
    "    sale_month = int(string_date[0:2])    \n",
    "\n",
    "    # Add the sale year and month to each dictionary element of sales\n",
    "    sale[\"sale_year\"] = sale_year\n",
    "    sale[\"sale_month\"] = sale_month\n",
    "\n",
    "# Sale Years Count\n",
    "sale_year_count = []\n",
    "sale_years = [sale['sale_year'] for sale in sales]\n",
    "unique_sale_years = set(sale_years)\n",
    "for unique_year in unique_sale_years:\n",
    "    num_sales = len([year for year in sale_years if year == unique_year])\n",
    "    sale_year_count.append((unique_year, num_sales))"
   ]
  },
  {
   "cell_type": "code",
   "execution_count": null,
   "metadata": {
    "hidden": true
   },
   "outputs": [],
   "source": [
    "# create a figure and one plot\n",
    "fig, ax = plt.subplots(nrows=1, ncols=1, figsize=(10, 5))\n",
    "\n",
    "# place data in a bar chart \n",
    "# where the x-axis is each year and \n",
    "# the y-axis is the number of sales per year\n",
    "ax.bar(x=[sale[0] for sale in sale_year_count],\n",
    "       height=[sale[1] for sale in sale_year_count])\n",
    "\n",
    "# set axis labels\n",
    "ax.set_xlabel(\"Year\")\n",
    "ax.set_ylabel(\"Number of property sales\")\n",
    "\n",
    "# give the bar chart a title\n",
    "ax.set_title(\"Property sales in King County, WA (1900 to 2021)\")\n",
    "\n",
    "# display bar chart clearly\n",
    "fig.tight_layout()"
   ]
  },
  {
   "cell_type": "markdown",
   "metadata": {
    "hidden": true
   },
   "source": [
    "**Discussion:** What can we learn from this graph?"
   ]
  },
  {
   "cell_type": "markdown",
   "metadata": {
    "heading_collapsed": true
   },
   "source": [
    "# Level Up: `Counter`"
   ]
  },
  {
   "cell_type": "markdown",
   "metadata": {
    "hidden": true
   },
   "source": [
    "The `collections` package has a lot of useful tools for working with Python objects containing multiple elements. You can use the `Counter` class to easily count the number of values in a list.\n",
    "\n",
    "For example, let's say that for all dictionaries in `sales`, we want to count how many property sales occured in each year. "
   ]
  },
  {
   "cell_type": "code",
   "execution_count": 2,
   "metadata": {
    "ExecuteTime": {
     "end_time": "2022-06-30T02:30:51.358257Z",
     "start_time": "2022-06-30T02:30:51.355957Z"
    },
    "hidden": true
   },
   "outputs": [],
   "source": [
    "from collections import Counter"
   ]
  },
  {
   "cell_type": "code",
   "execution_count": null,
   "metadata": {
    "hidden": true
   },
   "outputs": [],
   "source": [
    "sale_year_count = Counter(  [sale['sale_year'] for sale in sales ]   )\n",
    "\n",
    "sale_year_count"
   ]
  },
  {
   "cell_type": "markdown",
   "metadata": {
    "hidden": true
   },
   "source": [
    "Let's sort these by year. Since the value in `sale_year` is an integer, we can use Python's built-in [`sorted`](https://docs.python.org/3/library/functions.html#sorted) function to transform the `Counter` object into a `list` of `tuples` - `(year, count)` which are sorted in ascending order by year."
   ]
  },
  {
   "cell_type": "code",
   "execution_count": null,
   "metadata": {
    "hidden": true
   },
   "outputs": [],
   "source": [
    "sale_year_count = sorted(sale_year_count.items(), key= sale_year_count.values() )\n",
    "sale_year_count"
   ]
  },
  {
   "cell_type": "markdown",
   "metadata": {
    "heading_collapsed": true
   },
   "source": [
    "# Level Up: Using `datetime`"
   ]
  },
  {
   "cell_type": "markdown",
   "metadata": {
    "hidden": true
   },
   "source": [
    "Python has a [`datetime`](https://docs.python.org/3.7/library/datetime.html) package that is the standard tool for handling dates and times. `datetime` objects make it easy to do fun things like subtract dates to calculate how far apart they are."
   ]
  },
  {
   "cell_type": "code",
   "execution_count": null,
   "metadata": {
    "hidden": true
   },
   "outputs": [],
   "source": [
    "sales[0]"
   ]
  },
  {
   "cell_type": "code",
   "execution_count": null,
   "metadata": {
    "hidden": true
   },
   "outputs": [],
   "source": [
    "from datetime import datetime"
   ]
  },
  {
   "cell_type": "code",
   "execution_count": null,
   "metadata": {
    "hidden": true
   },
   "outputs": [],
   "source": [
    "for sale in sales:\n",
    "    # Transform DocumentDate from string to datetime\n",
    "    sale[\"clean_date\"] = datetime.strptime(sale[\"DocumentDate\"], \n",
    "                                           \"%m/%d/%Y\")\n",
    "    \n",
    "    # Add the sale year and month to each dictionary element of sales\n",
    "    sale[\"sale_year\"] = sale[\"clean_date\"].year\n",
    "    sale[\"sale_month\"] = sale[\"clean_date\"].month"
   ]
  },
  {
   "cell_type": "markdown",
   "metadata": {
    "hidden": true
   },
   "source": [
    "Let's inspect our work"
   ]
  },
  {
   "cell_type": "code",
   "execution_count": null,
   "metadata": {
    "hidden": true
   },
   "outputs": [],
   "source": [
    "sales[0]"
   ]
  }
 ],
 "metadata": {
  "kernelspec": {
   "display_name": "Python 3",
   "language": "python",
   "name": "python3"
  },
  "language_info": {
   "codemirror_mode": {
    "name": "ipython",
    "version": 3
   },
   "file_extension": ".py",
   "mimetype": "text/x-python",
   "name": "python",
   "nbconvert_exporter": "python",
   "pygments_lexer": "ipython3",
   "version": "3.8.5"
  },
  "toc": {
   "base_numbering": 1,
   "nav_menu": {},
   "number_sections": true,
   "sideBar": true,
   "skip_h1_title": false,
   "title_cell": "Table of Contents",
   "title_sidebar": "Contents",
   "toc_cell": true,
   "toc_position": {
    "height": "calc(100% - 180px)",
    "left": "10px",
    "top": "150px",
    "width": "165px"
   },
   "toc_section_display": true,
   "toc_window_display": true
  },
  "varInspector": {
   "cols": {
    "lenName": 16,
    "lenType": 16,
    "lenVar": 40
   },
   "kernels_config": {
    "python": {
     "delete_cmd_postfix": "",
     "delete_cmd_prefix": "del ",
     "library": "var_list.py",
     "varRefreshCmd": "print(var_dic_list())"
    },
    "r": {
     "delete_cmd_postfix": ") ",
     "delete_cmd_prefix": "rm(",
     "library": "var_list.r",
     "varRefreshCmd": "cat(var_dic_list()) "
    }
   },
   "types_to_exclude": [
    "module",
    "function",
    "builtin_function_or_method",
    "instance",
    "_Feature"
   ],
   "window_display": true
  }
 },
 "nbformat": 4,
 "nbformat_minor": 2
}
